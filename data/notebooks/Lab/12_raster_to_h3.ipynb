{
 "cells": [
  {
   "cell_type": "code",
   "execution_count": 13,
   "metadata": {
    "collapsed": true,
    "ExecuteTime": {
     "start_time": "2023-04-14T09:18:40.689466Z",
     "end_time": "2023-04-14T09:18:40.731285Z"
    }
   },
   "outputs": [],
   "source": [
    "from collections import defaultdict\n",
    "\n",
    "import geopandas as gpd\n",
    "import h3\n",
    "import h3ronpy.raster\n",
    "import numpy as np\n",
    "import rasterio as rio\n",
    "from shapely.geometry import Polygon\n",
    "\n",
    "\n",
    "def raster_to_h3(raster_path: str, h3_resolution: int, method: str = \"mean\") -> gpd.GeoDataFrame:\n",
    "    with rio.open(raster_path) as src:\n",
    "        array = src.read(1)\n",
    "        affine = src.transform\n",
    "        nodata = src.nodata\n",
    "\n",
    "    # Create an H3 index for each pixel center\n",
    "    x, y = np.meshgrid(np.arange(array.shape[1]), np.arange(array.shape[0]))\n",
    "    x_coords, y_coords = rio.transform.xy(affine, y.flatten(), x.flatten())\n",
    "    h3_indices = [h3.latlng_to_cell(y, x, h3_resolution) for y, x in zip(y_coords, x_coords)]\n",
    "\n",
    "    # Calculate average values within each H3 cell\n",
    "    h3_values = defaultdict(list)\n",
    "    for h3_index, value in zip(h3_indices, array.flatten()):\n",
    "        if value != nodata:\n",
    "            h3_values[h3_index].append(value)\n",
    "    resampling_method = getattr(np, method)  # I have a feeling this is a bad idea\n",
    "    h3_avg_values = {h3_index: resampling_method(values) for h3_index, values in h3_values.items()}\n",
    "\n",
    "    # Create a GeoDataFrame\n",
    "    data = {\"h3index\": list(h3_avg_values.keys()), \"value\": list(h3_avg_values.values())}\n",
    "    gdf = gpd.GeoDataFrame(\n",
    "        data,\n",
    "        geometry=[Polygon(h3.cell_to_boundary(h, geo_json=True)) for h in h3_avg_values.keys()],\n",
    "    )\n",
    "    return gdf\n"
   ]
  },
  {
   "cell_type": "code",
   "execution_count": 10,
   "outputs": [
    {
     "name": "stdout",
     "output_type": "stream",
     "text": [
      "Archive:  CroplandPastureArea2000_Geotiff.zip\r\n",
      "  inflating: CroplandPastureArea2000_Geotiff/Cropland2000_5m.tfw  \r\n",
      "  inflating: CroplandPastureArea2000_Geotiff/Cropland2000_5m.tif  \r\n",
      "  inflating: CroplandPastureArea2000_Geotiff/Cropland2000_5m.tif.aux.xml  \r\n",
      "  inflating: CroplandPastureArea2000_Geotiff/Cropland2000_5m.tif.ovr  \r\n",
      "  inflating: CroplandPastureArea2000_Geotiff/CroplandArea2000.png  \r\n",
      "  inflating: CroplandPastureArea2000_Geotiff/METADATA_CroplandPastureArea2000_June2018.pdf  \r\n",
      "  inflating: CroplandPastureArea2000_Geotiff/Pasture2000_5m.tfw  \r\n",
      "  inflating: CroplandPastureArea2000_Geotiff/Pasture2000_5m.tif  \r\n",
      "  inflating: CroplandPastureArea2000_Geotiff/Pasture2000_5m.tif.aux.xml  \r\n",
      "  inflating: CroplandPastureArea2000_Geotiff/Pasture2000_5m.tif.ovr  \r\n",
      "  inflating: CroplandPastureArea2000_Geotiff/PastureArea2000.png  \r\n",
      "  inflating: CroplandPastureArea2000_Geotiff/Ramankutty_etal2008_FarmingthePlanet1.pdf  \r\n"
     ]
    }
   ],
   "source": [
    "! wget -q https: // s3.us-east-2.amazonaws.com/earthstatdata/CroplandPastureArea2000_Geotiff.zip\n",
    "! unzip -o CroplandPastureArea2000_Geotiff.zip\n",
    "! rm CroplandPastureArea2000_Geotiff.zip"
   ],
   "metadata": {
    "collapsed": false,
    "ExecuteTime": {
     "start_time": "2023-04-14T09:12:35.430846Z",
     "end_time": "2023-04-14T09:12:41.233064Z"
    }
   }
  },
  {
   "cell_type": "code",
   "execution_count": 14,
   "outputs": [
    {
     "name": "stdout",
     "output_type": "stream",
     "text": [
      "CPU times: user 1min 24s, sys: 636 ms, total: 1min 25s\n",
      "Wall time: 1min 24s\n"
     ]
    }
   ],
   "source": [
    "%%time\n",
    "df_custom_algo = raster_to_h3(\"CroplandPastureArea2000_Geotiff/Pasture2000_5m.tif\", 5)"
   ],
   "metadata": {
    "collapsed": false,
    "ExecuteTime": {
     "start_time": "2023-04-14T09:18:45.268486Z",
     "end_time": "2023-04-14T09:20:10.286754Z"
    }
   }
  },
  {
   "cell_type": "code",
   "execution_count": 25,
   "outputs": [
    {
     "name": "stdout",
     "output_type": "stream",
     "text": [
      "CPU times: user 6.84 s, sys: 349 ms, total: 7.19 s\n",
      "Wall time: 4.26 s\n"
     ]
    }
   ],
   "source": [
    "%%time\n",
    "with rio.open(\"CroplandPastureArea2000_Geotiff/Pasture2000_5m.tif\") as src:\n",
    "    array = src.read(1)\n",
    "    affine = src.transform\n",
    "    nodata = src.nodata\n",
    "df_h3ronpy = h3ronpy.raster.raster_to_dataframe(array, affine, 5, nodata_value=nodata)\n",
    "df_h3ronpy = gpd.GeoDataFrame(\n",
    "    df_h3ronpy,\n",
    "    geometry=[Polygon(h3.cell_to_boundary(hex(h), geo_json=True)) for h in df_h3ronpy[\"h3index\"]]\n",
    ")"
   ],
   "metadata": {
    "collapsed": false,
    "ExecuteTime": {
     "start_time": "2023-04-14T09:30:31.954377Z",
     "end_time": "2023-04-14T09:30:36.210627Z"
    }
   }
  },
  {
   "cell_type": "code",
   "execution_count": 27,
   "outputs": [],
   "source": [
    "df_h3ronpy.to_file('res_h3ronpy.geojson', driver='GeoJSON')\n",
    "df_custom_algo.to_file('res_custom_algo.geojson', driver='GeoJSON')\n"
   ],
   "metadata": {
    "collapsed": false,
    "ExecuteTime": {
     "start_time": "2023-04-14T09:32:03.575455Z",
     "end_time": "2023-04-14T09:33:32.807570Z"
    }
   }
  }
 ],
 "metadata": {
  "kernelspec": {
   "display_name": "Python 3",
   "language": "python",
   "name": "python3"
  },
  "language_info": {
   "codemirror_mode": {
    "name": "ipython",
    "version": 2
   },
   "file_extension": ".py",
   "mimetype": "text/x-python",
   "name": "python",
   "nbconvert_exporter": "python",
   "pygments_lexer": "ipython2",
   "version": "2.7.6"
  }
 },
 "nbformat": 4,
 "nbformat_minor": 0
}
