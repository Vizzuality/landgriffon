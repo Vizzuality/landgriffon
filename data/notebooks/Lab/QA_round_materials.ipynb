{
 "cells": [
  {
   "cell_type": "code",
   "execution_count": 1,
   "metadata": {},
   "outputs": [],
   "source": [
    "import re\n",
    "from pathlib import Path\n",
    "\n",
    "import numpy as np\n",
    "import rasterio as rio\n",
    "from psycopg import connect\n",
    "from tqdm.notebook import tqdm"
   ]
  },
  {
   "cell_type": "markdown",
   "metadata": {},
   "source": [
    "## Rounded Earthstat"
   ]
  },
  {
   "cell_type": "code",
   "execution_count": 2,
   "metadata": {},
   "outputs": [],
   "source": [
    "# check if earthstat rasters are properly rounded\n",
    "earthstat_base_path = Path(\"../../h3_data_importer/data/earthstat/\")\n",
    "with rio.open(earthstat_base_path / \"earthstat2000_global_prod/earthstat2000_global_abaca_production.tif\") as r:\n",
    "    arr = r.read(1)"
   ]
  },
  {
   "cell_type": "code",
   "execution_count": 3,
   "metadata": {},
   "outputs": [
    {
     "name": "stdout",
     "output_type": "stream",
     "text": [
      "80.5969\n",
      "1e-04\n"
     ]
    }
   ],
   "source": [
    "print(np.max(arr))\n",
    "print(np.min(arr[arr > 0]))"
   ]
  },
  {
   "cell_type": "code",
   "execution_count": 4,
   "metadata": {},
   "outputs": [],
   "source": [
    "with rio.open(earthstat_base_path / \"earthstat2000_global_prod_unprocessed/abaca_Production.tif\") as r:\n",
    "    arr_no_round = r.read(1)"
   ]
  },
  {
   "cell_type": "code",
   "execution_count": 5,
   "metadata": {},
   "outputs": [
    {
     "name": "stdout",
     "output_type": "stream",
     "text": [
      "80.596924\n",
      "1.04898646e-07\n"
     ]
    }
   ],
   "source": [
    "print(np.max(arr_no_round))\n",
    "print(np.min(arr_no_round[arr_no_round > 0]))"
   ]
  },
  {
   "cell_type": "code",
   "execution_count": 6,
   "metadata": {},
   "outputs": [],
   "source": [
    "np.testing.assert_almost_equal(np.round(arr_no_round, 4), arr)"
   ]
  },
  {
   "cell_type": "markdown",
   "metadata": {},
   "source": [
    "### Production"
   ]
  },
  {
   "cell_type": "code",
   "execution_count": 7,
   "metadata": {},
   "outputs": [],
   "source": [
    "earthstat_rounded_rasters = sorted(list((earthstat_base_path / \"earthstat2000_global_prod\").glob(\"*.tif\")))\n",
    "earthstat_unprocessed_base = earthstat_base_path / \"earthstat2000_global_prod_unprocessed\"\n",
    "earthstat_unprocessed_rasters = sorted(list(earthstat_unprocessed_base.glob(\"*.tif\")))"
   ]
  },
  {
   "cell_type": "code",
   "execution_count": 8,
   "metadata": {},
   "outputs": [
    {
     "data": {
      "text/plain": [
       "175"
      ]
     },
     "execution_count": 8,
     "metadata": {},
     "output_type": "execute_result"
    }
   ],
   "source": [
    "len(earthstat_unprocessed_rasters)"
   ]
  },
  {
   "cell_type": "code",
   "execution_count": 9,
   "metadata": {},
   "outputs": [
    {
     "data": {
      "text/plain": [
       "182"
      ]
     },
     "execution_count": 9,
     "metadata": {},
     "output_type": "execute_result"
    }
   ],
   "source": [
    "len(earthstat_rounded_rasters)"
   ]
  },
  {
   "cell_type": "markdown",
   "metadata": {},
   "source": [
    "Lengths don't match because in `extract-earthstat-crop-production` we create new rasters result of some map algebras"
   ]
  },
  {
   "cell_type": "code",
   "execution_count": 10,
   "metadata": {},
   "outputs": [
    {
     "data": {
      "text/plain": [
       "['abaca', 'agave', 'alfalfa']"
      ]
     },
     "execution_count": 10,
     "metadata": {},
     "output_type": "execute_result"
    }
   ],
   "source": [
    "# match the names of crop from the raw rasters\n",
    "patt = r\"(.*)\\_Production\"\n",
    "unprocessed_names_crop = [re.match(patt, s.name).groups()[0] for s in earthstat_unprocessed_rasters]\n",
    "unprocessed_names_crop[:3]"
   ]
  },
  {
   "cell_type": "code",
   "execution_count": 11,
   "metadata": {},
   "outputs": [
    {
     "data": {
      "text/plain": [
       "['abaca', 'agave', 'alfalfa']"
      ]
     },
     "execution_count": 11,
     "metadata": {},
     "output_type": "execute_result"
    }
   ],
   "source": [
    "# match the names of crop from the rounded rasters\n",
    "patt = r\"earthstat2000\\_global\\_(.*)\\_production\"\n",
    "rounded_names = [re.match(patt, x.name).groups()[0] for x in earthstat_rounded_rasters]\n",
    "rounded_names[:3]"
   ]
  },
  {
   "cell_type": "code",
   "execution_count": 12,
   "metadata": {},
   "outputs": [
    {
     "data": {
      "text/plain": [
       "True"
      ]
     },
     "execution_count": 12,
     "metadata": {},
     "output_type": "execute_result"
    }
   ],
   "source": [
    "len(rounded_names) == len(earthstat_rounded_rasters)"
   ]
  },
  {
   "cell_type": "code",
   "execution_count": 13,
   "metadata": {},
   "outputs": [],
   "source": [
    "earthstat_rounded_rasters_clean = [\n",
    "    earthstat_rounded_rasters[i] for i, name in enumerate(rounded_names) if name in unprocessed_names_crop\n",
    "]"
   ]
  },
  {
   "cell_type": "code",
   "execution_count": 14,
   "metadata": {},
   "outputs": [
    {
     "data": {
      "application/vnd.jupyter.widget-view+json": {
       "model_id": "23fef5cd8f4248f6adcb34b80bb12800",
       "version_major": 2,
       "version_minor": 0
      },
      "text/plain": [
       "  0%|          | 0/175 [00:00<?, ?it/s]"
      ]
     },
     "metadata": {},
     "output_type": "display_data"
    }
   ],
   "source": [
    "pbar = tqdm(\n",
    "    zip(sorted(earthstat_rounded_rasters_clean), sorted(earthstat_unprocessed_rasters)),\n",
    "    total=len(earthstat_unprocessed_rasters),\n",
    ")\n",
    "\n",
    "for rounded, not_rounded in pbar:\n",
    "    pbar.set_description(f\"Comparing {rounded.name} and {not_rounded.name}\")\n",
    "    with rio.open(rounded) as r_rounded:\n",
    "        arr_rounded = r_rounded.read()\n",
    "        # convert nans to 0s\n",
    "        arr_rounded = np.where(np.isnan(arr_rounded), 0, arr_rounded)\n",
    "        with rio.open(not_rounded) as r_not_rounded:\n",
    "            arr_not_rounded = r_not_rounded.read()\n",
    "            # convert nans to 0s\n",
    "            arr_not_rounded = np.where(np.isnan(arr_not_rounded), 0, arr_not_rounded)\n",
    "            np.testing.assert_almost_equal(np.round(arr_not_rounded, 4), arr_rounded, decimal=4)"
   ]
  },
  {
   "cell_type": "markdown",
   "metadata": {},
   "source": [
    "### Harvest"
   ]
  },
  {
   "cell_type": "code",
   "execution_count": 15,
   "metadata": {},
   "outputs": [
    {
     "name": "stdout",
     "output_type": "stream",
     "text": [
      "182 175\n"
     ]
    }
   ],
   "source": [
    "earthstat_ha_rounded_rasters = sorted(list((earthstat_base_path / \"earthstat2000_global_ha\").glob(\"*.tif\")))\n",
    "earthstat_unprocessed_base = earthstat_base_path / \"earthstat2000_global_ha_unprocessed\"\n",
    "earthstat_unprocessed_ha_rasters = sorted(list(earthstat_unprocessed_base.glob(\"*.tif\")))\n",
    "\n",
    "print(len(earthstat_ha_rounded_rasters), len(earthstat_unprocessed_ha_rasters))"
   ]
  },
  {
   "cell_type": "code",
   "execution_count": 16,
   "metadata": {},
   "outputs": [],
   "source": [
    "# reused the names from production\n",
    "earthstat_rounded_ha_rasters_clean = [\n",
    "    earthstat_ha_rounded_rasters[i] for i, name in enumerate(rounded_names) if name in unprocessed_names_crop\n",
    "]"
   ]
  },
  {
   "cell_type": "code",
   "execution_count": 17,
   "metadata": {},
   "outputs": [
    {
     "data": {
      "application/vnd.jupyter.widget-view+json": {
       "model_id": "0e6f09b8327a41009100216b9219fc9a",
       "version_major": 2,
       "version_minor": 0
      },
      "text/plain": [
       "  0%|          | 0/175 [00:00<?, ?it/s]"
      ]
     },
     "metadata": {},
     "output_type": "display_data"
    }
   ],
   "source": [
    "pbar = tqdm(\n",
    "    zip(sorted(earthstat_rounded_ha_rasters_clean), sorted(earthstat_unprocessed_ha_rasters)),\n",
    "    total=len(earthstat_unprocessed_ha_rasters),\n",
    ")\n",
    "\n",
    "for rounded, not_rounded in pbar:\n",
    "    pbar.set_description(f\"Comparing {rounded.name} and {not_rounded.name}\")\n",
    "    with rio.open(rounded) as r_rounded:\n",
    "        arr_rounded = r_rounded.read()\n",
    "        # convert nans to 0s\n",
    "        arr_rounded = np.where(np.isnan(arr_rounded), 0, arr_rounded)\n",
    "        with rio.open(not_rounded) as r_not_rounded:\n",
    "            arr_not_rounded = r_not_rounded.read()\n",
    "            # convert nans to 0s\n",
    "            arr_not_rounded = np.where(np.isnan(arr_not_rounded), 0, arr_not_rounded)\n",
    "            np.testing.assert_almost_equal(np.round(arr_not_rounded, 4), arr_rounded, decimal=4)"
   ]
  },
  {
   "cell_type": "markdown",
   "metadata": {},
   "source": [
    "## Rounded Mapspam"
   ]
  },
  {
   "cell_type": "markdown",
   "metadata": {},
   "source": [
    "### Production"
   ]
  },
  {
   "cell_type": "code",
   "execution_count": 18,
   "metadata": {},
   "outputs": [],
   "source": [
    "mapsmap_base_path = Path(\"../../h3_data_importer/data/mapspam/spam2010v2r0_global_prod/\")\n",
    "with rio.open(mapsmap_base_path / \"spam2010V2r0_global_P_ACOF_A.tif\") as r:\n",
    "    arr_rounded = r.read(1)"
   ]
  },
  {
   "cell_type": "code",
   "execution_count": 19,
   "metadata": {},
   "outputs": [],
   "source": [
    "unprocessed_mapspam_base_path = Path(\"../../h3_data_importer/data/mapspam/spam2010v2r0_global_prod_unprocessed/\")\n",
    "with rio.open(unprocessed_mapspam_base_path / \"spam2010V2r0_global_P_ACOF_A.tif\") as r:\n",
    "    arr = r.read(1)"
   ]
  },
  {
   "cell_type": "code",
   "execution_count": 20,
   "metadata": {},
   "outputs": [],
   "source": [
    "np.testing.assert_almost_equal(arr, arr_rounded)"
   ]
  },
  {
   "cell_type": "code",
   "execution_count": 21,
   "metadata": {},
   "outputs": [],
   "source": [
    "rasters = mapsmap_base_path.glob(\"*.tif\")\n",
    "for raster in rasters:\n",
    "    with rio.open(raster) as src_rounded:\n",
    "        arr_rounded = src_rounded.read(1)\n",
    "    with rio.open(unprocessed_mapspam_base_path / raster.name) as src:\n",
    "        arr = src.read(1)\n",
    "    np.testing.assert_almost_equal(np.round(arr, 4), arr_rounded)"
   ]
  },
  {
   "cell_type": "markdown",
   "metadata": {},
   "source": [
    "### Harvest"
   ]
  },
  {
   "cell_type": "code",
   "execution_count": 22,
   "metadata": {},
   "outputs": [],
   "source": [
    "mapsmap_base_path_ha = Path(\"../../h3_data_importer/data/mapspam/spam2010v2r0_global_ha/\")\n",
    "unprocessed_mapspam_base_path_ha = Path(\"../../h3_data_importer/data/mapspam/spam2010v2r0_global_ha_unprocessed/\")"
   ]
  },
  {
   "cell_type": "code",
   "execution_count": 23,
   "metadata": {},
   "outputs": [],
   "source": [
    "rasters = mapsmap_base_path_ha.glob(\"*.tif\")\n",
    "for raster in rasters:\n",
    "    with rio.open(raster) as src_rounded:\n",
    "        arr_rounded = src_rounded.read(1)\n",
    "    with rio.open(unprocessed_mapspam_base_path_ha / raster.name) as src:\n",
    "        arr = src.read(1)\n",
    "    np.testing.assert_almost_equal(np.round(arr, 4), arr_rounded)"
   ]
  }
 ],
 "metadata": {
  "kernelspec": {
   "display_name": "Python 3 (ipykernel)",
   "language": "python",
   "name": "python3"
  },
  "language_info": {
   "codemirror_mode": {
    "name": "ipython",
    "version": 3
   },
   "file_extension": ".py",
   "mimetype": "text/x-python",
   "name": "python",
   "nbconvert_exporter": "python",
   "pygments_lexer": "ipython3",
   "version": "3.10.4"
  },
  "vscode": {
   "interpreter": {
    "hash": "6addb0d07f699a9d710e5c02e8d45032a9b3661e89b54ef82f51d0b80542df0d"
   }
  }
 },
 "nbformat": 4,
 "nbformat_minor": 4
}
