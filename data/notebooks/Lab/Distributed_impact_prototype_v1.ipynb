{
 "cells": [
  {
   "cell_type": "markdown",
   "id": "46db52ed",
   "metadata": {},
   "source": [
    "# Distributed probability map\n",
    "\n",
    "This notebook contains a prototype for the impact map using the scaler and the pointer:\n",
    "\n",
    "Basically the idea would be to query the sourcing location data using the clien filters, so for each georegion we will need to do the following:\n",
    "\n",
    "    distributed impact = (Value *  H3 prod values (pointer))/ Scaler\n",
    "    \n",
    "\n"
   ]
  },
  {
   "cell_type": "code",
   "execution_count": 3,
   "id": "ca1f2d40",
   "metadata": {},
   "outputs": [],
   "source": [
    "def psql(query):\n",
    "    try:\n",
    "        cursor.execute(query)\n",
    "        return cursor.fetchall()\n",
    "    except Exception as e:\n",
    "        conn.rollback()\n",
    "        print(e)"
   ]
  },
  {
   "cell_type": "code",
   "execution_count": 4,
   "id": "28926b6d",
   "metadata": {},
   "outputs": [],
   "source": [
    "#import libraries\n",
    "from psycopg2.pool import ThreadedConnectionPool\n",
    "import pandas as pd\n",
    "import json"
   ]
  },
  {
   "cell_type": "code",
   "execution_count": 5,
   "id": "105acb09",
   "metadata": {},
   "outputs": [
    {
     "data": {
      "text/plain": [
       "['API_SERVICE_PORT',\n",
       " 'API_POSTGRES_HOST',\n",
       " 'API_POSTGRES_PORT',\n",
       " 'API_POSTGRES_USERNAME',\n",
       " 'API_POSTGRES_PASSWORD',\n",
       " 'API_POSTGRES_DATABASE',\n",
       " 'CLIENT_SERVICE_PORT']"
      ]
     },
     "execution_count": 5,
     "metadata": {},
     "output_type": "execute_result"
    }
   ],
   "source": [
    "## env file for gcs upload\n",
    "env_path = \".env\"\n",
    "with open(env_path) as f:\n",
    "    env = {}\n",
    "    for line in f:\n",
    "        env_key, _val = line.split(\"=\", 1)\n",
    "        env_value = _val.split(\"\\n\")[0]\n",
    "        env[env_key] = env_value\n",
    "        \n",
    "list(env.keys())"
   ]
  },
  {
   "cell_type": "code",
   "execution_count": 6,
   "id": "f8ea5c39",
   "metadata": {},
   "outputs": [],
   "source": [
    "# conect to ddbb\n",
    "postgres_thread_pool = ThreadedConnectionPool(1, 50,\n",
    "                                              host=env['API_POSTGRES_HOST'],\n",
    "                                              port=env['API_POSTGRES_PORT'],\n",
    "                                              user=env['API_POSTGRES_USERNAME'],\n",
    "                                              password=env['API_POSTGRES_PASSWORD']\n",
    "                                              )\n",
    "#get list of sourcing records to iterate:\n",
    "conn = postgres_thread_pool.getconn()\n",
    "cursor = conn.cursor()"
   ]
  },
  {
   "cell_type": "code",
   "execution_count": 7,
   "id": "1ed9a9d8",
   "metadata": {},
   "outputs": [],
   "source": [
    "## SELECT FIRST THE GEOREGION\n",
    "SQL_GET_H3_UNCOMPACT_GEO_REGION = \"\"\"\n",
    "CREATE OR REPLACE FUNCTION get_h3_uncompact_geo_region(geo_region_id uuid, h3_resolution int)\n",
    "RETURNS TABLE (h3index h3index) AS \n",
    "$$\n",
    "    SELECT h3_uncompact(geo_region.\"h3Compact\"::h3index[], h3_resolution) h3index\n",
    "    FROM geo_region WHERE geo_region.id = geo_region_id\n",
    "$$ \n",
    "LANGUAGE SQL;\n",
    "\"\"\"\n",
    "\n",
    "SQL_GET_H3_MATERIAL_TABLE_COLUMN = \"\"\"\n",
    "CREATE OR REPLACE FUNCTION get_h3_material_table_column(h3DataId uuid)\n",
    "RETURNS TABLE (h3_table_name varchar, h3_column_name varchar) AS\n",
    "$$\n",
    "    SELECT h3_data.\"h3tableName\", h3_data.\"h3columnName\"\n",
    "    FROM h3_data\n",
    "    WHERE h3_data.id = h3DataId \n",
    "    LIMIT 1;\n",
    "$$\n",
    "LANGUAGE SQL;\n",
    "\"\"\"\n",
    "\n",
    "SQL_GET_H3_DATA_OVER_GEO_REGION = SQL_GET_H3_MATERIAL_TABLE_COLUMN+SQL_GET_H3_UNCOMPACT_GEO_REGION+\"\"\"\n",
    "CREATE OR REPLACE FUNCTION get_h3_data_over_georegion(\n",
    "    geo_region_id uuid, \n",
    "    h3DataId uuid\n",
    ")\n",
    "RETURNS TABLE (h3index h3index, value float) AS\n",
    "$$\n",
    "    DECLARE\n",
    "        material_h3_table_name varchar;\n",
    "        material_h3_column_name varchar;\n",
    "        h3_resolution integer := 6;\n",
    "        value float;\n",
    "\n",
    "    BEGIN\n",
    "        -- Get h3data table name and column name for given material\n",
    "        SELECT * INTO material_h3_table_name, material_h3_column_name\n",
    "        FROM get_h3_material_table_column(h3DataId);\n",
    "\n",
    "        -- Sum table column over region\n",
    "        RETURN QUERY EXECUTE format(\n",
    "            'SELECT \n",
    "                h3grid.h3index,\n",
    "                h3grid.%I::float\n",
    "                FROM\n",
    "                    get_h3_uncompact_geo_region($1, $2) geo_region\n",
    "                    INNER JOIN %I h3grid ON h3grid.h3index = geo_region.h3index\n",
    "            WHERE h3grid.%I > 0\n",
    "            ', material_h3_column_name, material_h3_table_name, material_h3_column_name)\n",
    "            USING geo_region_id, h3_resolution;\n",
    "    END;\n",
    "$$\n",
    "LANGUAGE plpgsql;\n",
    "\"\"\"\n"
   ]
  },
  {
   "cell_type": "code",
   "execution_count": 8,
   "id": "1a05ec35",
   "metadata": {},
   "outputs": [],
   "source": [
    "#filters that can be provided by the\n",
    "indicator_id = 'e2c00251-fe31-4330-8c38-604535d795dc'\n",
    "material_id = '52370288-8c6c-4f31-919c-d30538d39ee3'##palm oil -- we can select all material or specific ones\n",
    "origins = '998257ec-534d-4221-bc95-05e88c992a35'## admin region Id-- we need to get the paret and chlids to filter the sourcing locations \n",
    "#suppliers = 'f634e464-c9ca-469d-85d6-df3cd1877f26' suppliers/producers"
   ]
  },
  {
   "cell_type": "code",
   "execution_count": null,
   "id": "471d23ce",
   "metadata": {},
   "outputs": [],
   "source": [
    "df_impact_map = pd.read_sql_query(\n",
    "    SQL_GET_H3_DATA_OVER_GEO_REGION+\\\n",
    "    SQL_GET_H3_UNCOMPACT_GEO_REGION+\n",
    "    f\"\"\"\n",
    "        SELECT\n",
    "            h3data.h3index,\n",
    "            sum(h3data.value)\n",
    "        FROM sourcing_location sl\n",
    "        INNER JOIN sourcing_records sr ON sr.\"sourcingLocationId\" = sl.id \n",
    "        INNER JOIN indicator_record ir ON ir.\"sourcingRecordId\" = sr.id\n",
    "        INNER JOIN material_to_h3 mth ON mth.\"materialId\" = sl.\"materialId\", -- remove when h3DataId gets updated\n",
    "        LATERAL (\n",
    "            SELECT\n",
    "                h3index,\n",
    "                ir.value/ir.scaler * value as value\n",
    "            FROM get_h3_data_over_georegion(sl.\"geoRegionId\", mth.\"h3DataId\")\n",
    "        ) h3data\n",
    "        WHERE sr.year=2015\n",
    "        GROUP by h3data.h3index\"\"\"\n",
    ", conn)\n",
    "df_impact_map"
   ]
  },
  {
   "cell_type": "code",
   "execution_count": null,
   "id": "229ed95d",
   "metadata": {},
   "outputs": [],
   "source": [
    "len(df_impact_map)"
   ]
  },
  {
   "cell_type": "code",
   "execution_count": null,
   "id": "6efb2e56",
   "metadata": {},
   "outputs": [],
   "source": [
    "impact_json = []\n",
    "for i,r in df_impact_map.iterrows():\n",
    "    impact_json.append({\n",
    "        'hexId': r['h3index'],\n",
    "        'impact':float(r['sum'])\n",
    "    })\n",
    "print(len(impact_json))"
   ]
  },
  {
   "cell_type": "code",
   "execution_count": null,
   "id": "3024a79c",
   "metadata": {},
   "outputs": [],
   "source": [
    "#export json\n",
    "with open('../../data/processed/h3_impact_distributes_v3.json', 'w') as f:\n",
    "    json.dump(impact_json, f)"
   ]
  }
 ],
 "metadata": {
  "kernelspec": {
   "display_name": "Python 3",
   "language": "python",
   "name": "python3"
  },
  "language_info": {
   "codemirror_mode": {
    "name": "ipython",
    "version": 3
   },
   "file_extension": ".py",
   "mimetype": "text/x-python",
   "name": "python",
   "nbconvert_exporter": "python",
   "pygments_lexer": "ipython3",
   "version": "3.8.10"
  }
 },
 "nbformat": 4,
 "nbformat_minor": 5
}
