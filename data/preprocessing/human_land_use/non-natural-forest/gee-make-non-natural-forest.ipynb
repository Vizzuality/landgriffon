{
 "cells": [
  {
   "cell_type": "code",
   "execution_count": 17,
   "metadata": {
    "collapsed": true,
    "ExecuteTime": {
     "end_time": "2023-07-04T08:20:12.423251282Z",
     "start_time": "2023-07-04T08:20:12.417380143Z"
    }
   },
   "outputs": [],
   "source": [
    "import time\n",
    "\n",
    "import ee"
   ]
  },
  {
   "cell_type": "code",
   "execution_count": 18,
   "outputs": [
    {
     "data": {
      "text/plain": "<IPython.core.display.HTML object>",
      "text/html": "<p>To authorize access needed by Earth Engine, open the following\n        URL in a web browser and follow the instructions:</p>\n        <p><a href=https://code.earthengine.google.com/client-auth?scopes=https%3A//www.googleapis.com/auth/earthengine%20https%3A//www.googleapis.com/auth/devstorage.full_control&request_id=JS14cXxHy79trFayeGPitbBXOF_fy8PTC1xuvNABbYA&tc=a7aa1FUCHkXuSuLkfP4vEn7yvBGKIReNIFdhxGuClAE&cc=4ypWIZdTX2meENG0e_fC7605HUKiew8cN6r4mGHJU3o>https://code.earthengine.google.com/client-auth?scopes=https%3A//www.googleapis.com/auth/earthengine%20https%3A//www.googleapis.com/auth/devstorage.full_control&request_id=JS14cXxHy79trFayeGPitbBXOF_fy8PTC1xuvNABbYA&tc=a7aa1FUCHkXuSuLkfP4vEn7yvBGKIReNIFdhxGuClAE&cc=4ypWIZdTX2meENG0e_fC7605HUKiew8cN6r4mGHJU3o</a></p>\n        <p>The authorization workflow will generate a code, which you should paste in the box below.</p>\n        "
     },
     "metadata": {},
     "output_type": "display_data"
    },
    {
     "name": "stdout",
     "output_type": "stream",
     "text": [
      "\n",
      "Successfully saved authorization token.\n"
     ]
    }
   ],
   "source": [
    "ee.Authenticate()\n",
    "ee.Initialize()"
   ],
   "metadata": {
    "collapsed": false,
    "ExecuteTime": {
     "end_time": "2023-07-04T08:20:34.055559151Z",
     "start_time": "2023-07-04T08:20:13.171543377Z"
    }
   }
  },
  {
   "cell_type": "code",
   "execution_count": 19,
   "outputs": [],
   "source": [
    "sbtn_natural_land_all = ee.Image(\"projects/wri-datalab/SBTN/natLands_beta/naturalLands_allClasses_20230516\")"
   ],
   "metadata": {
    "collapsed": false,
    "ExecuteTime": {
     "end_time": "2023-07-04T08:20:35.247440800Z",
     "start_time": "2023-07-04T08:20:35.243340192Z"
    }
   }
  },
  {
   "cell_type": "markdown",
   "source": [
    "\n",
    "According to the SBTN Technical Guidance 2023 Step 3 Land v0.3 Natural Lands Map GEE script:\n",
    "\n",
    "<blockquote>\n",
    "There are 3 layers included in this script:\n",
    "Natural Lands Classes: this image has all the natural land cover classes and non-natural land cover classes\n",
    "All Classes values:\n",
    "\n",
    "Natural:     2 = natural forests, 3 = natural short vegetation, 4 = natural water, 5 = mangroves,\n",
    "         6 = bare, 7 = snow, 8 = wet natural forests, 9 = natural peat forests,\n",
    "         10 = wet natural short vegetation, 11 = natural peat short vegetation\n",
    "\n",
    "Non-Natural: 12 = cropland, 13 = built, 14 = non-natural tree cover, 15 = non-natural short vegetation,\n",
    "         16 = non-natural water, 17 = wet non-natural forests, 18 = non-natural peat forests,\n",
    "         19 = wet non-natural short vegetation, 20 = non-natural peat short vegetation.\n",
    "</blockquote>\n",
    "\n",
    "To get the non-natural forest we are going to use the following classes:\n",
    "- 14 non-natural tree cover\n",
    "- 17 wet non-natural forests\n",
    "- 18 non-natural peat forests"
   ],
   "metadata": {
    "collapsed": false
   }
  },
  {
   "cell_type": "code",
   "execution_count": 20,
   "outputs": [],
   "source": [
    "all_non_nat_forest = sbtn_natural_land_all.eq(14).Or(sbtn_natural_land_all.eq(17)).Or(sbtn_natural_land_all.eq(18))"
   ],
   "metadata": {
    "collapsed": false,
    "ExecuteTime": {
     "end_time": "2023-07-04T08:20:36.377369862Z",
     "start_time": "2023-07-04T08:20:36.373615260Z"
    }
   }
  },
  {
   "cell_type": "markdown",
   "source": [
    "and export it to drive,"
   ],
   "metadata": {
    "collapsed": false
   }
  },
  {
   "cell_type": "code",
   "execution_count": 25,
   "outputs": [],
   "source": [
    "projection = all_non_nat_forest.projection().getInfo()\n",
    "\n",
    "# Note that it is not cloud optimized. We are going to change that later\n",
    "# TODO: export to gcloud bucket\n",
    "task = ee.batch.Export.image.toDrive(**{\n",
    "  \"image\": all_non_nat_forest,\n",
    "  \"description\": \"exportOfNonNaturalForests\",\n",
    "  \"folder\": \"gee\",\n",
    "  \"fileNamePrefix\": \"non-natural-forests\",\n",
    "  \"crs\": projection['crs'],\n",
    "  \"crsTransform\": projection['transform'],\n",
    "  \"scale\":30,\n",
    "  \"maxPixels\": 892228241530,\n",
    "  \"shardSize\": 512,\n",
    "})\n",
    "task.start()"
   ],
   "metadata": {
    "collapsed": false,
    "ExecuteTime": {
     "end_time": "2023-07-04T08:24:05.969678727Z",
     "start_time": "2023-07-04T08:24:04.060193514Z"
    }
   }
  },
  {
   "cell_type": "code",
   "execution_count": 26,
   "outputs": [
    {
     "name": "stdout",
     "output_type": "stream",
     "text": [
      "Polling for task (id: Q3JR4FRCUSMNINBBEUG4KNLM).\n",
      "Polling for task (id: Q3JR4FRCUSMNINBBEUG4KNLM).\n",
      "Polling for task (id: Q3JR4FRCUSMNINBBEUG4KNLM).\n",
      "Polling for task (id: Q3JR4FRCUSMNINBBEUG4KNLM).\n",
      "Polling for task (id: Q3JR4FRCUSMNINBBEUG4KNLM).\n",
      "Polling for task (id: Q3JR4FRCUSMNINBBEUG4KNLM).\n",
      "Polling for task (id: Q3JR4FRCUSMNINBBEUG4KNLM).\n",
      "Polling for task (id: Q3JR4FRCUSMNINBBEUG4KNLM).\n",
      "Polling for task (id: Q3JR4FRCUSMNINBBEUG4KNLM).\n",
      "Polling for task (id: Q3JR4FRCUSMNINBBEUG4KNLM).\n",
      "Polling for task (id: Q3JR4FRCUSMNINBBEUG4KNLM).\n",
      "Polling for task (id: Q3JR4FRCUSMNINBBEUG4KNLM).\n",
      "Polling for task (id: Q3JR4FRCUSMNINBBEUG4KNLM).\n",
      "Polling for task (id: Q3JR4FRCUSMNINBBEUG4KNLM).\n",
      "Polling for task (id: Q3JR4FRCUSMNINBBEUG4KNLM).\n",
      "Polling for task (id: Q3JR4FRCUSMNINBBEUG4KNLM).\n",
      "Polling for task (id: Q3JR4FRCUSMNINBBEUG4KNLM).\n",
      "Polling for task (id: Q3JR4FRCUSMNINBBEUG4KNLM).\n",
      "Polling for task (id: Q3JR4FRCUSMNINBBEUG4KNLM).\n",
      "Polling for task (id: Q3JR4FRCUSMNINBBEUG4KNLM).\n",
      "Polling for task (id: Q3JR4FRCUSMNINBBEUG4KNLM).\n",
      "Polling for task (id: Q3JR4FRCUSMNINBBEUG4KNLM).\n",
      "Polling for task (id: Q3JR4FRCUSMNINBBEUG4KNLM).\n",
      "Polling for task (id: Q3JR4FRCUSMNINBBEUG4KNLM).\n",
      "Polling for task (id: Q3JR4FRCUSMNINBBEUG4KNLM).\n",
      "Polling for task (id: Q3JR4FRCUSMNINBBEUG4KNLM).\n",
      "Polling for task (id: Q3JR4FRCUSMNINBBEUG4KNLM).\n",
      "Polling for task (id: Q3JR4FRCUSMNINBBEUG4KNLM).\n",
      "Polling for task (id: Q3JR4FRCUSMNINBBEUG4KNLM).\n",
      "Polling for task (id: Q3JR4FRCUSMNINBBEUG4KNLM).\n",
      "Polling for task (id: Q3JR4FRCUSMNINBBEUG4KNLM).\n",
      "Polling for task (id: Q3JR4FRCUSMNINBBEUG4KNLM).\n",
      "Polling for task (id: Q3JR4FRCUSMNINBBEUG4KNLM).\n",
      "Polling for task (id: Q3JR4FRCUSMNINBBEUG4KNLM).\n",
      "Polling for task (id: Q3JR4FRCUSMNINBBEUG4KNLM).\n",
      "Polling for task (id: Q3JR4FRCUSMNINBBEUG4KNLM).\n",
      "Polling for task (id: Q3JR4FRCUSMNINBBEUG4KNLM).\n"
     ]
    }
   ],
   "source": [
    "while task.active():\n",
    "  print('task (id: {}) running...'.format(task.id))\n",
    "  time.sleep(1000)\n",
    "print('task completed'!)"
   ],
   "metadata": {
    "collapsed": false,
    "ExecuteTime": {
     "end_time": "2023-07-04T09:26:21.188512717Z",
     "start_time": "2023-07-04T08:24:07.528981630Z"
    }
   }
  },
  {
   "cell_type": "markdown",
   "source": [
    "task should appear in https://code.earthengine.google.com/tasks/"
   ],
   "metadata": {
    "collapsed": false
   }
  },
  {
   "cell_type": "code",
   "execution_count": null,
   "outputs": [],
   "source": [],
   "metadata": {
    "collapsed": false
   }
  }
 ],
 "metadata": {
  "kernelspec": {
   "display_name": "Python 3",
   "language": "python",
   "name": "python3"
  },
  "language_info": {
   "codemirror_mode": {
    "name": "ipython",
    "version": 2
   },
   "file_extension": ".py",
   "mimetype": "text/x-python",
   "name": "python",
   "nbconvert_exporter": "python",
   "pygments_lexer": "ipython2",
   "version": "2.7.6"
  }
 },
 "nbformat": 4,
 "nbformat_minor": 0
}
