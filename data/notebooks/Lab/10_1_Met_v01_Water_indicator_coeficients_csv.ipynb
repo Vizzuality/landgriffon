{
 "cells": [
  {
   "cell_type": "markdown",
   "metadata": {
    "pycharm": {
     "name": "#%% md\n"
    }
   },
   "source": [
    "# Convert Water indicator coeficients to digestable csv"
   ]
  },
  {
   "cell_type": "code",
   "execution_count": 1,
   "metadata": {
    "collapsed": false,
    "jupyter": {
     "outputs_hidden": false
    },
    "pycharm": {
     "name": "#%%\n"
    }
   },
   "outputs": [],
   "source": [
    "import pandas as pd"
   ]
  },
  {
   "cell_type": "code",
   "execution_count": 2,
   "metadata": {
    "collapsed": false,
    "jupyter": {
     "outputs_hidden": false
    },
    "pycharm": {
     "name": "#%%\n"
    }
   },
   "outputs": [],
   "source": [
    "# excel hosted in https://docs.google.com/spreadsheets/d/1CYBodEP020CFXKK6FzG--7vbhzEwFAS7kShCd9zyvRE/edit#gid=0\n",
    "df = pd.read_excel(\n",
    "    \"../../data/raw/Excel_blwf_ of_crops_and_Derived_product_v1 [WIP].xlsx\",\n",
    "    # NOTE: HS code should be str but the already present codes in the db are treated as int\n",
    "    # and don't have the correct 0s padding. This should be fixed in ingesting\n",
    "    # all the others hs codes as str to preseve the correct code. Or it is ok to let it be an int?\n",
    "    dtype={\"hs_2017_code\": int},\n",
    ")"
   ]
  },
  {
   "cell_type": "code",
   "execution_count": 3,
   "metadata": {
    "collapsed": false,
    "jupyter": {
     "outputs_hidden": false
    },
    "pycharm": {
     "name": "#%%\n"
    }
   },
   "outputs": [],
   "source": [
    "df_long = df.melt(id_vars=df.columns[:2], var_name=\"country\")\n",
    "df_long[\"year\"] = 2005  # set 2005 as year for all the entries"
   ]
  },
  {
   "cell_type": "code",
   "execution_count": 4,
   "metadata": {},
   "outputs": [],
   "source": [
    "# sanity check in case the data changes in the future\n",
    "assert df_long.columns.to_list() == [\"name\", \"hs_2017_code\", \"country\", \"value\", \"year\"]"
   ]
  },
  {
   "cell_type": "code",
   "execution_count": 5,
   "metadata": {},
   "outputs": [
    {
     "data": {
      "text/html": [
       "<div>\n",
       "<style scoped>\n",
       "    .dataframe tbody tr th:only-of-type {\n",
       "        vertical-align: middle;\n",
       "    }\n",
       "\n",
       "    .dataframe tbody tr th {\n",
       "        vertical-align: top;\n",
       "    }\n",
       "\n",
       "    .dataframe thead th {\n",
       "        text-align: right;\n",
       "    }\n",
       "</style>\n",
       "<table border=\"1\" class=\"dataframe\">\n",
       "  <thead>\n",
       "    <tr style=\"text-align: right;\">\n",
       "      <th></th>\n",
       "      <th>name</th>\n",
       "      <th>hs_2017_code</th>\n",
       "      <th>country</th>\n",
       "      <th>value</th>\n",
       "      <th>year</th>\n",
       "    </tr>\n",
       "  </thead>\n",
       "  <tbody>\n",
       "    <tr>\n",
       "      <th>0</th>\n",
       "      <td>01 Animals; live</td>\n",
       "      <td>1</td>\n",
       "      <td>Global</td>\n",
       "      <td>NaN</td>\n",
       "      <td>2005</td>\n",
       "    </tr>\n",
       "    <tr>\n",
       "      <th>1</th>\n",
       "      <td>01.01 Horses, asses, mules and hinnies; live</td>\n",
       "      <td>101</td>\n",
       "      <td>Global</td>\n",
       "      <td>2462.0</td>\n",
       "      <td>2005</td>\n",
       "    </tr>\n",
       "    <tr>\n",
       "      <th>2</th>\n",
       "      <td>01.02 Bovine animals; live</td>\n",
       "      <td>102</td>\n",
       "      <td>Global</td>\n",
       "      <td>256.0</td>\n",
       "      <td>2005</td>\n",
       "    </tr>\n",
       "    <tr>\n",
       "      <th>3</th>\n",
       "      <td>01.03 Swine; live</td>\n",
       "      <td>103</td>\n",
       "      <td>Global</td>\n",
       "      <td>276.0</td>\n",
       "      <td>2005</td>\n",
       "    </tr>\n",
       "    <tr>\n",
       "      <th>4</th>\n",
       "      <td>01.04 Sheep and goats; live</td>\n",
       "      <td>104</td>\n",
       "      <td>Global</td>\n",
       "      <td>191.0</td>\n",
       "      <td>2005</td>\n",
       "    </tr>\n",
       "  </tbody>\n",
       "</table>\n",
       "</div>"
      ],
      "text/plain": [
       "                                           name  hs_2017_code country   value  \\\n",
       "0                              01 Animals; live             1  Global     NaN   \n",
       "1  01.01 Horses, asses, mules and hinnies; live           101  Global  2462.0   \n",
       "2                    01.02 Bovine animals; live           102  Global   256.0   \n",
       "3                             01.03 Swine; live           103  Global   276.0   \n",
       "4                   01.04 Sheep and goats; live           104  Global   191.0   \n",
       "\n",
       "   year  \n",
       "0  2005  \n",
       "1  2005  \n",
       "2  2005  \n",
       "3  2005  \n",
       "4  2005  "
      ]
     },
     "execution_count": 5,
     "metadata": {},
     "output_type": "execute_result"
    }
   ],
   "source": [
    "df_long.head()"
   ]
  },
  {
   "cell_type": "code",
   "execution_count": 7,
   "metadata": {},
   "outputs": [],
   "source": [
    "df_long.to_csv(\n",
    "    \"../../indicator_coefficient_importer/data/bwfp_indicator_coefficients.csv\", index=False\n",
    ")"
   ]
  }
 ],
 "metadata": {
  "kernelspec": {
   "display_name": "Python 3 (ipykernel)",
   "language": "python",
   "name": "python3"
  },
  "language_info": {
   "codemirror_mode": {
    "name": "ipython",
    "version": 3
   },
   "file_extension": ".py",
   "mimetype": "text/x-python",
   "name": "python",
   "nbconvert_exporter": "python",
   "pygments_lexer": "ipython3",
   "version": "3.10.4"
  }
 },
 "nbformat": 4,
 "nbformat_minor": 4
}
