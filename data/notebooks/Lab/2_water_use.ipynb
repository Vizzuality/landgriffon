{
 "cells": [
  {
   "cell_type": "markdown",
   "id": "happy-hostel",
   "metadata": {},
   "source": [
    "## Unsustainable water use\n",
    "\n",
    "The water footprint is an indicator of direct and indirect appropriation of freshwater resources. This term includes both consumptive water use (the blue and green water footprint) and the water required to assimilate pollution (grey water footprint).\n",
    "\n",
    "Advanced frameworks consider both water performance in the direct operation as well as the indirect water footprint in order to fully understand how a certain business relates to water use efficiency and the exposure to risk.\n",
    "\n",
    "The indicator provides incentives to improve water use efficiency through all sectors, highlighting those sectors where water use efficiency is lagging behind. \n",
    "\n",
    "We derive the total amount of annual, crop-specific water use from the blue water requirements of the Water Footprint Network (WFN) data layer. All calculations are performed on the grid-cell level  which comes in a resolution 5 minutes by 5 minutes (~10 km by 10 km).\n",
    "\n",
    "Unsustainable water consumption (m3 / year) = blue water footprint (mm / yr) * harvest area portion in that location * tonnes (Tonne)  * 10000/1000 * yield (ha/Tonne)\n",
    "\n",
    "\n",
    "Potential datasets:\n",
    "\n",
    "- Global water footprint by crop (1996 -2005) from Water Footprint which is splited by:\n",
    "    - Blue Footprint by crop\n",
    "    - Green Footprint by crop\n",
    "    - Grey Footprint by crop\n",
    "    - Total Footprint by crop\n",
    "    \n",
    "    Link to dataset: \"https://waterfootprint.org/media/downloads/Report47-App-IV-CropWaterFootprints-RasterMaps.zip\"\n",
    "    \n",
    "- BWS from aqueduct: https://www.wri.org/data/aqueduct-global-maps-30-data\n",
    "- Harvested area and yield for 175 crops: http://www.earthstat.org/harvested-area-yield-175-crops/"
   ]
  },
  {
   "cell_type": "markdown",
   "id": "091c6bfd",
   "metadata": {},
   "source": [
    "### Insights from notebook and generalizations:\n",
    "\n",
    "The first part of the notebook covers the generation of the water risk map. This water risk map is calculated for each commodity (in this case cotton) and following the formula below (which is also presented in this doc: https://docs.google.com/document/d/1h4BIWMrv6OGRAgNPlOfjOLex_FHb9h22RRTLp00QMzs/edit#\n",
    "\n",
    "        Water risk  (m3 / year * hectare) =  blue water footprint (mm / yr) * harvest area portion in that location  * 10000/1000(unit conversion)\n",
    "\n",
    "This calculation has been done with gdal and has to be generalised to the different commodities.\n",
    "\n",
    "The second part of the notebook explores the generation of the potential distributed purchase area (which sould be updated as it's highlighted in the notebook 0_5_Area_distribution. This calculations have been also done with gdal for the time being.\n",
    "\n",
    "Finally we calculate the water metric by multiplying the water risk map and the potential distributed purchase area, following the formula: \n",
    "\n",
    "        Unsustainable water consumption (m3 / year) = risk map (m3/year*hectare) * probability purchase area (Hectare) \n",
    "        \n",
    " NOTE: Both the water risk map and the potential distributed purchase area will need to be translater to h3. The final calculation (the calculation of the metric) would be done by combining the indexes of both h3 layers.\n"
   ]
  },
  {
   "cell_type": "markdown",
   "id": "3d8f458e",
   "metadata": {},
   "source": [
    "### Import libraries:"
   ]
  },
  {
   "cell_type": "code",
   "execution_count": 14,
   "id": "0f3f058b",
   "metadata": {},
   "outputs": [],
   "source": [
    "import geopandas as gpd\n",
    "import pandas as pd\n",
    "from shapely.geometry import Point\n",
    "import rasterio as rio\n",
    "import rasterio.plot\n",
    "import matplotlib.pyplot as plt\n",
    "from rasterio.plot import show_hist\n",
    "import time\n",
    "from rasterstats import gen_zonal_stats, gen_point_query\n",
    "from shapely.geometry import shape, mapping\n",
    "import folium\n",
    "from rasterstats import gen_zonal_stats, gen_point_query\n",
    "import h3"
   ]
  },
  {
   "cell_type": "code",
   "execution_count": 2,
   "id": "1ef1fd14",
   "metadata": {},
   "outputs": [],
   "source": [
    "from processing.geolocating_data import GeolocateAddress"
   ]
  },
  {
   "cell_type": "markdown",
   "id": "sexual-culture",
   "metadata": {},
   "source": [
    "### Calculation of Unsustainable water consumption: \n",
    "    \n",
    "Unsustainable water consumption (m3 / year) = blue water footprint (mm / yr) * harvest area portion in that location * tonnes (Tonne)  * 10000/1000 * yield (ha/Tonne)\n",
    "\n",
    "Where:\n",
    "- Blue water footprint (mm/yr) is the data provided by the WFN. This data has been calculated by dividing the total water footprint per grid cell (m3/yr) by the total area of the grid-cell. Therefore, we will need to re-scale this to the harvested area of the crop of interest (fraction of grid cell which is cultivated with the crop of interest.\n",
    "- Harvest area portion in that location is obtained from EarthStat.\n",
    "- The division by 1000 coverst the mm to m3 and the multiplication by 10000 to ha.\n",
    "- Tonnes would be the volume purchased in a location\n",
    "- Yield (ha/tonnes) for a specific crop is obtained from EarthStat\n"
   ]
  },
  {
   "cell_type": "markdown",
   "id": "baecd78d",
   "metadata": {},
   "source": [
    "### Calculation of risk map - impact factor for different locations: \n",
    "\n",
    "The calculation of the risk map would be done following the process highlighted in this document: https://docs.google.com/document/d/1h4BIWMrv6OGRAgNPlOfjOLex_FHb9h22RRTLp00QMzs/edit#\n",
    "\n",
    "The formula used to compute the risk map is:\n",
    "\n",
    " Water risk  (m3 / year * Tonnes) =  blue water footprint (mm / yr) * harvest area portion in that location  * yield (ha/Tonne) * 10000/1000(unit conversion)\n",
    "\n",
    "\n",
    "and the datasets used are:\n",
    "\n",
    "- Blue water footprint for each commodity\n",
    "- Harvest area portion \n",
    "- yield\n",
    "- conversion units\n",
    "\n"
   ]
  },
  {
   "cell_type": "code",
   "execution_count": 5,
   "id": "41920d75",
   "metadata": {},
   "outputs": [],
   "source": [
    "blwf_path = '../../datasets/raw/wfbl_mmyr_4326_cotton.tif'\n",
    "ha_fraction_path = '../../datasets/raw/cotton_HarvestedAreaFraction.tif'\n",
    "yield_path = '../../datasets/raw/cotton_YieldPerHectare.tif'"
   ]
  },
  {
   "cell_type": "markdown",
   "id": "3d7b4c03",
   "metadata": {},
   "source": [
    "### 1. Check raster info:"
   ]
  },
  {
   "cell_type": "code",
   "execution_count": 7,
   "id": "e6fcae65",
   "metadata": {},
   "outputs": [
    {
     "name": "stdout",
     "output_type": "stream",
     "text": [
      "Driver: GTiff/GeoTIFF\n",
      "Files: ../../datasets/raw/wfbl_mmyr_4326_cotton.tif\n",
      "Size is 4320, 1668\n",
      "Coordinate System is:\n",
      "GEOGCRS[\"WGS 84\",\n",
      "    DATUM[\"World Geodetic System 1984\",\n",
      "        ELLIPSOID[\"WGS 84\",6378137,298.257223563,\n",
      "            LENGTHUNIT[\"metre\",1]]],\n",
      "    PRIMEM[\"Greenwich\",0,\n",
      "        ANGLEUNIT[\"degree\",0.0174532925199433]],\n",
      "    CS[ellipsoidal,2],\n",
      "        AXIS[\"geodetic latitude (Lat)\",north,\n",
      "            ORDER[1],\n",
      "            ANGLEUNIT[\"degree\",0.0174532925199433]],\n",
      "        AXIS[\"geodetic longitude (Lon)\",east,\n",
      "            ORDER[2],\n",
      "            ANGLEUNIT[\"degree\",0.0174532925199433]],\n",
      "    ID[\"EPSG\",4326]]\n",
      "Data axis to CRS axis mapping: 2,1\n",
      "Origin = (-179.991666650000013,83.088333349999999)\n",
      "Pixel Size = (0.083333333333333,-0.083333333333333)\n",
      "Metadata:\n",
      "  AREA_OR_POINT=Area\n",
      "Image Structure Metadata:\n",
      "  INTERLEAVE=BAND\n",
      "Corner Coordinates:\n",
      "Upper Left  (-179.9916667,  83.0883333) (179d59'30.00\"W, 83d 5'18.00\"N)\n",
      "Lower Left  (-179.9916667, -55.9116667) (179d59'30.00\"W, 55d54'42.00\"S)\n",
      "Upper Right ( 180.0083333,  83.0883333) (180d 0'30.00\"E, 83d 5'18.00\"N)\n",
      "Lower Right ( 180.0083333, -55.9116667) (180d 0'30.00\"E, 55d54'42.00\"S)\n",
      "Center      (   0.0083333,  13.5883333) (  0d 0'30.00\"E, 13d35'18.00\"N)\n",
      "Band 1 Block=4320x1 Type=Float32, ColorInterp=Gray\n",
      "  NoData Value=-3.4028234663852886e+38\n"
     ]
    }
   ],
   "source": [
    "#explore datasets info for calculation - the three raster need to have the same extent and projection\n",
    "!gdalinfo '../../datasets/raw/wfbl_mmyr_4326_cotton.tif'"
   ]
  },
  {
   "cell_type": "code",
   "execution_count": 8,
   "id": "1626cc2e",
   "metadata": {},
   "outputs": [
    {
     "name": "stdout",
     "output_type": "stream",
     "text": [
      "Driver: GTiff/GeoTIFF\n",
      "Files: ../../datasets/raw/cotton_HarvestedAreaFraction.tif\n",
      "Size is 4320, 2160\n",
      "Coordinate System is:\n",
      "GEOGCRS[\"WGS 84\",\n",
      "    DATUM[\"World Geodetic System 1984\",\n",
      "        ELLIPSOID[\"WGS 84\",6378137,298.257223563,\n",
      "            LENGTHUNIT[\"metre\",1]]],\n",
      "    PRIMEM[\"Greenwich\",0,\n",
      "        ANGLEUNIT[\"degree\",0.0174532925199433]],\n",
      "    CS[ellipsoidal,2],\n",
      "        AXIS[\"geodetic latitude (Lat)\",north,\n",
      "            ORDER[1],\n",
      "            ANGLEUNIT[\"degree\",0.0174532925199433]],\n",
      "        AXIS[\"geodetic longitude (Lon)\",east,\n",
      "            ORDER[2],\n",
      "            ANGLEUNIT[\"degree\",0.0174532925199433]],\n",
      "    ID[\"EPSG\",4326]]\n",
      "Data axis to CRS axis mapping: 2,1\n",
      "Origin = (-180.000000000000000,89.999999999989768)\n",
      "Pixel Size = (0.083333333333329,-0.083333333333329)\n",
      "Metadata:\n",
      "  AREA_OR_POINT=Area\n",
      "  TIFFTAG_SOFTWARE=MATLAB 8.0, Mapping Toolbox 3.6\n",
      "Image Structure Metadata:\n",
      "  COMPRESSION=PACKBITS\n",
      "  INTERLEAVE=BAND\n",
      "Corner Coordinates:\n",
      "Upper Left  (-180.0000000,  90.0000000) (180d 0' 0.00\"W, 90d 0' 0.00\"N)\n",
      "Lower Left  (-180.0000000, -90.0000000) (180d 0' 0.00\"W, 90d 0' 0.00\"S)\n",
      "Upper Right ( 180.0000000,  90.0000000) (180d 0' 0.00\"E, 90d 0' 0.00\"N)\n",
      "Lower Right ( 180.0000000, -90.0000000) (180d 0' 0.00\"E, 90d 0' 0.00\"S)\n",
      "Center      (  -0.0000000,  -0.0000000) (  0d 0' 0.00\"W,  0d 0' 0.00\"S)\n",
      "Band 1 Block=432x224 Type=Float32, ColorInterp=Gray\n"
     ]
    }
   ],
   "source": [
    "!gdalinfo '../../datasets/raw/cotton_HarvestedAreaFraction.tif'"
   ]
  },
  {
   "cell_type": "code",
   "execution_count": 9,
   "id": "befb060b",
   "metadata": {},
   "outputs": [
    {
     "name": "stdout",
     "output_type": "stream",
     "text": [
      "Driver: GTiff/GeoTIFF\n",
      "Files: ../../datasets/raw/cotton_YieldPerHectare.tif\n",
      "Size is 4320, 2160\n",
      "Coordinate System is:\n",
      "GEOGCRS[\"WGS 84\",\n",
      "    DATUM[\"World Geodetic System 1984\",\n",
      "        ELLIPSOID[\"WGS 84\",6378137,298.257223563,\n",
      "            LENGTHUNIT[\"metre\",1]]],\n",
      "    PRIMEM[\"Greenwich\",0,\n",
      "        ANGLEUNIT[\"degree\",0.0174532925199433]],\n",
      "    CS[ellipsoidal,2],\n",
      "        AXIS[\"geodetic latitude (Lat)\",north,\n",
      "            ORDER[1],\n",
      "            ANGLEUNIT[\"degree\",0.0174532925199433]],\n",
      "        AXIS[\"geodetic longitude (Lon)\",east,\n",
      "            ORDER[2],\n",
      "            ANGLEUNIT[\"degree\",0.0174532925199433]],\n",
      "    ID[\"EPSG\",4326]]\n",
      "Data axis to CRS axis mapping: 2,1\n",
      "Origin = (-180.000000000000000,89.999999999989768)\n",
      "Pixel Size = (0.083333333333329,-0.083333333333329)\n",
      "Metadata:\n",
      "  AREA_OR_POINT=Area\n",
      "  TIFFTAG_SOFTWARE=MATLAB 8.0, Mapping Toolbox 3.6\n",
      "Image Structure Metadata:\n",
      "  COMPRESSION=PACKBITS\n",
      "  INTERLEAVE=BAND\n",
      "Corner Coordinates:\n",
      "Upper Left  (-180.0000000,  90.0000000) (180d 0' 0.00\"W, 90d 0' 0.00\"N)\n",
      "Lower Left  (-180.0000000, -90.0000000) (180d 0' 0.00\"W, 90d 0' 0.00\"S)\n",
      "Upper Right ( 180.0000000,  90.0000000) (180d 0' 0.00\"E, 90d 0' 0.00\"N)\n",
      "Lower Right ( 180.0000000, -90.0000000) (180d 0' 0.00\"E, 90d 0' 0.00\"S)\n",
      "Center      (  -0.0000000,  -0.0000000) (  0d 0' 0.00\"W,  0d 0' 0.00\"S)\n",
      "Band 1 Block=432x224 Type=Float32, ColorInterp=Gray\n"
     ]
    }
   ],
   "source": [
    "!gdalinfo '../../datasets/raw/cotton_YieldPerHectare.tif'"
   ]
  },
  {
   "cell_type": "markdown",
   "id": "4edb0d08",
   "metadata": {},
   "source": [
    "### 2. Extent:\n",
    "The three rasters have the same projection but the blue water footprint has different extent. Therefore we need to get the rasters into the same extent.\n"
   ]
  },
  {
   "cell_type": "code",
   "execution_count": 10,
   "id": "f13002ab",
   "metadata": {},
   "outputs": [
    {
     "name": "stdout",
     "output_type": "stream",
     "text": [
      "Input file size is 4320, 2160\n",
      "0...10...20...30...40...50...60...70...80...90...100 - done.\n"
     ]
    }
   ],
   "source": [
    "## projwin: upper left and lower right of the raster that we want to use  for clipping the other rasters\n",
    "## -of GTiff: geotiff we want to clip - change extent\n",
    "!gdal_translate -projwin -179.99166665 83.08833335 180.00833335 -55.91166665 -of GTiff '../../datasets/raw/cotton_HarvestedAreaFraction.tif' '../../datasets/raw/cotton_HarvestedAreaFraction_extent.tif'"
   ]
  },
  {
   "cell_type": "code",
   "execution_count": 11,
   "id": "f10b016a",
   "metadata": {},
   "outputs": [
    {
     "name": "stdout",
     "output_type": "stream",
     "text": [
      "Input file size is 4320, 2160\n",
      "0...10...20...30...40...50...60...70...80...90...100 - done.\n"
     ]
    }
   ],
   "source": [
    "## projwin: upper left and lower right of the raster that we want to use  for clipping the other rasters\n",
    "## -of GTiff: geotiff we want to clip - change extent\n",
    "!gdal_translate -projwin -179.99166665 83.08833335 180.00833335 -55.91166665 -of GTiff '../../datasets/raw/cotton_YieldPerHectare.tif' '../../datasets/raw/cotton_YieldPerHectare_extent.tif'"
   ]
  },
  {
   "cell_type": "markdown",
   "id": "b5e65803",
   "metadata": {},
   "source": [
    "### 3. Calculate risk "
   ]
  },
  {
   "cell_type": "code",
   "execution_count": 12,
   "id": "111f7cc9",
   "metadata": {},
   "outputs": [
    {
     "name": "stdout",
     "output_type": "stream",
     "text": [
      "<string>:1: RuntimeWarning: overflow encountered in multiply\n",
      "/opt/conda/lib/python3.8/site-packages/osgeo/utils/gdal_calc.py:367: RuntimeWarning: invalid value encountered in multiply\n",
      "  myResult = ((1 * (myNDVs == 0)) * myResult) + (myOutNDV * myNDVs)\n",
      "0.. 0.. 0.. 0.. 0.. 0.. 0.. 0.. 0.. 0.. 0.. 0.. 0.. 0.. 0.. 0.. 0.. 1.. 1.. 1.. 1.. 1.. 1.. 1.. 1.. 1.. 1.. 1.. 1.. 1.. 1.. 1.. 1.. 1.. 2.. 2.. 2.. 2.. 2.. 2.. 2.. 2.. 2.. 2.. 2.. 2.. 2.. 2.. 2.. 2.. 2.. 3.. 3.. 3.. 3.. 3.. 3.. 3.. 3.. 3.. 3.. 3.. 3.. 3.. 3.. 3.. 3.. 4.. 4.. 4.. 4.. 4.. 4.. 4.. 4.. 4.. 4.. 4.. 4.. 4.. 4.. 4.. 4.. 4.. 5.. 5.. 5.. 5.. 5.. 5.. 5.. 5.. 5.. 5.. 5.. 5.. 5.. 5.. 5.. 5.. 5.. 6.. 6.. 6.. 6.. 6.. 6.. 6.. 6.. 6.. 6.. 6.. 6.. 6.. 6.. 6.. 6.. 7.. 7.. 7.. 7.. 7.. 7.. 7.. 7.. 7.. 7.. 7.. 7.. 7.. 7.. 7.. 7.. 7.. 8.. 8.. 8.. 8.. 8.. 8.. 8.. 8.. 8.. 8.. 8.. 8.. 8.. 8.. 8.. 8.. 8.. 9.. 9.. 9.. 9.. 9.. 9.. 9.. 9.. 9.. 9.. 9.. 9.. 9.. 9.. 9.. 9.. 10.. 10.. 10.. 10.. 10.. 10.. 10.. 10.. 10.. 10.. 10.. 10.. 10.. 10.. 10.. 10.. 10.. 11.. 11.. 11.. 11.. 11.. 11.. 11.. 11.. 11.. 11.. 11.. 11.. 11.. 11.. 11.. 11.. 11.. 12.. 12.. 12.. 12.. 12.. 12.. 12.. 12.. 12.. 12.. 12.. 12.. 12.. 12.. 12.. 12.. 13.. 13.. 13.. 13.. 13.. 13.. 13.. 13.. 13.. 13.. 13.. 13.. 13.. 13.. 13.. 13.. 13.. 14.. 14.. 14.. 14.. 14.. 14.. 14.. 14.. 14.. 14.. 14.. 14.. 14.. 14.. 14.. 14.. 14.. 15.. 15.. 15.. 15.. 15.. 15.. 15.. 15.. 15.. 15.. 15.. 15.. 15.. 15.. 15.. 15.. 16.. 16.. 16.. 16.. 16.. 16.. 16.. 16.. 16.. 16.. 16.. 16.. 16.. 16.. 16.. 16.. 16.. 17.. 17.. 17.. 17.. 17.. 17.. 17.. 17.. 17.. 17.. 17.. 17.. 17.. 17.. 17.. 17.. 17.. 18.. 18.. 18.. 18.. 18.. 18.. 18.. 18.. 18.. 18.. 18.. 18.. 18.. 18.. 18.. 18.. 19.. 19.. 19.. 19.. 19.. 19.. 19.. 19.. 19.. 19.. 19.. 19.. 19.. 19.. 19.. 19.. 19.. 20.. 20.. 20.. 20.. 20.. 20.. 20.. 20.. 20.. 20.. 20.. 20.. 20.. 20.. 20.. 20.. 20.. 21.. 21.. 21.. 21.. 21.. 21.. 21.. 21.. 21.. 21.. 21.. 21.. 21.. 21.. 21.. 21.. 22.. 22.. 22.. 22.. 22.. 22.. 22.. 22.. 22.. 22.. 22.. 22.. 22.. 22.. 22.. 22.. 22.. 23.. 23.. 23.. 23.. 23.. 23.. 23.. 23.. 23.. 23.. 23.. 23.. 23.. 23.. 23.. 23.. 23.. 24.. 24.. 24.. 24.. 24.. 24.. 24.. 24.. 24.. 24.. 24.. 24.. 24.. 24.. 24.. 24.. 25.. 25.. 25.. 25.. 25.. 25.. 25.. 25.. 25.. 25.. 25.. 25.. 25.. 25.. 25.. 25.. 25.. 26.. 26.. 26.. 26.. 26.. 26.. 26.. 26.. 26.. 26.. 26.. 26.. 26.. 26.. 26.. 26.. 26.. 27.. 27.. 27.. 27.. 27.. 27.. 27.. 27.. 27.. 27.. 27.. 27.. 27.. 27.. 27.. 27.. 27.. 28.. 28.. 28.. 28.. 28.. 28.. 28.. 28.. 28.. 28.. 28.. 28.. 28.. 28.. 28.. 28.. 29.. 29.. 29.. 29.. 29.. 29.. 29.. 29.. 29.. 29.. 29.. 29.. 29.. 29.. 29.. 29.. 29.. 30.. 30.. 30.. 30.. 30.. 30.. 30.. 30.. 30.. 30.. 30.. 30.. 30.. 30.. 30.. 30.. 30.. 31.. 31.. 31.. 31.. 31.. 31.. 31.. 31.. 31.. 31.. 31.. 31.. 31.. 31.. 31.. 31.. 32.. 32.. 32.. 32.. 32.. 32.. 32.. 32.. 32.. 32.. 32.. 32.. 32.. 32.. 32.. 32.. 32.. 33.. 33.. 33.. 33.. 33.. 33.. 33.. 33.. 33.. 33.. 33.. 33.. 33.. 33.. 33.. 33.. 33.. 34.. 34.. 34.. 34.. 34.. 34.. 34.. 34.. 34.. 34.. 34.. 34.. 34.. 34.. 34.. 34.. 35.. 35.. 35.. 35.. 35.. 35.. 35.. 35.. 35.. 35.. 35.. 35.. 35.. 35.. 35.. 35.. 35.. 36.. 36.. 36.. 36.. 36.. 36.. 36.. 36.. 36.. 36.. 36.. 36.. 36.. 36.. 36.. 36.. 36.. 37.. 37.. 37.. 37.. 37.. 37.. 37.. 37.. 37.. 37.. 37.. 37.. 37.. 37.. 37.. 37.. 38.. 38.. 38.. 38.. 38.. 38.. 38.. 38.. 38.. 38.. 38.. 38.. 38.. 38.. 38.. 38.. 38.. 39.. 39.. 39.. 39.. 39.. 39.. 39.. 39.. 39.. 39.. 39.. 39.. 39.. 39.. 39.. 39.. 39.. 40.. 40.. 40.. 40.. 40.. 40.. 40.. 40.. 40.. 40.. 40.. 40.. 40.. 40.. 40.. 40.. 41.. 41.. 41.. 41.. 41.. 41.. 41.. 41.. 41.. 41.. 41.. 41.. 41.. 41.. 41.. 41.. 41.. 42.. 42.. 42.. 42.. 42.. 42.. 42.. 42.. 42.. 42.. 42.. 42.. 42.. 42.. 42.. 42.. 42.. 43.. 43.. 43.. 43.. 43.. 43.. 43.. 43.. 43.. 43.. 43.. 43.. 43.. 43.. 43.. 43.. 44.. 44.. 44.. 44.. 44.. 44.. 44.. 44.. 44.. 44.. 44.. 44.. 44.. 44.. 44.. 44.. 44.. 45.. 45.. 45.. 45.. 45.. 45.. 45.. 45.. 45.. 45.. 45.. 45.. 45.. 45.. 45.. 45.. 45.. 46.. 46.. 46.. 46.. 46.. 46.. 46.. 46.. 46.. 46.. 46.. 46.. 46.. 46.. 46.. 46.. 47.. 47.. 47.. 47.. 47.. 47.. 47.. 47.. 47.. 47.. 47.. 47.. 47.. 47.. 47.. 47.. 47.. 48.. 48.. 48.. 48.. 48.. 48.. 48.. 48.. 48.. 48.. 48.. 48.. 48.. 48.. 48.. 48.. 48.. 49.. 49.. 49.. 49.. 49.. 49.. 49.. 49.. 49.. 49.. 49.. 49.. 49.. 49.. 49.. 49.. 50.. 50.. 50.. 50.. 50.. 50.. 50.. 50.. 50.. 50.. 50.. 50.. 50.. 50.. 50.. 50.. 50.. 51.. 51.. 51.. 51.. 51.. 51.. 51.. 51.. 51.. 51.. 51.. 51.. 51.. 51.. 51.. 51.. 51.. 52.. 52.. 52.. 52.. 52.. 52.. 52.. 52.. 52.. 52.. 52.. 52.. 52.. 52.. 52.. 52.. 52.. 53.. 53.. 53.. 53.. 53.. 53.. 53.. 53.. 53.. 53.. 53.. 53.. 53.. 53.. 53.. 53.. 54.. 54.. 54.. 54.. 54.. 54.. 54.. 54.. 54.. 54.. 54.. 54.. 54.. 54.. 54.. 54.. 54.. 55.. 55.. 55.. 55.. 55.. 55.. 55.. 55.. 55.. 55.. 55.. 55.. 55.. 55.. 55.. 55.. 55.. 56.. 56.. 56.. 56.. 56.. 56.. 56.. 56.. 56.. 56.. 56.. 56.. 56.. 56.. 56.. 56.. 57.. 57.. 57.. 57.. 57.. 57.. 57.. 57.. 57.. 57.. 57.. 57.. 57.. 57.. 57.. 57.. 57.. 58.. 58.. 58.. 58.. 58.. 58.. 58.. 58.. 58.. 58.. 58.. 58.. 58.. 58.. 58.. 58.. 58.. 59.. 59.. 59.. 59.. 59.. 59.. 59.. 59.. 59.. 59.. 59.. 59.. 59.. 59.. 59.. 59.. 60.. 60.. 60.. 60.. 60.. 60.. 60.. 60.. 60.. 60.. 60.. 60.. 60.. 60.. 60.. 60.. 60.. 61.. 61.. 61.. 61.. 61.. 61.. 61.. 61.. 61.. 61.. 61.. 61.. 61.. 61.. 61.. 61.. 61.. 62.. 62.. 62.. 62.. 62.. 62.. 62.. 62.. 62.. 62.. 62.. 62.. 62.. 62.. 62.. 62.. 63.. 63.. 63.. 63.. 63.. 63.. 63.. 63.. 63.. 63.. 63.. 63.. 63.. 63.. 63.. 63.. 63.. 64.. 64.. 64.. 64.. 64.. 64.. 64.. 64.. 64.. 64.. 64.. 64.. 64.. 64.. 64.. 64.. 64.. 65.. 65.. 65.. 65.. 65.. 65.. 65.. 65.. 65.. 65.. 65.. 65.. 65.. 65.. 65.. 65.. 66.. 66.. 66.. 66.. 66.. 66.. 66.. 66.. 66.. 66.. 66.. 66.. 66.. 66.. 66.. 66.. 66.. 67.. 67.. 67.. 67.. 67.. 67.. 67.. 67.. 67.. 67.. 67.. 67.. 67.. 67.. 67.. 67.. 67.. 68.. 68.. 68.. 68.. 68.. 68.. 68.. 68.. 68.. 68.. 68.. 68.. 68.. 68.. 68.. 68.. 69.. 69.. 69.. 69.. 69.. 69.. 69.. 69.. 69.. 69.. 69.. 69.. 69.. 69.. 69.. 69.. 69.. 70.. 70.. 70.. 70.. 70.. 70.. 70.. 70.. 70.. 70.. 70.. 70.. 70.. 70.. 70.. 70.. 70.. 71.. 71.. 71.. 71.. 71.. 71.. 71.. 71.. 71.. 71.. 71.. 71.. 71.. 71.. 71.. 71.. 72.. 72.. 72.. 72.. 72.. 72.. 72.. 72.. 72.. 72.. 72.. 72.. 72.. 72.. 72.. 72.. 72.. 73.. 73.. 73.. 73.. 73.. 73.. 73.. 73.. 73.. 73.. 73.. 73.. 73.. 73.. 73.. 73.. 73.. 74.. 74.. 74.. 74.. 74.. 74.. 74.. 74.. 74.. 74.. 74.. 74.. 74.. 74.. 74.. 74.. 75.. 75.. 75.. 75.. 75.. 75.. 75.. 75.. 75.. 75.. 75.. 75.. 75.. 75.. 75.. 75.. 75.. 76.. 76.. 76.. 76.. 76.. 76.. 76.. 76.. 76.. 76.. 76.. 76.. 76.. 76.. 76.. 76.. 76.. 77.. 77.. 77.. 77.. 77.. 77.. 77.. 77.. 77.. 77.. 77.. 77.. 77.. 77.. 77.. 77.. 77.. 78.. 78.. 78.. 78.. 78.. 78.. 78.. 78.. 78.. 78.. 78.. 78.. 78.. 78.. 78.. 78.. 79.. 79.. 79.. 79.. 79.. 79.. 79.. 79.. 79.. 79.. 79.. 79.. 79.. 79.. 79.. 79.. 79.. 80.. 80.. 80.. 80.. 80.. 80.. 80.. 80.. 80.. 80.. 80.. 80.. 80.. 80.. 80.. 80.. 80.. 81.. 81.. 81.. 81.. 81.. 81.. 81.. 81.. 81.. 81.. 81.. 81.. 81.. 81.. 81.. 81.. 82.. 82.. 82.. 82.. 82.. 82.. 82.. 82.. 82.. 82.. 82.. 82.. 82.. 82.. 82.. 82.. 82.. 83.. 83.. 83.. 83.. 83.. 83.. 83.. 83.. 83.. 83.. 83.. 83.. 83.. 83.. 83.. 83.. 83.. 84.. 84.. 84.. 84.. 84.. 84.. 84.. 84.. 84.. 84.. 84.. 84.. 84.. 84.. 84.. 84.. 85.. 85.. 85.. 85.. 85.. 85.. 85.. 85.. 85.. 85.. 85.. 85.. 85.. 85.. 85.. 85.. 85.. 86.. 86.. 86.. 86.. 86.. 86.. 86.. 86.. 86.. 86.. 86.. 86.. 86.. 86.. 86.. 86.. 86.. 87.. 87.. 87.. 87.. 87.. 87.. 87.. 87.. 87.. 87.. 87.. 87.. 87.. 87.. 87.. 87.. 88.. 88.. 88.. 88.. 88.. 88.. 88.. 88.. 88.. 88.. 88.. 88.. 88.. 88.. 88.. 88.. 88.. 89.. 89.. 89.. 89.. 89.. 89.. 89.. 89.. 89.. 89.. 89.. 89.. 89.. 89.. 89.. 89.. 89.. 90.. 90.. 90.. 90.. 90.. 90.. 90.. 90.. 90.. 90.. 90.. 90.. 90.. 90.. 90.. 90.. 91.. 91.. 91.. 91.. 91.. 91.. 91.. 91.. 91.. 91.. 91.. 91.. 91.. 91.. 91.. 91.. 91.. 92.. 92.. 92.. 92.. 92.. 92.. 92.. 92.. 92.. 92.. 92.. 92.. 92.. 92.. 92.. 92.. 92.. 93.. 93.. 93.. 93.. 93.. 93.. 93.. 93.. 93.. 93.. 93.. 93.. 93.. 93.. 93.. 93.. 94.. 94.. 94.. 94.. 94.. 94.. 94.. 94.. 94.. 94.. 94.. 94.. 94.. 94.. 94.. 94.. 94.. 95.. 95.. 95.. 95.. 95.. 95.. 95.. 95.. 95.. 95.. 95.. 95.. 95.. 95.. 95.. 95.. 95.. 96.. 96.. 96.. 96.. 96.. 96.. 96.. 96.. 96.. 96.. 96.. 96.. 96.. 96.. 96.. 96.. 97.. 97.. 97.. 97.. 97.. 97.. 97.. 97.. 97.. 97.. 97.. 97.. 97.. 97.. 97.. 97.. 97.. 98.. 98.. 98.. 98.. 98.. 98.. 98.. 98.. 98.. 98.. 98.. 98.. 98.. 98.. 98.. 98.. 98.. 99.. 99.. 99.. 99.. 99.. 99.. 99.. 99.. 99.. 99.. 99.. 99.. 99.. 99.. 99.. 99.. 100 - Done\n"
     ]
    }
   ],
   "source": [
    "!gdal_calc.py -A '../../datasets/raw/wfbl_mmyr_4326_cotton.tif' -B '../../datasets/raw/cotton_HarvestedAreaFraction_extent.tif' -C '../../datasets/raw/cotton_YieldPerHectare_extent.tif' --outfile='../../datasets/processed/water_risk_cotton_gdal_4326.tif' --calc=\"A*B*C*(10000/1000)\""
   ]
  },
  {
   "cell_type": "markdown",
   "id": "b80ca572",
   "metadata": {},
   "source": [
    "### 4. Explore output:"
   ]
  },
  {
   "cell_type": "code",
   "execution_count": 13,
   "id": "24a16dfa",
   "metadata": {},
   "outputs": [
    {
     "name": "stdout",
     "output_type": "stream",
     "text": [
      "Driver: GTiff/GeoTIFF\n",
      "Files: ../../datasets/processed/water_risk_cotton_gdal_4326.tif\n",
      "Size is 4320, 1668\n",
      "Coordinate System is:\n",
      "GEOGCRS[\"WGS 84\",\n",
      "    DATUM[\"World Geodetic System 1984\",\n",
      "        ELLIPSOID[\"WGS 84\",6378137,298.257223563,\n",
      "            LENGTHUNIT[\"metre\",1]]],\n",
      "    PRIMEM[\"Greenwich\",0,\n",
      "        ANGLEUNIT[\"degree\",0.0174532925199433]],\n",
      "    CS[ellipsoidal,2],\n",
      "        AXIS[\"geodetic latitude (Lat)\",north,\n",
      "            ORDER[1],\n",
      "            ANGLEUNIT[\"degree\",0.0174532925199433]],\n",
      "        AXIS[\"geodetic longitude (Lon)\",east,\n",
      "            ORDER[2],\n",
      "            ANGLEUNIT[\"degree\",0.0174532925199433]],\n",
      "    ID[\"EPSG\",4326]]\n",
      "Data axis to CRS axis mapping: 2,1\n",
      "Origin = (-179.991666650000013,83.088333349999999)\n",
      "Pixel Size = (0.083333333333333,-0.083333333333333)\n",
      "Metadata:\n",
      "  AREA_OR_POINT=Area\n",
      "Image Structure Metadata:\n",
      "  INTERLEAVE=BAND\n",
      "Corner Coordinates:\n",
      "Upper Left  (-179.9916667,  83.0883333) (179d59'30.00\"W, 83d 5'18.00\"N)\n",
      "Lower Left  (-179.9916667, -55.9116667) (179d59'30.00\"W, 55d54'42.00\"S)\n",
      "Upper Right ( 180.0083333,  83.0883333) (180d 0'30.00\"E, 83d 5'18.00\"N)\n",
      "Lower Right ( 180.0083333, -55.9116667) (180d 0'30.00\"E, 55d54'42.00\"S)\n",
      "Center      (   0.0083333,  13.5883333) (  0d 0'30.00\"E, 13d35'18.00\"N)\n",
      "Band 1 Block=4320x1 Type=Float32, ColorInterp=Gray\n",
      "  NoData Value=3.40282346600000016e+38\n"
     ]
    }
   ],
   "source": [
    "!gdalinfo '../../datasets/processed/water_risk_cotton_gdal_4326.tif'"
   ]
  },
  {
   "cell_type": "code",
   "execution_count": 14,
   "id": "c38b677f",
   "metadata": {},
   "outputs": [
    {
     "name": "stdout",
     "output_type": "stream",
     "text": [
      "Driver: GTiff/GeoTIFF\n",
      "Files: ../../datasets/processed/water_risk_cotton_gdal_4326.tif\n",
      "Size is 4320, 1668\n",
      "Coordinate System is:\n",
      "GEOGCRS[\"WGS 84\",\n",
      "    DATUM[\"World Geodetic System 1984\",\n",
      "        ELLIPSOID[\"WGS 84\",6378137,298.257223563,\n",
      "            LENGTHUNIT[\"metre\",1]]],\n",
      "    PRIMEM[\"Greenwich\",0,\n",
      "        ANGLEUNIT[\"degree\",0.0174532925199433]],\n",
      "    CS[ellipsoidal,2],\n",
      "        AXIS[\"geodetic latitude (Lat)\",north,\n",
      "            ORDER[1],\n",
      "            ANGLEUNIT[\"degree\",0.0174532925199433]],\n",
      "        AXIS[\"geodetic longitude (Lon)\",east,\n",
      "            ORDER[2],\n",
      "            ANGLEUNIT[\"degree\",0.0174532925199433]],\n",
      "    ID[\"EPSG\",4326]]\n",
      "Data axis to CRS axis mapping: 2,1\n",
      "Origin = (-179.991666650000013,83.088333349999999)\n",
      "Pixel Size = (0.083333333333333,-0.083333333333333)\n",
      "Metadata:\n",
      "  AREA_OR_POINT=Area\n",
      "Image Structure Metadata:\n",
      "  INTERLEAVE=BAND\n",
      "Corner Coordinates:\n",
      "Upper Left  (-179.9916667,  83.0883333) (179d59'30.00\"W, 83d 5'18.00\"N)\n",
      "Lower Left  (-179.9916667, -55.9116667) (179d59'30.00\"W, 55d54'42.00\"S)\n",
      "Upper Right ( 180.0083333,  83.0883333) (180d 0'30.00\"E, 83d 5'18.00\"N)\n",
      "Lower Right ( 180.0083333, -55.9116667) (180d 0'30.00\"E, 55d54'42.00\"S)\n",
      "Center      (   0.0083333,  13.5883333) (  0d 0'30.00\"E, 13d35'18.00\"N)\n",
      "Band 1 Block=4320x1 Type=Float32, ColorInterp=Gray\n",
      "  Minimum=0.000, Maximum=6044.862, Mean=1.049, StdDev=25.515\n",
      "0...10...20...30...40...50...60...70...80...90...100 - done.\n",
      "  256 buckets from -11.8527 to 6056.71:\n",
      "  2041738 3235 1582 1267 1024 608 514 501 515 393 330 296 194 101 77 79 102 99 69 74 60 64 63 61 52 46 37 36 36 31 20 23 37 27 35 22 25 26 26 23 19 23 22 21 19 19 20 7 13 14 7 2 9 12 9 13 15 8 7 3 9 2 1 2 2 3 2 1 1 1 1 1 1 0 1 0 2 1 0 1 1 2 1 1 0 1 1 0 0 0 0 2 0 0 1 1 1 0 0 0 1 0 1 0 0 1 0 0 0 0 1 0 0 0 0 0 0 0 0 1 1 0 0 0 0 0 0 0 0 0 0 0 0 0 0 0 1 0 0 0 0 0 0 0 1 0 0 0 0 0 0 0 0 0 0 0 0 1 0 0 0 0 0 0 0 0 1 0 0 0 0 0 1 0 0 0 0 1 0 0 2 0 1 0 0 0 0 0 0 0 1 0 0 0 0 0 0 0 0 0 0 0 0 0 0 0 2 0 0 0 1 0 0 0 0 0 0 0 0 0 0 0 0 0 0 0 0 0 0 0 0 0 0 0 0 0 0 0 0 0 0 0 0 0 0 0 0 0 0 0 0 0 0 0 0 1 \n",
      "  NoData Value=3.40282346600000016e+38\n",
      "  Metadata:\n",
      "    STATISTICS_MAXIMUM=6044.8623046875\n",
      "    STATISTICS_MEAN=1.0487854768892\n",
      "    STATISTICS_MINIMUM=0\n",
      "    STATISTICS_STDDEV=25.514611020566\n",
      "    STATISTICS_VALID_PERCENT=28.5\n"
     ]
    }
   ],
   "source": [
    "!gdalinfo -stats -hist '../../datasets/processed/water_risk_cotton_gdal_4326.tif'"
   ]
  },
  {
   "cell_type": "code",
   "execution_count": 18,
   "id": "919aceef",
   "metadata": {},
   "outputs": [
    {
     "data": {
      "image/png": "[encoded data removed]",
      "text/plain": [
       "<Figure size 432x288 with 1 Axes>"
      ]
     },
     "metadata": {
      "needs_background": "light"
     },
     "output_type": "display_data"
    }
   ],
   "source": [
    "## plot histogram of calculated water risk map with no null values\n",
    "\n",
    "src = rio.open('../../datasets/processed/water_risk_cotton_gdal_4326.tif')\n",
    "show_hist(\n",
    "    src, bins=50, lw=0.0, stacked=False, alpha=0.3,\n",
    "    histtype='stepfilled', title=\"Histogram\")"
   ]
  },
  {
   "cell_type": "markdown",
   "id": "470c1e23",
   "metadata": {},
   "source": [
    "### 4. Reproject raster from epsg:4326 to epsg:3857\n",
    "\n",
    "Reproject raster from 4326 to 3857 as the hexgrid is in that projection. We can do it the other way around by reprojecting the vector layer from epsg:3857 to epsg:4326."
   ]
  },
  {
   "cell_type": "code",
   "execution_count": 19,
   "id": "00af76c8",
   "metadata": {},
   "outputs": [
    {
     "name": "stdout",
     "output_type": "stream",
     "text": [
      "Creating output file that is 3909P x 2482L.\n",
      "Processing ../../datasets/processed/water_risk_cotton_gdal_4326.tif [1/1] : 0Using internal nodata values (e.g. 3.40282e+38) for image ../../datasets/processed/water_risk_cotton_gdal_4326.tif.\n",
      "Copying nodata values from source ../../datasets/processed/water_risk_cotton_gdal_4326.tif to destination ../../datasets/processed/water_risk_cotton_gdal_3857.tif.\n",
      "...10...20...30...40...50...60...70...80...90...100 - done.\n"
     ]
    }
   ],
   "source": [
    "!gdalwarp -s_srs EPSG:4326 -t_srs EPSG:3857 -r near -of GTiff '../../datasets/processed/water_risk_cotton_gdal_4326.tif' '../../datasets/processed/water_risk_cotton_gdal_3857.tif'"
   ]
  },
  {
   "cell_type": "code",
   "execution_count": 20,
   "id": "3fe4340d",
   "metadata": {},
   "outputs": [
    {
     "name": "stdout",
     "output_type": "stream",
     "text": [
      "Driver: GTiff/GeoTIFF\n",
      "Files: ../../datasets/processed/water_risk_cotton_gdal_3857.tif\n",
      "Size is 3909, 2482\n",
      "Coordinate System is:\n",
      "PROJCRS[\"WGS 84 / Pseudo-Mercator\",\n",
      "    BASEGEOGCRS[\"WGS 84\",\n",
      "        ENSEMBLE[\"World Geodetic System 1984 ensemble\",\n",
      "            MEMBER[\"World Geodetic System 1984 (Transit)\"],\n",
      "            MEMBER[\"World Geodetic System 1984 (G730)\"],\n",
      "            MEMBER[\"World Geodetic System 1984 (G873)\"],\n",
      "            MEMBER[\"World Geodetic System 1984 (G1150)\"],\n",
      "            MEMBER[\"World Geodetic System 1984 (G1674)\"],\n",
      "            MEMBER[\"World Geodetic System 1984 (G1762)\"],\n",
      "            ELLIPSOID[\"WGS 84\",6378137,298.257223563,\n",
      "                LENGTHUNIT[\"metre\",1]],\n",
      "            ENSEMBLEACCURACY[2.0]],\n",
      "        PRIMEM[\"Greenwich\",0,\n",
      "            ANGLEUNIT[\"degree\",0.0174532925199433]],\n",
      "        ID[\"EPSG\",4326]],\n",
      "    CONVERSION[\"Popular Visualisation Pseudo-Mercator\",\n",
      "        METHOD[\"Popular Visualisation Pseudo Mercator\",\n",
      "            ID[\"EPSG\",1024]],\n",
      "        PARAMETER[\"Latitude of natural origin\",0,\n",
      "            ANGLEUNIT[\"degree\",0.0174532925199433],\n",
      "            ID[\"EPSG\",8801]],\n",
      "        PARAMETER[\"Longitude of natural origin\",0,\n",
      "            ANGLEUNIT[\"degree\",0.0174532925199433],\n",
      "            ID[\"EPSG\",8802]],\n",
      "        PARAMETER[\"False easting\",0,\n",
      "            LENGTHUNIT[\"metre\",1],\n",
      "            ID[\"EPSG\",8806]],\n",
      "        PARAMETER[\"False northing\",0,\n",
      "            LENGTHUNIT[\"metre\",1],\n",
      "            ID[\"EPSG\",8807]]],\n",
      "    CS[Cartesian,2],\n",
      "        AXIS[\"easting (X)\",east,\n",
      "            ORDER[1],\n",
      "            LENGTHUNIT[\"metre\",1]],\n",
      "        AXIS[\"northing (Y)\",north,\n",
      "            ORDER[2],\n",
      "            LENGTHUNIT[\"metre\",1]],\n",
      "    USAGE[\n",
      "        SCOPE[\"Web mapping and visualisation.\"],\n",
      "        AREA[\"World between 85.06°S and 85.06°N.\"],\n",
      "        BBOX[-85.06,-180,85.06,180]],\n",
      "    ID[\"EPSG\",3857]]\n",
      "Data axis to CRS axis mapping: 1,2\n",
      "Origin = (-20037507.187944401055574,17903109.435964517295361)\n",
      "Pixel Size = (10250.852513276198806,-10250.852513276198806)\n",
      "Metadata:\n",
      "  AREA_OR_POINT=Area\n",
      "Image Structure Metadata:\n",
      "  INTERLEAVE=BAND\n",
      "Corner Coordinates:\n",
      "Upper Left  (-20037507.188,17903109.436) (179d59'59.96\"W, 83d 5'18.00\"N)\n",
      "Lower Left  (-20037507.188,-7539506.502) (179d59'59.96\"W, 55d54'17.63\"S)\n",
      "Upper Right (20033075.286,17903109.436) (179d57'36.64\"E, 83d 5'18.00\"N)\n",
      "Lower Right (20033075.286,-7539506.502) (179d57'36.64\"E, 55d54'17.63\"S)\n",
      "Center      (   -2215.951, 5181801.467) (  0d 1'11.66\"W, 42d 8'19.87\"N)\n",
      "Band 1 Block=3909x1 Type=Float32, ColorInterp=Gray\n",
      "  Minimum=0.000, Maximum=6044.862, Mean=0.812, StdDev=22.139\n",
      "0...10...20...30...40...50...60...70...80...90...100 - done.\n",
      "  256 buckets from -11.8527 to 6056.71:\n",
      "  2627491 3182 1573 1245 997 601 514 481 509 384 318 283 192 101 76 78 106 105 67 72 60 59 65 56 47 50 36 36 35 33 20 21 40 29 37 25 30 30 30 27 19 26 24 18 19 21 22 7 12 14 9 3 7 14 9 11 17 6 7 4 6 2 2 2 1 3 3 2 1 1 1 0 1 0 1 0 1 1 0 0 1 3 1 1 0 1 1 0 0 0 0 2 0 0 0 1 2 0 0 0 1 0 1 0 0 1 0 0 0 0 1 0 0 0 0 0 0 0 0 2 1 0 0 0 0 0 0 0 0 0 0 0 0 0 0 0 1 0 0 0 0 0 0 0 1 0 0 0 0 0 0 0 0 0 0 0 0 2 0 0 0 0 0 0 0 0 1 0 0 0 0 0 0 0 0 0 0 0 0 0 1 0 1 0 0 0 0 0 0 0 2 0 0 0 0 0 0 0 0 0 0 0 0 0 0 0 0 0 0 0 1 0 0 0 0 0 0 0 0 0 0 0 0 0 0 0 0 0 0 0 0 0 0 0 0 0 0 0 0 0 0 0 0 0 0 0 0 0 0 0 0 0 0 0 0 1 \n",
      "  NoData Value=3.40282346600000016e+38\n",
      "  Metadata:\n",
      "    STATISTICS_MAXIMUM=6044.8623046875\n",
      "    STATISTICS_MEAN=0.81228264760794\n",
      "    STATISTICS_MINIMUM=0\n",
      "    STATISTICS_STDDEV=22.139482911221\n",
      "    STATISTICS_VALID_PERCENT=27.21\n"
     ]
    }
   ],
   "source": [
    "!gdalinfo -stats -hist '../../datasets/processed/water_risk_cotton_gdal_3857.tif'"
   ]
  },
  {
   "cell_type": "markdown",
   "id": "77c51d8a",
   "metadata": {},
   "source": [
    "### Remove null values and compute histogram"
   ]
  },
  {
   "cell_type": "code",
   "execution_count": 21,
   "id": "f4f9e560",
   "metadata": {},
   "outputs": [
    {
     "name": "stdout",
     "output_type": "stream",
     "text": [
      "<string>:1: RuntimeWarning: invalid value encountered in true_divide\n",
      "0.. 0.. 0.. 0.. 0.. 0.. 0.. 0.. 0.. 0.. 0.. 0.. 0.. 0.. 0.. 0.. 0.. 0.. 0.. 0.. 0.. 0.. 0.. 0.. 0.. 1.. 1.. 1.. 1.. 1.. 1.. 1.. 1.. 1.. 1.. 1.. 1.. 1.. 1.. 1.. 1.. 1.. 1.. 1.. 1.. 1.. 1.. 1.. 1.. 1.. 2.. 2.. 2.. 2.. 2.. 2.. 2.. 2.. 2.. 2.. 2.. 2.. 2.. 2.. 2.. 2.. 2.. 2.. 2.. 2.. 2.. 2.. 2.. 2.. 2.. 3.. 3.. 3.. 3.. 3.. 3.. 3.. 3.. 3.. 3.. 3.. 3.. 3.. 3.. 3.. 3.. 3.. 3.. 3.. 3.. 3.. 3.. 3.. 3.. 3.. 4.. 4.. 4.. 4.. 4.. 4.. 4.. 4.. 4.. 4.. 4.. 4.. 4.. 4.. 4.. 4.. 4.. 4.. 4.. 4.. 4.. 4.. 4.. 4.. 4.. 5.. 5.. 5.. 5.. 5.. 5.. 5.. 5.. 5.. 5.. 5.. 5.. 5.. 5.. 5.. 5.. 5.. 5.. 5.. 5.. 5.. 5.. 5.. 5.. 6.. 6.. 6.. 6.. 6.. 6.. 6.. 6.. 6.. 6.. 6.. 6.. 6.. 6.. 6.. 6.. 6.. 6.. 6.. 6.. 6.. 6.. 6.. 6.. 6.. 7.. 7.. 7.. 7.. 7.. 7.. 7.. 7.. 7.. 7.. 7.. 7.. 7.. 7.. 7.. 7.. 7.. 7.. 7.. 7.. 7.. 7.. 7.. 7.. 7.. 8.. 8.. 8.. 8.. 8.. 8.. 8.. 8.. 8.. 8.. 8.. 8.. 8.. 8.. 8.. 8.. 8.. 8.. 8.. 8.. 8.. 8.. 8.. 8.. 8.. 9.. 9.. 9.. 9.. 9.. 9.. 9.. 9.. 9.. 9.. 9.. 9.. 9.. 9.. 9.. 9.. 9.. 9.. 9.. 9.. 9.. 9.. 9.. 9.. 9.. 10.. 10.. 10.. 10.. 10.. 10.. 10.. 10.. 10.. 10.. 10.. 10.. 10.. 10.. 10.. 10.. 10.. 10.. 10.. 10.. 10.. 10.. 10.. 10.. 10.. 11.. 11.. 11.. 11.. 11.. 11.. 11.. 11.. 11.. 11.. 11.. 11.. 11.. 11.. 11.. 11.. 11.. 11.. 11.. 11.. 11.. 11.. 11.. 11.. 12.. 12.. 12.. 12.. 12.. 12.. 12.. 12.. 12.. 12.. 12.. 12.. 12.. 12.. 12.. 12.. 12.. 12.. 12.. 12.. 12.. 12.. 12.. 12.. 12.. 13.. 13.. 13.. 13.. 13.. 13.. 13.. 13.. 13.. 13.. 13.. 13.. 13.. 13.. 13.. 13.. 13.. 13.. 13.. 13.. 13.. 13.. 13.. 13.. 13.. 14.. 14.. 14.. 14.. 14.. 14.. 14.. 14.. 14.. 14.. 14.. 14.. 14.. 14.. 14.. 14.. 14.. 14.. 14.. 14.. 14.. 14.. 14.. 14.. 14.. 15.. 15.. 15.. 15.. 15.. 15.. 15.. 15.. 15.. 15.. 15.. 15.. 15.. 15.. 15.. 15.. 15.. 15.. 15.. 15.. 15.. 15.. 15.. 15.. 15.. 16.. 16.. 16.. 16.. 16.. 16.. 16.. 16.. 16.. 16.. 16.. 16.. 16.. 16.. 16.. 16.. 16.. 16.. 16.. 16.. 16.. 16.. 16.. 16.. 17.. 17.. 17.. 17.. 17.. 17.. 17.. 17.. 17.. 17.. 17.. 17.. 17.. 17.. 17.. 17.. 17.. 17.. 17.. 17.. 17.. 17.. 17.. 17.. 17.. 18.. 18.. 18.. 18.. 18.. 18.. 18.. 18.. 18.. 18.. 18.. 18.. 18.. 18.. 18.. 18.. 18.. 18.. 18.. 18.. 18.. 18.. 18.. 18.. 18.. 19.. 19.. 19.. 19.. 19.. 19.. 19.. 19.. 19.. 19.. 19.. 19.. 19.. 19.. 19.. 19.. 19.. 19.. 19.. 19.. 19.. 19.. 19.. 19.. 19.. 20.. 20.. 20.. 20.. 20.. 20.. 20.. 20.. 20.. 20.. 20.. 20.. 20.. 20.. 20.. 20.. 20.. 20.. 20.. 20.. 20.. 20.. 20.. 20.. 20.. 21.. 21.. 21.. 21.. 21.. 21.. 21.. 21.. 21.. 21.. 21.. 21.. 21.. 21.. 21.. 21.. 21.. 21.. 21.. 21.. 21.. 21.. 21.. 21.. 21.. 22.. 22.. 22.. 22.. 22.. 22.. 22.. 22.. 22.. 22.. 22.. 22.. 22.. 22.. 22.. 22.. 22.. 22.. 22.. 22.. 22.. 22.. 22.. 22.. 23.. 23.. 23.. 23.. 23.. 23.. 23.. 23.. 23.. 23.. 23.. 23.. 23.. 23.. 23.. 23.. 23.. 23.. 23.. 23.. 23.. 23.. 23.. 23.. 23.. 24.. 24.. 24.. 24.. 24.. 24.. 24.. 24.. 24.. 24.. 24.. 24.. 24.. 24.. 24.. 24.. 24.. 24.. 24.. 24.. 24.. 24.. 24.. 24.. 24.. 25.. 25.. 25.. 25.. 25.. 25.. 25.. 25.. 25.. 25.. 25.. 25.. 25.. 25.. 25.. 25.. 25.. 25.. 25.. 25.. 25.. 25.. 25.. 25.. 25.. 26.. 26.. 26.. 26.. 26.. 26.. 26.. 26.. 26.. 26.. 26.. 26.. 26.. 26.. 26.. 26.. 26.. 26.. 26.. 26.. 26.. 26.. 26.. 26.. 26.. 27.. 27.. 27.. 27.. 27.. 27.. 27.. 27.. 27.. 27.. 27.. 27.. 27.. 27.. 27.. 27.. 27.. 27.. 27.. 27.. 27.. 27.. 27.. 27.. 28.. 28.. 28.. 28.. 28.. 28.. 28.. 28.. 28.. 28.. 28.. 28.. 28.. 28.. 28.. 28.. 28.. 28.. 28.. 28.. 28.. 28.. 28.. 28.. 28.. 29.. 29.. 29.. 29.. 29.. 29.. 29.. 29.. 29.. 29.. 29.. 29.. 29.. 29.. 29.. 29.. 29.. 29.. 29.. 29.. 29.. 29.. 29.. 29.. 29.. 30.. 30.. 30.. 30.. 30.. 30.. 30.. 30.. 30.. 30.. 30.. 30.. 30.. 30.. 30.. 30.. 30.. 30.. 30.. 30.. 30.. 30.. 30.. 30.. 30.. 31.. 31.. 31.. 31.. 31.. 31.. 31.. 31.. 31.. 31.. 31.. 31.. 31.. 31.. 31.. 31.. 31.. 31.. 31.. 31.. 31.. 31.. 31.. 31.. 31.. 32.. 32.. 32.. 32.. 32.. 32.. 32.. 32.. 32.. 32.. 32.. 32.. 32.. 32.. 32.. 32.. 32.. 32.. 32.. 32.. 32.. 32.. 32.. 32.. 32.. 33.. 33.. 33.. 33.. 33.. 33.. 33.. 33.. 33.. 33.. 33.. 33.. 33.. 33.. 33.. 33.. 33.. 33.. 33.. 33.. 33.. 33.. 33.. 33.. 34.. 34.. 34.. 34.. 34.. 34.. 34.. 34.. 34.. 34.. 34.. 34.. 34.. 34.. 34.. 34.. 34.. 34.. 34.. 34.. 34.. 34.. 34.. 34.. 34.. 35.. 35.. 35.. 35.. 35.. 35.. 35.. 35.. 35.. 35.. 35.. 35.. 35.. 35.. 35.. 35.. 35.. 35.. 35.. 35.. 35.. 35.. 35.. 35.. 35.. 36.. 36.. 36.. 36.. 36.. 36.. 36.. 36.. 36.. 36.. 36.. 36.. 36.. 36.. 36.. 36.. 36.. 36.. 36.. 36.. 36.. 36.. 36.. 36.. 36.. 37.. 37.. 37.. 37.. 37.. 37.. 37.. 37.. 37.. 37.. 37.. 37.. 37.. 37.. 37.. 37.. 37.. 37.. 37.. 37.. 37.. 37.. 37.. 37.. 37.. 38.. 38.. 38.. 38.. 38.. 38.. 38.. 38.. 38.. 38.. 38.. 38.. 38.. 38.. 38.. 38.. 38.. 38.. 38.. 38.. 38.. 38.. 38.. 38.. 39.. 39.. 39.. 39.. 39.. 39.. 39.. 39.. 39.. 39.. 39.. 39.. 39.. 39.. 39.. 39.. 39.. 39.. 39.. 39.. 39.. 39.. 39.. 39.. 39.. 40.. 40.. 40.. 40.. 40.. 40.. 40.. 40.. 40.. 40.. 40.. 40.. 40.. 40.. 40.. 40.. 40.. 40.. 40.. 40.. 40.. 40.. 40.. 40.. 40.. 41.. 41.. 41.. 41.. 41.. 41.. 41.. 41.. 41.. 41.. 41.. 41.. 41.. 41.. 41.. 41.. 41.. 41.. 41.. 41.. 41.. 41.. 41.. 41.. 41.. 42.. 42.. 42.. 42.. 42.. 42.. 42.. 42.. 42.. 42.. 42.. 42.. 42.. 42.. 42.. 42.. 42.. 42.. 42.. 42.. 42.. 42.. 42.. 42.. 42.. 43.. 43.. 43.. 43.. 43.. 43.. 43.. 43.. 43.. 43.. 43.. 43.. 43.. 43.. 43.. 43.. 43.. 43.. 43.. 43.. 43.. 43.. 43.. 43.. 43.. 44.. 44.. 44.. 44.. 44.. 44.. 44.. 44.. 44.. 44.. 44.. 44.. 44.. 44.. 44.. 44.. 44.. 44.. 44.. 44.. 44.. 44.. 44.. 44.. 45.. 45.. 45.. 45.. 45.. 45.. 45.. 45.. 45.. 45.. 45.. 45.. 45.. 45.. 45.. 45.. 45.. 45.. 45.. 45.. 45.. 45.. 45.. 45.. 45.. 46.. 46.. 46.. 46.. 46.. 46.. 46.. 46.. 46.. 46.. 46.. 46.. 46.. 46.. 46.. 46.. 46.. 46.. 46.. 46.. 46.. 46.. 46.. 46.. 46.. 47.. 47.. 47.. 47.. 47.. 47.. 47.. 47.. 47.. 47.. 47.. 47.. 47.. 47.. 47.. 47.. 47.. 47.. 47.. 47.. 47.. 47.. 47.. 47.. 47.. 48.. 48.. 48.. 48.. 48.. 48.. 48.. 48.. 48.. 48.. 48.. 48.. 48.. 48.. 48.. 48.. 48.. 48.. 48.. 48.. 48.. 48.. 48.. 48.. 48.. 49.. 49.. 49.. 49.. 49.. 49.. 49.. 49.. 49.. 49.. 49.. 49.. 49.. 49.. 49.. 49.. 49.. 49.. 49.. 49.. 49.. 49.. 49.. 49.. 50.. 50.. 50.. 50.. 50.. 50.. 50.. 50.. 50.. 50.. 50.. 50.. 50.. 50.. 50.. 50.. 50.. 50.. 50.. 50.. 50.. 50.. 50.. 50.. 50.. 51.. 51.. 51.. 51.. 51.. 51.. 51.. 51.. 51.. 51.. 51.. 51.. 51.. 51.. 51.. 51.. 51.. 51.. 51.. 51.. 51.. 51.. 51.. 51.. 51.. 52.. 52.. 52.. 52.. 52.. 52.. 52.. 52.. 52.. 52.. 52.. 52.. 52.. 52.. 52.. 52.. 52.. 52.. 52.. 52.. 52.. 52.. 52.. 52.. 52.. 53.. 53.. 53.. 53.. 53.. 53.. 53.. 53.. 53.. 53.. 53.. 53.. 53.. 53.. 53.. 53.. 53.. 53.. 53.. 53.. 53.. 53.. 53.. 53.. 53.. 54.. 54.. 54.. 54.. 54.. 54.. 54.. 54.. 54.. 54.. 54.. 54.. 54.. 54.. 54.. 54.. 54.. 54.. 54.. 54.. 54.. 54.. 54.. 54.. 54.. 55.. 55.. 55.. 55.. 55.. 55.. 55.. 55.. 55.. 55.. 55.. 55.. 55.. 55.. 55.. 55.. 55.. 55.. 55.. 55.. 55.. 55.. 55.. 55.. 56.. 56.. 56.. 56.. 56.. 56.. 56.. 56.. 56.. 56.. 56.. 56.. 56.. 56.. 56.. 56.. 56.. 56.. 56.. 56.. 56.. 56.. 56.. 56.. 56.. 57.. 57.. 57.. 57.. 57.. 57.. 57.. 57.. 57.. 57.. 57.. 57.. 57.. 57.. 57.. 57.. 57.. 57.. 57.. 57.. 57.. 57.. 57.. 57.. 57.. 58.. 58.. 58.. 58.. 58.. 58.. 58.. 58.. 58.. 58.. 58.. 58.. 58.. 58.. 58.. 58.. 58.. 58.. 58.. 58.. 58.. 58.. 58.. 58.. 58.. 59.. 59.. 59.. 59.. 59.. 59.. 59.. 59.. 59.. 59.. 59.. 59.. 59.. 59.. 59.. 59.. 59.. 59.. 59.. 59.. 59.. 59.. 59.. 59.. 59.. 60.. 60.. 60.. 60.. 60.. 60.. 60.. 60.. 60.. 60.. 60.. 60.. 60.. 60.. 60.. 60.. 60.. 60.. 60.. 60.. 60.. 60.. 60.. 60.. 60.. 61.. 61.. 61.. 61.. 61.. 61.. 61.. 61.. 61.. 61.. 61.. 61.. 61.. 61.. 61.. 61.. 61.. 61.. 61.. 61.. 61.. 61.. 61.. 61.. 62.. 62.. 62.. 62.. 62.. 62.. 62.. 62.. 62.. 62.. 62.. 62.. 62.. 62.. 62.. 62.. 62.. 62.. 62.. 62.. 62.. 62.. 62.. 62.. 62.. 63.. 63.. 63.. 63.. 63.. 63.. 63.. 63.. 63.. 63.. 63.. 63.. 63.. 63.. 63.. 63.. 63.. 63.. 63.. 63.. 63.. 63.. 63.. 63.. 63.. 64.. 64.. 64.. 64.. 64.. 64.. 64.. 64.. 64.. 64.. 64.. 64.. 64.. 64.. 64.. 64.. 64.. 64.. 64.. 64.. 64.. 64.. 64.. 64.. 64.. 65.. 65.. 65.. 65.. 65.. 65.. 65.. 65.. 65.. 65.. 65.. 65.. 65.. 65.. 65.. 65.. 65.. 65.. 65.. 65.. 65.. 65.. 65.. 65.. 65.. 66.. 66.. 66.. 66.. 66.. 66.. 66.. 66.. 66.. 66.. 66.. 66.. 66.. 66.. 66.. 66.. 66.. 66.. 66.. 66.. 66.. 66.. 66.. 66.. 67.. 67.. 67.. 67.. 67.. 67.. 67.. 67.. 67.. 67.. 67.. 67.. 67.. 67.. 67.. 67.. 67.. 67.. 67.. 67.. 67.. 67.. 67.. 67.. 67.. 68.. 68.. 68.. 68.. 68.. 68.. 68.. 68.. 68.. 68.. 68.. 68.. 68.. 68.. 68.. 68.. 68.. 68.. 68.. 68.. 68.. 68.. 68.. 68.. 68.. 69.. 69.. 69.. 69.. 69.. 69.. 69.. 69.. 69.. 69.. 69.. 69.. 69.. 69.. 69.. 69.. 69.. 69.. 69.. 69.. 69.. 69.. 69.. 69.. 69.. 70.. 70.. 70.. 70.. 70.. 70.. 70.. 70.. 70.. 70.. 70.. 70.. 70.. 70.. 70.. 70.. 70.. 70.. 70.. 70.. 70.. 70.. 70.. 70.. 70.. 71.. 71.. 71.. 71.. 71.. 71.. 71.. 71.. 71.. 71.. 71.. 71.. 71.. 71.. 71.. 71.. 71.. 71.. 71.. 71.. 71.. 71.. 71.. 71.. 71.. 72.. 72.. 72.. 72.. 72.. 72.. 72.. 72.. 72.. 72.. 72.. 72.. 72.. 72.. 72.. 72.. 72.. 72.. 72.. 72.. 72.. 72.. 72.. 72.. 73.. 73.. 73.. 73.. 73.. 73.. 73.. 73.. 73.. 73.. 73.. 73.. 73.. 73.. 73.. 73.. 73.. 73.. 73.. 73.. 73.. 73.. 73.. 73.. 73.. 74.. 74.. 74.. 74.. 74.. 74.. 74.. 74.. 74.. 74.. 74.. 74.. 74.. 74.. 74.. 74.. 74.. 74.. 74.. 74.. 74.. 74.. 74.. 74.. 74.. 75.. 75.. 75.. 75.. 75.. 75.. 75.. 75.. 75.. 75.. 75.. 75.. 75.. 75.. 75.. 75.. 75.. 75.. 75.. 75.. 75.. 75.. 75.. 75.. 75.. 76.. 76.. 76.. 76.. 76.. 76.. 76.. 76.. 76.. 76.. 76.. 76.. 76.. 76.. 76.. 76.. 76.. 76.. 76.. 76.. 76.. 76.. 76.. 76.. 76.. 77.. 77.. 77.. 77.. 77.. 77.. 77.. 77.. 77.. 77.. 77.. 77.. 77.. 77.. 77.. 77.. 77.. 77.. 77.. 77.. 77.. 77.. 77.. 77.. 78.. 78.. 78.. 78.. 78.. 78.. 78.. 78.. 78.. 78.. 78.. 78.. 78.. 78.. 78.. 78.. 78.. 78.. 78.. 78.. 78.. 78.. 78.. 78.. 78.. 79.. 79.. 79.. 79.. 79.. 79.. 79.. 79.. 79.. 79.. 79.. 79.. 79.. 79.. 79.. 79.. 79.. 79.. 79.. 79.. 79.. 79.. 79.. 79.. 79.. 80.. 80.. 80.. 80.. 80.. 80.. 80.. 80.. 80.. 80.. 80.. 80.. 80.. 80.. 80.. 80.. 80.. 80.. 80.. 80.. 80.. 80.. 80.. 80.. 80.. 81.. 81.. 81.. 81.. 81.. 81.. 81.. 81.. 81.. 81.. 81.. 81.. 81.. 81.. 81.. 81.. 81.. 81.. 81.. 81.. 81.. 81.. 81.. 81.. 81.. 82.. 82.. 82.. 82.. 82.. 82.. 82.. 82.. 82.. 82.. 82.. 82.. 82.. 82.. 82.. 82.. 82.. 82.. 82.. 82.. 82.. 82.. 82.. 82.. 82.. 83.. 83.. 83.. 83.. 83.. 83.. 83.. 83.. 83.. 83.. 83.. 83.. 83.. 83.. 83.. 83.. 83.. 83.. 83.. 83.. 83.. 83.. 83.. 83.. 84.. 84.. 84.. 84.. 84.. 84.. 84.. 84.. 84.. 84.. 84.. 84.. 84.. 84.. 84.. 84.. 84.. 84.. 84.. 84.. 84.. 84.. 84.. 84.. 84.. 85.. 85.. 85.. 85.. 85.. 85.. 85.. 85.. 85.. 85.. 85.. 85.. 85.. 85.. 85.. 85.. 85.. 85.. 85.. 85.. 85.. 85.. 85.. 85.. 85.. 86.. 86.. 86.. 86.. 86.. 86.. 86.. 86.. 86.. 86.. 86.. 86.. 86.. 86.. 86.. 86.. 86.. 86.. 86.. 86.. 86.. 86.. 86.. 86.. 86.. 87.. 87.. 87.. 87.. 87.. 87.. 87.. 87.. 87.. 87.. 87.. 87.. 87.. 87.. 87.. 87.. 87.. 87.. 87.. 87.. 87.. 87.. 87.. 87.. 87.. 88.. 88.. 88.. 88.. 88.. 88.. 88.. 88.. 88.. 88.. 88.. 88.. 88.. 88.. 88.. 88.. 88.. 88.. 88.. 88.. 88.. 88.. 88.. 88.. 89.. 89.. 89.. 89.. 89.. 89.. 89.. 89.. 89.. 89.. 89.. 89.. 89.. 89.. 89.. 89.. 89.. 89.. 89.. 89.. 89.. 89.. 89.. 89.. 89.. 90.. 90.. 90.. 90.. 90.. 90.. 90.. 90.. 90.. 90.. 90.. 90.. 90.. 90.. 90.. 90.. 90.. 90.. 90.. 90.. 90.. 90.. 90.. 90.. 90.. 91.. 91.. 91.. 91.. 91.. 91.. 91.. 91.. 91.. 91.. 91.. 91.. 91.. 91.. 91.. 91.. 91.. 91.. 91.. 91.. 91.. 91.. 91.. 91.. 91.. 92.. 92.. 92.. 92.. 92.. 92.. 92.. 92.. 92.. 92.. 92.. 92.. 92.. 92.. 92.. 92.. 92.. 92.. 92.. 92.. 92.. 92.. 92.. 92.. 92.. 93.. 93.. 93.. 93.. 93.. 93.. 93.. 93.. 93.. 93.. 93.. 93.. 93.. 93.. 93.. 93.. 93.. 93.. 93.. 93.. 93.. 93.. 93.. 93.. 93.. 94.. 94.. 94.. 94.. 94.. 94.. 94.. 94.. 94.. 94.. 94.. 94.. 94.. 94.. 94.. 94.. 94.. 94.. 94.. 94.. 94.. 94.. 94.. 94.. 95.. 95.. 95.. 95.. 95.. 95.. 95.. 95.. 95.. 95.. 95.. 95.. 95.. 95.. 95.. 95.. 95.. 95.. 95.. 95.. 95.. 95.. 95.. 95.. 95.. 96.. 96.. 96.. 96.. 96.. 96.. 96.. 96.. 96.. 96.. 96.. 96.. 96.. 96.. 96.. 96.. 96.. 96.. 96.. 96.. 96.. 96.. 96.. 96.. 96.. 97.. 97.. 97.. 97.. 97.. 97.. 97.. 97.. 97.. 97.. 97.. 97.. 97.. 97.. 97.. 97.. 97.. 97.. 97.. 97.. 97.. 97.. 97.. 97.. 97.. 98.. 98.. 98.. 98.. 98.. 98.. 98.. 98.. 98.. 98.. 98.. 98.. 98.. 98.. 98.. 98.. 98.. 98.. 98.. 98.. 98.. 98.. 98.. 98.. 98.. 99.. 99.. 99.. 99.. 99.. 99.. 99.. 99.. 99.. 99.. 99.. 99.. 99.. 99.. 99.. 99.. 99.. 99.. 99.. 99.. 99.. 99.. 99.. 99.. 100 - Done\n"
     ]
    }
   ],
   "source": [
    "##RASTER/(RASTER>0)\n",
    "!gdal_calc.py -A '../../datasets/processed/water_risk_cotton_gdal_3857.tif' --outfile='../../datasets/processed/water_risk_cotton_gdal_3857_noZeros.tif' --calc=\"A/(A>0)\""
   ]
  },
  {
   "cell_type": "code",
   "execution_count": 23,
   "id": "cef0b194",
   "metadata": {},
   "outputs": [
    {
     "name": "stdout",
     "output_type": "stream",
     "text": [
      "Driver: GTiff/GeoTIFF\n",
      "Files: ../../datasets/processed/water_risk_cotton_gdal_3857_noZeros.tif\n",
      "Size is 3909, 2482\n",
      "Coordinate System is:\n",
      "PROJCRS[\"WGS 84 / Pseudo-Mercator\",\n",
      "    BASEGEOGCRS[\"WGS 84\",\n",
      "        ENSEMBLE[\"World Geodetic System 1984 ensemble\",\n",
      "            MEMBER[\"World Geodetic System 1984 (Transit)\"],\n",
      "            MEMBER[\"World Geodetic System 1984 (G730)\"],\n",
      "            MEMBER[\"World Geodetic System 1984 (G873)\"],\n",
      "            MEMBER[\"World Geodetic System 1984 (G1150)\"],\n",
      "            MEMBER[\"World Geodetic System 1984 (G1674)\"],\n",
      "            MEMBER[\"World Geodetic System 1984 (G1762)\"],\n",
      "            ELLIPSOID[\"WGS 84\",6378137,298.257223563,\n",
      "                LENGTHUNIT[\"metre\",1]],\n",
      "            ENSEMBLEACCURACY[2.0]],\n",
      "        PRIMEM[\"Greenwich\",0,\n",
      "            ANGLEUNIT[\"degree\",0.0174532925199433]],\n",
      "        ID[\"EPSG\",4326]],\n",
      "    CONVERSION[\"Popular Visualisation Pseudo-Mercator\",\n",
      "        METHOD[\"Popular Visualisation Pseudo Mercator\",\n",
      "            ID[\"EPSG\",1024]],\n",
      "        PARAMETER[\"Latitude of natural origin\",0,\n",
      "            ANGLEUNIT[\"degree\",0.0174532925199433],\n",
      "            ID[\"EPSG\",8801]],\n",
      "        PARAMETER[\"Longitude of natural origin\",0,\n",
      "            ANGLEUNIT[\"degree\",0.0174532925199433],\n",
      "            ID[\"EPSG\",8802]],\n",
      "        PARAMETER[\"False easting\",0,\n",
      "            LENGTHUNIT[\"metre\",1],\n",
      "            ID[\"EPSG\",8806]],\n",
      "        PARAMETER[\"False northing\",0,\n",
      "            LENGTHUNIT[\"metre\",1],\n",
      "            ID[\"EPSG\",8807]]],\n",
      "    CS[Cartesian,2],\n",
      "        AXIS[\"easting (X)\",east,\n",
      "            ORDER[1],\n",
      "            LENGTHUNIT[\"metre\",1]],\n",
      "        AXIS[\"northing (Y)\",north,\n",
      "            ORDER[2],\n",
      "            LENGTHUNIT[\"metre\",1]],\n",
      "    USAGE[\n",
      "        SCOPE[\"Web mapping and visualisation.\"],\n",
      "        AREA[\"World between 85.06°S and 85.06°N.\"],\n",
      "        BBOX[-85.06,-180,85.06,180]],\n",
      "    ID[\"EPSG\",3857]]\n",
      "Data axis to CRS axis mapping: 1,2\n",
      "Origin = (-20037507.187944401055574,17903109.435964517295361)\n",
      "Pixel Size = (10250.852513276198806,-10250.852513276198806)\n",
      "Metadata:\n",
      "  AREA_OR_POINT=Area\n",
      "Image Structure Metadata:\n",
      "  INTERLEAVE=BAND\n",
      "Corner Coordinates:\n",
      "Upper Left  (-20037507.188,17903109.436) (179d59'59.96\"W, 83d 5'18.00\"N)\n",
      "Lower Left  (-20037507.188,-7539506.502) (179d59'59.96\"W, 55d54'17.63\"S)\n",
      "Upper Right (20033075.286,17903109.436) (179d57'36.64\"E, 83d 5'18.00\"N)\n",
      "Lower Right (20033075.286,-7539506.502) (179d57'36.64\"E, 55d54'17.63\"S)\n",
      "Center      (   -2215.951, 5181801.467) (  0d 1'11.66\"W, 42d 8'19.87\"N)\n",
      "Band 1 Block=3909x1 Type=Float32, ColorInterp=Gray\n",
      "  Minimum=0.000, Maximum=6044.862, Mean=28.049, StdDev=127.128\n",
      "0...10...20...30...40...50...60...70...80...90...100 - done.\n",
      "  256 buckets from -11.8527 to 6056.71:\n",
      "  64460 3182 1573 1245 997 601 514 481 509 384 318 283 192 101 76 78 106 105 67 72 60 59 65 56 47 50 36 36 35 33 20 21 40 29 37 25 30 30 30 27 19 26 24 18 19 21 22 7 12 14 9 3 7 14 9 11 17 6 7 4 6 2 2 2 1 3 3 2 1 1 1 0 1 0 1 0 1 1 0 0 1 3 1 1 0 1 1 0 0 0 0 2 0 0 0 1 2 0 0 0 1 0 1 0 0 1 0 0 0 0 1 0 0 0 0 0 0 0 0 2 1 0 0 0 0 0 0 0 0 0 0 0 0 0 0 0 1 0 0 0 0 0 0 0 1 0 0 0 0 0 0 0 0 0 0 0 0 2 0 0 0 0 0 0 0 0 1 0 0 0 0 0 0 0 0 0 0 0 0 0 1 0 1 0 0 0 0 0 0 0 2 0 0 0 0 0 0 0 0 0 0 0 0 0 0 0 0 0 0 0 1 0 0 0 0 0 0 0 0 0 0 0 0 0 0 0 0 0 0 0 0 0 0 0 0 0 0 0 0 0 0 0 0 0 0 0 0 0 0 0 0 0 0 0 0 1 \n",
      "  NoData Value=3.40282346600000016e+38\n",
      "  Metadata:\n",
      "    STATISTICS_MAXIMUM=6044.8623046875\n",
      "    STATISTICS_MEAN=28.048809068776\n",
      "    STATISTICS_MINIMUM=4.4902626755716e-11\n",
      "    STATISTICS_STDDEV=127.12818239194\n",
      "    STATISTICS_VALID_PERCENT=0.7878\n"
     ]
    }
   ],
   "source": [
    "!gdalinfo -stats -hist '../../datasets/processed/water_risk_cotton_gdal_3857_noZeros.tif'"
   ]
  },
  {
   "cell_type": "code",
   "execution_count": 22,
   "id": "7af7923f",
   "metadata": {},
   "outputs": [
    {
     "data": {
      "image/png": "[encoded data removed]",
      "text/plain": [
       "<Figure size 432x288 with 1 Axes>"
      ]
     },
     "metadata": {
      "needs_background": "light"
     },
     "output_type": "display_data"
    }
   ],
   "source": [
    "## plot histogram of calculated water risk map with no null values\n",
    "\n",
    "src = rio.open('../../datasets/processed/water_risk_cotton_gdal_3857_noZeros.tif')\n",
    "show_hist(\n",
    "    src, bins=50, lw=0.0, stacked=False, alpha=0.3,\n",
    "    histtype='stepfilled', title=\"Histogram\")"
   ]
  },
  {
   "cell_type": "markdown",
   "id": "822424cd",
   "metadata": {},
   "source": [
    "#### Zonal statistics with the raster values and the hexgrid\n",
    "In the prototype I'm going to use hexgrid intead og h3 in order to simplify things."
   ]
  },
  {
   "cell_type": "code",
   "execution_count": 3,
   "id": "6f1da4c9",
   "metadata": {},
   "outputs": [
    {
     "data": {
      "text/html": [
       "<div>\n",
       "<style scoped>\n",
       "    .dataframe tbody tr th:only-of-type {\n",
       "        vertical-align: middle;\n",
       "    }\n",
       "\n",
       "    .dataframe tbody tr th {\n",
       "        vertical-align: top;\n",
       "    }\n",
       "\n",
       "    .dataframe thead th {\n",
       "        text-align: right;\n",
       "    }\n",
       "</style>\n",
       "<table border=\"1\" class=\"dataframe\">\n",
       "  <thead>\n",
       "    <tr style=\"text-align: right;\">\n",
       "      <th></th>\n",
       "      <th>fid</th>\n",
       "      <th>id</th>\n",
       "      <th>left</th>\n",
       "      <th>top</th>\n",
       "      <th>right</th>\n",
       "      <th>bottom</th>\n",
       "      <th>geometry</th>\n",
       "    </tr>\n",
       "  </thead>\n",
       "  <tbody>\n",
       "    <tr>\n",
       "      <th>0</th>\n",
       "      <td>36916221.0</td>\n",
       "      <td>36916221.0</td>\n",
       "      <td>8.122601e+06</td>\n",
       "      <td>9.254847e+05</td>\n",
       "      <td>8.129059e+06</td>\n",
       "      <td>9.198919e+05</td>\n",
       "      <td>POLYGON ((8122600.657 922688.319, 8124215.157 ...</td>\n",
       "    </tr>\n",
       "    <tr>\n",
       "      <th>1</th>\n",
       "      <td>36922569.0</td>\n",
       "      <td>36922569.0</td>\n",
       "      <td>8.127444e+06</td>\n",
       "      <td>9.282811e+05</td>\n",
       "      <td>8.133902e+06</td>\n",
       "      <td>9.226883e+05</td>\n",
       "      <td>POLYGON ((8127444.157 925484.715, 8129058.657 ...</td>\n",
       "    </tr>\n",
       "    <tr>\n",
       "      <th>2</th>\n",
       "      <td>36928918.0</td>\n",
       "      <td>36928918.0</td>\n",
       "      <td>8.132288e+06</td>\n",
       "      <td>9.310775e+05</td>\n",
       "      <td>8.138746e+06</td>\n",
       "      <td>9.254847e+05</td>\n",
       "      <td>POLYGON ((8132287.657 928281.111, 8133902.157 ...</td>\n",
       "    </tr>\n",
       "    <tr>\n",
       "      <th>3</th>\n",
       "      <td>36814601.0</td>\n",
       "      <td>36814601.0</td>\n",
       "      <td>8.045105e+06</td>\n",
       "      <td>1.126825e+06</td>\n",
       "      <td>8.051563e+06</td>\n",
       "      <td>1.121232e+06</td>\n",
       "      <td>POLYGON ((8045104.657 1124028.833, 8046719.157...</td>\n",
       "    </tr>\n",
       "    <tr>\n",
       "      <th>4</th>\n",
       "      <td>36820948.0</td>\n",
       "      <td>36820948.0</td>\n",
       "      <td>8.049948e+06</td>\n",
       "      <td>1.135214e+06</td>\n",
       "      <td>8.056406e+06</td>\n",
       "      <td>1.129622e+06</td>\n",
       "      <td>POLYGON ((8049948.157 1132418.021, 8051562.657...</td>\n",
       "    </tr>\n",
       "  </tbody>\n",
       "</table>\n",
       "</div>"
      ],
      "text/plain": [
       "          fid          id          left           top         right  \\\n",
       "0  36916221.0  36916221.0  8.122601e+06  9.254847e+05  8.129059e+06   \n",
       "1  36922569.0  36922569.0  8.127444e+06  9.282811e+05  8.133902e+06   \n",
       "2  36928918.0  36928918.0  8.132288e+06  9.310775e+05  8.138746e+06   \n",
       "3  36814601.0  36814601.0  8.045105e+06  1.126825e+06  8.051563e+06   \n",
       "4  36820948.0  36820948.0  8.049948e+06  1.135214e+06  8.056406e+06   \n",
       "\n",
       "         bottom                                           geometry  \n",
       "0  9.198919e+05  POLYGON ((8122600.657 922688.319, 8124215.157 ...  \n",
       "1  9.226883e+05  POLYGON ((8127444.157 925484.715, 8129058.657 ...  \n",
       "2  9.254847e+05  POLYGON ((8132287.657 928281.111, 8133902.157 ...  \n",
       "3  1.121232e+06  POLYGON ((8045104.657 1124028.833, 8046719.157...  \n",
       "4  1.129622e+06  POLYGON ((8049948.157 1132418.021, 8051562.657...  "
      ]
     },
     "execution_count": 3,
     "metadata": {},
     "output_type": "execute_result"
    }
   ],
   "source": [
    "#import vector hexgrid for india - note: this would be worldwide but for computational limitations I use indi as test\n",
    "ind_hexgrid = gpd.read_file('../../datasets/raw/gadm_36_india_hexgrid.shp')\n",
    "ind_hexgrid.head()"
   ]
  },
  {
   "cell_type": "code",
   "execution_count": 11,
   "id": "bf7066d7",
   "metadata": {},
   "outputs": [
    {
     "name": "stdout",
     "output_type": "stream",
     "text": [
      "--- 0.00014662742614746094 seconds ---\n"
     ]
    }
   ],
   "source": [
    "#summary statistics in test geometry - adm level 3\n",
    "start_time = time.time()\n",
    "raster_path = '../../datasets/processed/water_risk_cotton_gdal_3857_noZeros.tif'\n",
    "wr_stats_hexgrid = gen_zonal_stats(\n",
    "    ind_hexgrid,\n",
    "    raster_path,\n",
    "    stats=\"median std\",\n",
    "    prefix = 'wr_',\n",
    "    geojson_out=True,\n",
    "    all_touched=True\n",
    "    )\n",
    "print(\"--- %s seconds ---\" % (time.time() - start_time))"
   ]
  },
  {
   "cell_type": "code",
   "execution_count": 12,
   "id": "39052434",
   "metadata": {},
   "outputs": [
    {
     "name": "stdout",
     "output_type": "stream",
     "text": [
      "{'id': '0', 'type': 'Feature', 'properties': {'bottom': 919891.9226220362, 'fid': 36916221.0, 'id': 36916221.0, 'left': 8122600.657196499, 'right': 8129058.657196496, 'top': 925484.7146796733, 'wr_median': None, 'wr_std': None}, 'geometry': {'type': 'Polygon', 'coordinates': (((8122600.657196499, 922688.3186508566), (8124215.1571964985, 925484.7146796733), (8127444.157196497, 925484.7146796733), (8129058.657196496, 922688.3186508566), (8127444.157196497, 919891.9226220362), (8124215.1571964985, 919891.9226220362), (8122600.657196499, 922688.3186508566)),)}, 'bbox': (8122600.657196499, 919891.9226220362, 8129058.657196496, 925484.7146796733)}\n"
     ]
    }
   ],
   "source": [
    "\n",
    "for feature in wr_stats_hexgrid:\n",
    "    print(feature)\n",
    "    break"
   ]
  },
  {
   "cell_type": "code",
   "execution_count": 13,
   "id": "8b3c4d14",
   "metadata": {},
   "outputs": [
    {
     "name": "stderr",
     "output_type": "stream",
     "text": [
      "/opt/conda/lib/python3.8/site-packages/numpy/core/_methods.py:47: RuntimeWarning: overflow encountered in reduce\n",
      "  return umr_sum(a, axis, dtype, out, keepdims, initial, where)\n",
      "/opt/conda/lib/python3.8/site-packages/rasterstats/main.py:231: UserWarning: Warning: converting a masked element to nan.\n",
      "  feature_stats['std'] = float(masked.std())\n",
      "/opt/conda/lib/python3.8/site-packages/numpy/core/_methods.py:178: RuntimeWarning: overflow encountered in reduce\n",
      "  ret = umr_sum(arr, axis, dtype, out, keepdims, where=where)\n"
     ]
    },
    {
     "name": "stdout",
     "output_type": "stream",
     "text": [
      "--- 1361.7575714588165 seconds ---\n"
     ]
    }
   ],
   "source": [
    "#generate a dataframe with the elements\n",
    "start_time = time.time()\n",
    "h3_wr_cotton = pd.DataFrame([],columns=['h3_id', 'wr_cotton_median', 'geometry'])\n",
    "for feature in wr_stats_hexgrid:\n",
    "    h3_wr_cotton.loc[len(h3_wr_cotton)]=[\n",
    "        feature['properties']['fid'],\n",
    "        feature['properties']['wr_median'],\n",
    "        shape(feature['geometry'])\n",
    "            ]\n",
    "print(\"--- %s seconds ---\" % (time.time() - start_time))"
   ]
  },
  {
   "cell_type": "code",
   "execution_count": 14,
   "id": "a5e030c7",
   "metadata": {},
   "outputs": [
    {
     "data": {
      "text/html": [
       "<div>\n",
       "<style scoped>\n",
       "    .dataframe tbody tr th:only-of-type {\n",
       "        vertical-align: middle;\n",
       "    }\n",
       "\n",
       "    .dataframe tbody tr th {\n",
       "        vertical-align: top;\n",
       "    }\n",
       "\n",
       "    .dataframe thead th {\n",
       "        text-align: right;\n",
       "    }\n",
       "</style>\n",
       "<table border=\"1\" class=\"dataframe\">\n",
       "  <thead>\n",
       "    <tr style=\"text-align: right;\">\n",
       "      <th></th>\n",
       "      <th>h3_id</th>\n",
       "      <th>wr_cotton_median</th>\n",
       "      <th>geometry</th>\n",
       "    </tr>\n",
       "  </thead>\n",
       "  <tbody>\n",
       "    <tr>\n",
       "      <th>0</th>\n",
       "      <td>36922569.0</td>\n",
       "      <td>NaN</td>\n",
       "      <td>POLYGON ((8127444.157196499 925484.7146796733,...</td>\n",
       "    </tr>\n",
       "    <tr>\n",
       "      <th>1</th>\n",
       "      <td>36928918.0</td>\n",
       "      <td>NaN</td>\n",
       "      <td>POLYGON ((8132287.657196496 928281.1107084937,...</td>\n",
       "    </tr>\n",
       "    <tr>\n",
       "      <th>2</th>\n",
       "      <td>36814601.0</td>\n",
       "      <td>NaN</td>\n",
       "      <td>POLYGON ((8045104.65719654 1124028.832725789, ...</td>\n",
       "    </tr>\n",
       "    <tr>\n",
       "      <th>3</th>\n",
       "      <td>36820948.0</td>\n",
       "      <td>NaN</td>\n",
       "      <td>POLYGON ((8049948.157196537 1132418.020812247,...</td>\n",
       "    </tr>\n",
       "    <tr>\n",
       "      <th>4</th>\n",
       "      <td>36865383.0</td>\n",
       "      <td>NaN</td>\n",
       "      <td>POLYGON ((8083852.657196518 1179956.753302161,...</td>\n",
       "    </tr>\n",
       "    <tr>\n",
       "      <th>...</th>\n",
       "      <td>...</td>\n",
       "      <td>...</td>\n",
       "      <td>...</td>\n",
       "    </tr>\n",
       "    <tr>\n",
       "      <th>141997</th>\n",
       "      <td>40477596.0</td>\n",
       "      <td>3.346352e-07</td>\n",
       "      <td>POLYGON ((10839804.15719512 3235307.834483784,...</td>\n",
       "    </tr>\n",
       "    <tr>\n",
       "      <th>141998</th>\n",
       "      <td>40477595.0</td>\n",
       "      <td>1.482107e-07</td>\n",
       "      <td>POLYGON ((10839804.15719512 3240900.626541421,...</td>\n",
       "    </tr>\n",
       "    <tr>\n",
       "      <th>141999</th>\n",
       "      <td>40477594.0</td>\n",
       "      <td>1.482107e-07</td>\n",
       "      <td>POLYGON ((10839804.15719512 3246493.418599058,...</td>\n",
       "    </tr>\n",
       "    <tr>\n",
       "      <th>142000</th>\n",
       "      <td>40477593.0</td>\n",
       "      <td>1.482107e-07</td>\n",
       "      <td>POLYGON ((10839804.15719512 3252086.210656695,...</td>\n",
       "    </tr>\n",
       "    <tr>\n",
       "      <th>142001</th>\n",
       "      <td>40477589.0</td>\n",
       "      <td>NaN</td>\n",
       "      <td>POLYGON ((10839804.15719512 3274457.378887244,...</td>\n",
       "    </tr>\n",
       "  </tbody>\n",
       "</table>\n",
       "<p>142002 rows × 3 columns</p>\n",
       "</div>"
      ],
      "text/plain": [
       "             h3_id  wr_cotton_median  \\\n",
       "0       36922569.0               NaN   \n",
       "1       36928918.0               NaN   \n",
       "2       36814601.0               NaN   \n",
       "3       36820948.0               NaN   \n",
       "4       36865383.0               NaN   \n",
       "...            ...               ...   \n",
       "141997  40477596.0      3.346352e-07   \n",
       "141998  40477595.0      1.482107e-07   \n",
       "141999  40477594.0      1.482107e-07   \n",
       "142000  40477593.0      1.482107e-07   \n",
       "142001  40477589.0               NaN   \n",
       "\n",
       "                                                 geometry  \n",
       "0       POLYGON ((8127444.157196499 925484.7146796733,...  \n",
       "1       POLYGON ((8132287.657196496 928281.1107084937,...  \n",
       "2       POLYGON ((8045104.65719654 1124028.832725789, ...  \n",
       "3       POLYGON ((8049948.157196537 1132418.020812247,...  \n",
       "4       POLYGON ((8083852.657196518 1179956.753302161,...  \n",
       "...                                                   ...  \n",
       "141997  POLYGON ((10839804.15719512 3235307.834483784,...  \n",
       "141998  POLYGON ((10839804.15719512 3240900.626541421,...  \n",
       "141999  POLYGON ((10839804.15719512 3246493.418599058,...  \n",
       "142000  POLYGON ((10839804.15719512 3252086.210656695,...  \n",
       "142001  POLYGON ((10839804.15719512 3274457.378887244,...  \n",
       "\n",
       "[142002 rows x 3 columns]"
      ]
     },
     "execution_count": 14,
     "metadata": {},
     "output_type": "execute_result"
    }
   ],
   "source": [
    "h3_wr_cotton"
   ]
  },
  {
   "cell_type": "code",
   "execution_count": 16,
   "id": "f8212cdc",
   "metadata": {},
   "outputs": [],
   "source": [
    "h3_wr_cotton= h3_wr_cotton.set_geometry('geometry')"
   ]
  },
  {
   "cell_type": "code",
   "execution_count": 8,
   "id": "7a0d26c4",
   "metadata": {},
   "outputs": [],
   "source": [
    "h3_wr_cotton= h3_wr_cotton.set_crs('epsg:4326')"
   ]
  },
  {
   "cell_type": "code",
   "execution_count": 17,
   "id": "1bb81829",
   "metadata": {},
   "outputs": [
    {
     "name": "stderr",
     "output_type": "stream",
     "text": [
      "<ipython-input-17-1b0457e09680>:2: UserWarning: Column names longer than 10 characters will be truncated when saved to ESRI Shapefile.\n",
      "  h3_wr_cotton.to_file(\n"
     ]
    }
   ],
   "source": [
    "#export locally and check result on qgis - is too heavy for folium\n",
    "h3_wr_cotton.to_file(\n",
    "    '../../datasets/processed/h3_wr_cotton_india.shp',\n",
    "    driver='ESRI Shapefile'\n",
    ")"
   ]
  },
  {
   "cell_type": "markdown",
   "id": "7eb41b70",
   "metadata": {},
   "source": [
    "### Calculate impact for a location"
   ]
  },
  {
   "cell_type": "code",
   "execution_count": 18,
   "id": "532dccfb",
   "metadata": {},
   "outputs": [
    {
     "data": {
      "text/html": [
       "<div>\n",
       "<style scoped>\n",
       "    .dataframe tbody tr th:only-of-type {\n",
       "        vertical-align: middle;\n",
       "    }\n",
       "\n",
       "    .dataframe tbody tr th {\n",
       "        vertical-align: top;\n",
       "    }\n",
       "\n",
       "    .dataframe thead th {\n",
       "        text-align: right;\n",
       "    }\n",
       "</style>\n",
       "<table border=\"1\" class=\"dataframe\">\n",
       "  <thead>\n",
       "    <tr style=\"text-align: right;\">\n",
       "      <th></th>\n",
       "      <th>Material</th>\n",
       "      <th>Material d</th>\n",
       "      <th>Volume</th>\n",
       "      <th>Country</th>\n",
       "      <th>Address</th>\n",
       "      <th>Latitude</th>\n",
       "      <th>Longitude</th>\n",
       "      <th>Location t</th>\n",
       "      <th>Accuracy</th>\n",
       "      <th>geometry</th>\n",
       "    </tr>\n",
       "  </thead>\n",
       "  <tbody>\n",
       "    <tr>\n",
       "      <th>0</th>\n",
       "      <td>Rubber</td>\n",
       "      <td>None</td>\n",
       "      <td>2400</td>\n",
       "      <td>China</td>\n",
       "      <td>None</td>\n",
       "      <td>None</td>\n",
       "      <td>None</td>\n",
       "      <td>Unknown</td>\n",
       "      <td>Low</td>\n",
       "      <td>MULTIPOLYGON (((73.49973 39.38174, 73.50468 39...</td>\n",
       "    </tr>\n",
       "    <tr>\n",
       "      <th>1</th>\n",
       "      <td>Rubber</td>\n",
       "      <td>None</td>\n",
       "      <td>1300</td>\n",
       "      <td>Malaysia</td>\n",
       "      <td>None</td>\n",
       "      <td>None</td>\n",
       "      <td>None</td>\n",
       "      <td>Unknown</td>\n",
       "      <td>Low</td>\n",
       "      <td>MULTIPOLYGON (((98.93721 5.68384, 98.93771 5.6...</td>\n",
       "    </tr>\n",
       "    <tr>\n",
       "      <th>2</th>\n",
       "      <td>Rubber</td>\n",
       "      <td>None</td>\n",
       "      <td>1000</td>\n",
       "      <td>United States</td>\n",
       "      <td>None</td>\n",
       "      <td>None</td>\n",
       "      <td>None</td>\n",
       "      <td>Unknown</td>\n",
       "      <td>Low</td>\n",
       "      <td>MULTIPOLYGON (((-180.00000 51.79409, -180.0000...</td>\n",
       "    </tr>\n",
       "    <tr>\n",
       "      <th>3</th>\n",
       "      <td>Rubber</td>\n",
       "      <td>None</td>\n",
       "      <td>730</td>\n",
       "      <td>Japan</td>\n",
       "      <td>None</td>\n",
       "      <td>None</td>\n",
       "      <td>None</td>\n",
       "      <td>Unknown</td>\n",
       "      <td>Low</td>\n",
       "      <td>MULTIPOLYGON (((122.71418 24.44983, 122.71457 ...</td>\n",
       "    </tr>\n",
       "    <tr>\n",
       "      <th>4</th>\n",
       "      <td>Rubber</td>\n",
       "      <td>None</td>\n",
       "      <td>490</td>\n",
       "      <td>India</td>\n",
       "      <td>None</td>\n",
       "      <td>None</td>\n",
       "      <td>None</td>\n",
       "      <td>Unknown</td>\n",
       "      <td>Low</td>\n",
       "      <td>MULTIPOLYGON (((68.11138 23.60145, 68.13528 23...</td>\n",
       "    </tr>\n",
       "  </tbody>\n",
       "</table>\n",
       "</div>"
      ],
      "text/plain": [
       "  Material Material d  Volume        Country Address Latitude Longitude  \\\n",
       "0   Rubber       None    2400          China    None     None      None   \n",
       "1   Rubber       None    1300       Malaysia    None     None      None   \n",
       "2   Rubber       None    1000  United States    None     None      None   \n",
       "3   Rubber       None     730          Japan    None     None      None   \n",
       "4   Rubber       None     490          India    None     None      None   \n",
       "\n",
       "  Location t Accuracy                                           geometry  \n",
       "0    Unknown      Low  MULTIPOLYGON (((73.49973 39.38174, 73.50468 39...  \n",
       "1    Unknown      Low  MULTIPOLYGON (((98.93721 5.68384, 98.93771 5.6...  \n",
       "2    Unknown      Low  MULTIPOLYGON (((-180.00000 51.79409, -180.0000...  \n",
       "3    Unknown      Low  MULTIPOLYGON (((122.71418 24.44983, 122.71457 ...  \n",
       "4    Unknown      Low  MULTIPOLYGON (((68.11138 23.60145, 68.13528 23...  "
      ]
     },
     "execution_count": 18,
     "metadata": {},
     "output_type": "execute_result"
    }
   ],
   "source": [
    "input_data = gpd.read_file('../../datasets/processed/located_lg_data_polygon_v2.shp') \n",
    "input_data.head()"
   ]
  },
  {
   "cell_type": "code",
   "execution_count": 19,
   "id": "bb8df86a",
   "metadata": {},
   "outputs": [
    {
     "data": {
      "text/html": [
       "<div>\n",
       "<style scoped>\n",
       "    .dataframe tbody tr th:only-of-type {\n",
       "        vertical-align: middle;\n",
       "    }\n",
       "\n",
       "    .dataframe tbody tr th {\n",
       "        vertical-align: top;\n",
       "    }\n",
       "\n",
       "    .dataframe thead th {\n",
       "        text-align: right;\n",
       "    }\n",
       "</style>\n",
       "<table border=\"1\" class=\"dataframe\">\n",
       "  <thead>\n",
       "    <tr style=\"text-align: right;\">\n",
       "      <th></th>\n",
       "      <th>Material</th>\n",
       "      <th>Material d</th>\n",
       "      <th>Volume</th>\n",
       "      <th>Country</th>\n",
       "      <th>Address</th>\n",
       "      <th>Latitude</th>\n",
       "      <th>Longitude</th>\n",
       "      <th>Location t</th>\n",
       "      <th>Accuracy</th>\n",
       "      <th>geometry</th>\n",
       "    </tr>\n",
       "  </thead>\n",
       "  <tbody>\n",
       "    <tr>\n",
       "      <th>0</th>\n",
       "      <td>Rubber</td>\n",
       "      <td>None</td>\n",
       "      <td>710</td>\n",
       "      <td>India</td>\n",
       "      <td>Nakhon Nayok</td>\n",
       "      <td>NaN</td>\n",
       "      <td>NaN</td>\n",
       "      <td>Origin supplier facility (warehouse, silo, mil...</td>\n",
       "      <td>Medium</td>\n",
       "      <td>POINT (101.21471 14.20365)</td>\n",
       "    </tr>\n",
       "    <tr>\n",
       "      <th>1</th>\n",
       "      <td>Rubber</td>\n",
       "      <td>None</td>\n",
       "      <td>690</td>\n",
       "      <td>Thailand</td>\n",
       "      <td>Bua Yai, Nakhon Ratchasima</td>\n",
       "      <td>NaN</td>\n",
       "      <td>NaN</td>\n",
       "      <td>Origin supplier facility (warehouse, silo, mil...</td>\n",
       "      <td>Medium</td>\n",
       "      <td>POINT (102.42574 15.58717)</td>\n",
       "    </tr>\n",
       "    <tr>\n",
       "      <th>2</th>\n",
       "      <td>Rubber</td>\n",
       "      <td>None</td>\n",
       "      <td>660</td>\n",
       "      <td>Thailand</td>\n",
       "      <td>Roi Et, Roi Et</td>\n",
       "      <td>NaN</td>\n",
       "      <td>NaN</td>\n",
       "      <td>Origin supplier facility (warehouse, silo, mil...</td>\n",
       "      <td>Medium</td>\n",
       "      <td>POINT (103.65309 16.05625)</td>\n",
       "    </tr>\n",
       "    <tr>\n",
       "      <th>3</th>\n",
       "      <td>Rubber</td>\n",
       "      <td>None</td>\n",
       "      <td>650</td>\n",
       "      <td>India</td>\n",
       "      <td>Nagercoil, Tamil Nadu</td>\n",
       "      <td>NaN</td>\n",
       "      <td>NaN</td>\n",
       "      <td>Origin supplier facility (warehouse, silo, mil...</td>\n",
       "      <td>Medium</td>\n",
       "      <td>POINT (77.42905 8.18805)</td>\n",
       "    </tr>\n",
       "    <tr>\n",
       "      <th>4</th>\n",
       "      <td>Rubber</td>\n",
       "      <td>None</td>\n",
       "      <td>650</td>\n",
       "      <td>Thailand</td>\n",
       "      <td>Phichit, Phichit</td>\n",
       "      <td>NaN</td>\n",
       "      <td>NaN</td>\n",
       "      <td>Origin supplier facility (warehouse, silo, mil...</td>\n",
       "      <td>Medium</td>\n",
       "      <td>POINT (100.34303 16.44211)</td>\n",
       "    </tr>\n",
       "  </tbody>\n",
       "</table>\n",
       "</div>"
      ],
      "text/plain": [
       "  Material Material d  Volume   Country                     Address  Latitude  \\\n",
       "0   Rubber       None     710     India                Nakhon Nayok       NaN   \n",
       "1   Rubber       None     690  Thailand  Bua Yai, Nakhon Ratchasima       NaN   \n",
       "2   Rubber       None     660  Thailand              Roi Et, Roi Et       NaN   \n",
       "3   Rubber       None     650     India       Nagercoil, Tamil Nadu       NaN   \n",
       "4   Rubber       None     650  Thailand            Phichit, Phichit       NaN   \n",
       "\n",
       "   Longitude                                         Location t Accuracy  \\\n",
       "0        NaN  Origin supplier facility (warehouse, silo, mil...   Medium   \n",
       "1        NaN  Origin supplier facility (warehouse, silo, mil...   Medium   \n",
       "2        NaN  Origin supplier facility (warehouse, silo, mil...   Medium   \n",
       "3        NaN  Origin supplier facility (warehouse, silo, mil...   Medium   \n",
       "4        NaN  Origin supplier facility (warehouse, silo, mil...   Medium   \n",
       "\n",
       "                     geometry  \n",
       "0  POINT (101.21471 14.20365)  \n",
       "1  POINT (102.42574 15.58717)  \n",
       "2  POINT (103.65309 16.05625)  \n",
       "3    POINT (77.42905 8.18805)  \n",
       "4  POINT (100.34303 16.44211)  "
      ]
     },
     "execution_count": 19,
     "metadata": {},
     "output_type": "execute_result"
    }
   ],
   "source": [
    "input_data_point =  gpd.read_file('../../datasets/processed/located_lg_data_point_v2.shp')\n",
    "input_data_point.head()"
   ]
  },
  {
   "cell_type": "code",
   "execution_count": 44,
   "id": "9570a18f",
   "metadata": {},
   "outputs": [
    {
     "data": {
      "text/plain": [
       "Material                                                 Rubber\n",
       "Material d                                                 None\n",
       "Volume                                                     1200\n",
       "Country                                                   India\n",
       "Address                                                  Kerala\n",
       "Latitude                                                   None\n",
       "Longitude                                                  None\n",
       "Location t    Origin supplier facility (warehouse, silo, mil...\n",
       "Accuracy                                                 Medium\n",
       "geometry      (POLYGON ((74.86406820000001 12.7600633, 74.86...\n",
       "Name: 11, dtype: object"
      ]
     },
     "execution_count": 44,
     "metadata": {},
     "output_type": "execute_result"
    }
   ],
   "source": [
    "test_location = input_data[input_data['Accuracy']=='Medium'].iloc[1]\n",
    "test_location"
   ]
  },
  {
   "cell_type": "code",
   "execution_count": 50,
   "id": "norman-butler",
   "metadata": {},
   "outputs": [
    {
     "data": {
      "image/png": "[encoded data removed]",
      "text/plain": [
       "<Figure size 1080x720 with 1 Axes>"
      ]
     },
     "metadata": {
      "needs_background": "light"
     },
     "output_type": "display_data"
    }
   ],
   "source": [
    "#check calculated risk map\n",
    "with rio.open( '../../datasets/processed/water_risk_cotton_gdal_4326.tif') as src:\n",
    "    dat = src.read(1)\n",
    "    fig, ax = plt.subplots(figsize=[15,10])\n",
    "    ax.set_ylim((-5,40))\n",
    "    ax.set_xlim((60,100))\n",
    "    rio.plot.show(dat, vmin=0, vmax=444, cmap='Oranges', ax=ax, transform=src.transform)\n",
    "    gdf_india.plot(ax=ax, alpha=0.5, color='Orange', edgecolor='yellow')\n",
    "    ax.set_title('Cotton blue water footprint in India (dark blue: higher water footprint)')"
   ]
  },
  {
   "cell_type": "markdown",
   "id": "64476d14",
   "metadata": {},
   "source": [
    "### Generate volume distribution map based on test data"
   ]
  },
  {
   "cell_type": "markdown",
   "id": "0938ed1c",
   "metadata": {},
   "source": [
    "#### Note:\n",
    "\n",
    "This test location should be translated into h3 (similarly as the risk map). With this h3 we could perform joins directly with the tables. \n",
    "\n",
    "In order to simplify things, I'm translating the test polygon into hexgrid and joing attributes based on location with the risk map generated above. \n",
    "\n",
    "- generate the zonal statistics in h3 using just india and h3 data"
   ]
  },
  {
   "cell_type": "code",
   "execution_count": 7,
   "id": "random-salvation",
   "metadata": {},
   "outputs": [
    {
     "data": {
      "text/html": [
       "<div>\n",
       "<style scoped>\n",
       "    .dataframe tbody tr th:only-of-type {\n",
       "        vertical-align: middle;\n",
       "    }\n",
       "\n",
       "    .dataframe tbody tr th {\n",
       "        vertical-align: top;\n",
       "    }\n",
       "\n",
       "    .dataframe thead th {\n",
       "        text-align: right;\n",
       "    }\n",
       "</style>\n",
       "<table border=\"1\" class=\"dataframe\">\n",
       "  <thead>\n",
       "    <tr style=\"text-align: right;\">\n",
       "      <th></th>\n",
       "      <th>fid</th>\n",
       "      <th>Material</th>\n",
       "      <th>Material d</th>\n",
       "      <th>Volume</th>\n",
       "      <th>Country</th>\n",
       "      <th>Address</th>\n",
       "      <th>Latitude</th>\n",
       "      <th>Longitude</th>\n",
       "      <th>Location t</th>\n",
       "      <th>Accuracy</th>\n",
       "      <th>geometry</th>\n",
       "    </tr>\n",
       "  </thead>\n",
       "  <tbody>\n",
       "    <tr>\n",
       "      <th>0</th>\n",
       "      <td>19.0</td>\n",
       "      <td>Cotton</td>\n",
       "      <td>None</td>\n",
       "      <td>745.0</td>\n",
       "      <td>India</td>\n",
       "      <td>None</td>\n",
       "      <td>None</td>\n",
       "      <td>None</td>\n",
       "      <td>Unknown</td>\n",
       "      <td>Low</td>\n",
       "      <td>POLYGON ((68.11138 23.60145, 68.13528 23.64833...</td>\n",
       "    </tr>\n",
       "    <tr>\n",
       "      <th>1</th>\n",
       "      <td>19.0</td>\n",
       "      <td>Cotton</td>\n",
       "      <td>None</td>\n",
       "      <td>745.0</td>\n",
       "      <td>India</td>\n",
       "      <td>None</td>\n",
       "      <td>None</td>\n",
       "      <td>None</td>\n",
       "      <td>Unknown</td>\n",
       "      <td>Low</td>\n",
       "      <td>POLYGON ((71.56229 11.88792, 71.56235 11.89383...</td>\n",
       "    </tr>\n",
       "    <tr>\n",
       "      <th>2</th>\n",
       "      <td>19.0</td>\n",
       "      <td>Cotton</td>\n",
       "      <td>None</td>\n",
       "      <td>745.0</td>\n",
       "      <td>India</td>\n",
       "      <td>None</td>\n",
       "      <td>None</td>\n",
       "      <td>None</td>\n",
       "      <td>Unknown</td>\n",
       "      <td>Low</td>\n",
       "      <td>POLYGON ((71.67628 12.35248, 71.67633 12.35838...</td>\n",
       "    </tr>\n",
       "    <tr>\n",
       "      <th>3</th>\n",
       "      <td>19.0</td>\n",
       "      <td>Cotton</td>\n",
       "      <td>None</td>\n",
       "      <td>745.0</td>\n",
       "      <td>India</td>\n",
       "      <td>None</td>\n",
       "      <td>None</td>\n",
       "      <td>None</td>\n",
       "      <td>Unknown</td>\n",
       "      <td>Low</td>\n",
       "      <td>POLYGON ((71.81635 11.15321, 71.81641 11.15914...</td>\n",
       "    </tr>\n",
       "    <tr>\n",
       "      <th>4</th>\n",
       "      <td>19.0</td>\n",
       "      <td>Cotton</td>\n",
       "      <td>None</td>\n",
       "      <td>745.0</td>\n",
       "      <td>India</td>\n",
       "      <td>None</td>\n",
       "      <td>None</td>\n",
       "      <td>None</td>\n",
       "      <td>Unknown</td>\n",
       "      <td>Low</td>\n",
       "      <td>POLYGON ((72.05613 10.06355, 72.05618 10.06950...</td>\n",
       "    </tr>\n",
       "  </tbody>\n",
       "</table>\n",
       "</div>"
      ],
      "text/plain": [
       "    fid Material Material d  Volume Country Address Latitude Longitude  \\\n",
       "0  19.0   Cotton       None   745.0   India    None     None      None   \n",
       "1  19.0   Cotton       None   745.0   India    None     None      None   \n",
       "2  19.0   Cotton       None   745.0   India    None     None      None   \n",
       "3  19.0   Cotton       None   745.0   India    None     None      None   \n",
       "4  19.0   Cotton       None   745.0   India    None     None      None   \n",
       "\n",
       "  Location t Accuracy                                           geometry  \n",
       "0    Unknown      Low  POLYGON ((68.11138 23.60145, 68.13528 23.64833...  \n",
       "1    Unknown      Low  POLYGON ((71.56229 11.88792, 71.56235 11.89383...  \n",
       "2    Unknown      Low  POLYGON ((71.67628 12.35248, 71.67633 12.35838...  \n",
       "3    Unknown      Low  POLYGON ((71.81635 11.15321, 71.81641 11.15914...  \n",
       "4    Unknown      Low  POLYGON ((72.05613 10.06355, 72.05618 10.06950...  "
      ]
     },
     "execution_count": 7,
     "metadata": {},
     "output_type": "execute_result"
    }
   ],
   "source": [
    "## translate user data into h3\n",
    "#lest select just one admin level 3 of india to reduce the computational time - this has been obtained from gadm\n",
    "location_india = gpd.read_file('../../datasets/raw/located_lg_data_polygon_v2_india.shp')\n",
    "location_india.head()"
   ]
  },
  {
   "cell_type": "code",
   "execution_count": 6,
   "id": "c771e628",
   "metadata": {},
   "outputs": [],
   "source": [
    "# This raster would be transform to h3 ideally and the calculations would be done joining indexes\n",
    "water_risk_map = '../../datasets/processed/water_risk_cotton_gdal_4326.tif'\n",
    "\n",
    "# faction harvest area for cotton needed for calculating the asignation factor\n",
    "cotton_harvest_fraction = '../../datasets/raw/cotton_HarvestedAreaFraction.tif'\n"
   ]
  },
  {
   "cell_type": "markdown",
   "id": "20febcd6",
   "metadata": {},
   "source": [
    "### Generate h3 for geom"
   ]
  },
  {
   "cell_type": "code",
   "execution_count": 16,
   "id": "comparative-sugar",
   "metadata": {},
   "outputs": [],
   "source": [
    "# generate h3 for india file\n",
    "def generate_h3_features(geometry, res):\n",
    "    \"\"\"\n",
    "    Generate h3 for geometry\n",
    "    \n",
    "    Input\n",
    "    ------\n",
    "    geometry: shapely.polygon or shapely.multipolygon\n",
    "    \n",
    "    Output\n",
    "    ------\n",
    "    gdf with H3_hexes\n",
    "    \"\"\"\n",
    "    # Create an empty dataframe to write data into\n",
    "    h3_df = pd.DataFrame([],columns=['h3_id'])\n",
    "    if geometry.geom_type == 'MultiPolygon':\n",
    "        district_polygon = list(geometry)\n",
    "        for polygon in district_polygon:\n",
    "            poly_geojson = gpd.GeoSeries([polygon]).__geo_interface__\n",
    "            poly_geojson = poly_geojson['features'][0]['geometry'] \n",
    "            h3_hexes = h3.polyfill_geojson(poly_geojson, res)\n",
    "            for h3_hex in h3_hexes:\n",
    "                coords = h3.h3_set_to_multi_polygon([h3_hex], geo_json=True)\n",
    "                yield {\n",
    "                    \"type\": \"Feature\",\n",
    "                    \"properties\": {\"hexid\": h3_hex},\n",
    "                    \"geometry\": {\"type\": \"Polygon\", \"coordinates\": coords[0]},\n",
    "                }\n",
    "    elif geometry.geom_type == 'Polygon':\n",
    "        poly_geojson = gpd.GeoSeries(geometry).__geo_interface__\n",
    "        poly_geojson = poly_geojson['features'][0]['geometry']\n",
    "        h3_hexes = h3.polyfill_geojson(poly_geojson, res)\n",
    "        for h3_hex in h3_hexes:\n",
    "            coords = h3.h3_set_to_multi_polygon([h3_hex], geo_json=True)\n",
    "            yield {\n",
    "                \"type\": \"Feature\",\n",
    "                \"properties\": {\"hexid\": h3_hex},\n",
    "                \"geometry\": {\"type\": \"Polygon\", \"coordinates\": coords[0]},\n",
    "            }\n",
    "    else:\n",
    "        print('Shape is not a polygon or multypolygon.')\n"
   ]
  },
  {
   "cell_type": "code",
   "execution_count": 35,
   "id": "cc4c777f",
   "metadata": {},
   "outputs": [
    {
     "name": "stdout",
     "output_type": "stream",
     "text": [
      "--- 0.0001957416534423828 seconds ---\n"
     ]
    }
   ],
   "source": [
    "#time spend in generating the features in h3 for the basins test in resolution 1\n",
    "start_time = time.time()\n",
    "h3_india_res6 = [generate_h3_features(poly, 6) for poly in location_india['geometry']]\n",
    "print(\"--- %s seconds ---\" % (time.time() - start_time))"
   ]
  },
  {
   "cell_type": "code",
   "execution_count": 18,
   "id": "8315a1a3",
   "metadata": {},
   "outputs": [
    {
     "name": "stdout",
     "output_type": "stream",
     "text": [
      "--- 9.799003601074219e-05 seconds ---\n"
     ]
    }
   ],
   "source": [
    "## zonal statistics with harvest area protion to calculate distribution \n",
    "#summary statistics world main basins\n",
    "start_time = time.time()\n",
    "\n",
    "summ_stats_h3_india = [gen_zonal_stats(\n",
    "    generator,\n",
    "    cotton_harvest_fraction,\n",
    "    stats=\"median\",\n",
    "    prefix=\"m_\",\n",
    "    geojson_out=True,\n",
    "    all_touched=True\n",
    "    ) for generator in h3_india_res6]\n",
    "    \n",
    "    \n",
    "print(\"--- %s seconds ---\" % (time.time() - start_time))"
   ]
  },
  {
   "cell_type": "code",
   "execution_count": 19,
   "id": "f003960a",
   "metadata": {},
   "outputs": [
    {
     "name": "stdout",
     "output_type": "stream",
     "text": [
      "{'type': 'Feature', 'properties': {'hexid': '86602285fffffff', 'm_median': 0.0}, 'geometry': {'type': 'Polygon', 'coordinates': [[(76.5523234113541, 8.945849997724665), (76.52379927794678, 8.96389625490124), (76.49483146922847, 8.947210096677049), (76.49438137210103, 8.91248711372419), (76.52289234500407, 8.89443833201857), (76.55186657348857, 8.911115058205468), (76.5523234113541, 8.945849997724665)]]}}\n",
      "{'type': 'Feature', 'properties': {'hexid': '86600b5b7ffffff', 'm_median': None}, 'geometry': {'type': 'Polygon', 'coordinates': [[(71.83306101913588, 11.905981613227686), (71.80579020887748, 11.922508840415505), (71.7786165945592, 11.905382737600407), (71.77870550829061, 11.871738271466656), (71.80596196285462, 11.855205999246625), (71.83314385681078, 11.872323237057525), (71.83306101913588, 11.905981613227686)]]}}\n",
      "{'type': 'Feature', 'properties': {'hexid': '8660e48f7ffffff', 'm_median': None}, 'geometry': {'type': 'Polygon', 'coordinates': [[(71.77754807078928, 12.309049055442372), (71.75026025175688, 12.325475319392622), (71.72307599017627, 12.308273184113027), (71.72317122593614, 12.274653492721415), (71.75044464382636, 12.25822202253704), (71.77763722451401, 12.275415448836506), (71.77754807078928, 12.309049055442372)]]}}\n",
      "{'type': 'Feature', 'properties': {'hexid': '8660085a7ffffff', 'm_median': None}, 'geometry': {'type': 'Polygon', 'coordinates': [[(72.51755699618597, 11.117440145502044), (72.54500551608868, 11.100587358143391), (72.57246222639068, 11.117581319315224), (72.57246241387472, 11.151437177033332), (72.54499970651572, 11.16828540938485), (72.51755100162919, 11.151282339935722), (72.51755699618597, 11.117440145502044)]]}}\n",
      "{'type': 'Feature', 'properties': {'hexid': '86600d427ffffff', 'm_median': None}, 'geometry': {'type': 'Polygon', 'coordinates': [[(72.24486959847604, 10.035836869123766), (72.2176228167618, 10.052839832483219), (72.19042664773285, 10.03607808840495), (72.19046920775612, 10.002322929586821), (72.21770186256005, 9.985315740192057), (72.24490608175518, 10.002067934636942), (72.24486959847604, 10.035836869123766)]]}}\n",
      "{'type': 'Feature', 'properties': {'hexid': '8660295afffffff', 'm_median': None}, 'geometry': {'type': 'Polygon', 'coordinates': [[(72.89970425109928, 8.268978108380907), (72.89974103901552, 8.302852626043073), (72.8724237675175, 8.32030847840868), (72.8450835857832, 8.303893172470472), (72.84505292266323, 8.270032121310857), (72.87235631888741, 8.252572910342014), (72.89970425109928, 8.268978108380907)]]}}\n",
      "{'type': 'Feature', 'properties': {'hexid': '866001a5fffffff', 'm_median': None}, 'geometry': {'type': 'Polygon', 'coordinates': [[(73.53698860519944, 10.04455089068628), (73.5646860626328, 10.027273524628328), (73.59250663744064, 10.044087653857764), (73.59262215034958, 10.07818856873579), (73.5649107674506, 10.095462081829655), (73.53709779949972, 10.078638533587508), (73.53698860519944, 10.04455089068628)]]}}\n",
      "{'type': 'Feature', 'properties': {'hexid': '8660016afffffff', 'm_median': None}, 'geometry': {'type': 'Polygon', 'coordinates': [[(73.76269148084691, 10.896248527812537), (73.73484896838742, 10.913400326528258), (73.70688516872396, 10.896410399181867), (73.70675629107545, 10.862277775058411), (73.73458483336468, 10.845121866791706), (73.76255622107703, 10.862102691673158), (73.76269148084691, 10.896248527812537)]]}}\n",
      "{'type': 'Feature', 'properties': {'hexid': '86641b26fffffff', 'm_median': None}, 'geometry': {'type': 'Polygon', 'coordinates': [[(93.27624816135942, 13.448599462320928), (93.27874515650053, 13.485177629322944), (93.24740109605975, 13.505466966092591), (93.21356482218151, 13.489176741299753), (93.21107545016902, 13.452600268237601), (93.2424147275715, 13.432312321983506), (93.27624816135942, 13.448599462320928)]]}}\n",
      "{'type': 'Feature', 'properties': {'hexid': '86642b6cfffffff', 'm_median': None}, 'geometry': {'type': 'Polygon', 'coordinates': [[(93.14664706054788, 8.631507996401822), (93.17997632654684, 8.64771852457986), (93.1824257231726, 8.6844082036289), (93.15153844586337, 8.704885794411313), (93.11820648011398, 8.688670812065476), (93.11576449267979, 8.651982697123836), (93.14664706054788, 8.631507996401822)]]}}\n",
      "{'type': 'Feature', 'properties': {'hexid': '86641988fffffff', 'm_median': None}, 'geometry': {'type': 'Polygon', 'coordinates': [[(93.77361340144674, 12.12959204421132), (93.80736535425409, 12.145821535437175), (93.8099142562567, 12.18249160470649), (93.77870368682383, 12.202930914695074), (93.7449485885438, 12.186698201858018), (93.7424072066106, 12.150029404691166), (93.77361340144674, 12.12959204421132)]]}}\n",
      "{'type': 'Feature', 'properties': {'hexid': '86641b117ffffff', 'm_median': None}, 'geometry': {'type': 'Polygon', 'coordinates': [[(94.09520716052685, 13.452029849010131), (94.09779988038012, 13.488621107382716), (94.06646982630845, 13.509023959302562), (94.03255125753928, 13.492833925090952), (94.02996609396216, 13.45624378504865), (94.06129194135256, 13.435842556806527), (94.09520716052685, 13.452029849010131)]]}}\n"
     ]
    }
   ],
   "source": [
    "for generator in summ_stats_h3_india:\n",
    "    for feature in generator:\n",
    "        print(feature)\n",
    "        break"
   ]
  },
  {
   "cell_type": "code",
   "execution_count": 21,
   "id": "51bf9162",
   "metadata": {},
   "outputs": [
    {
     "name": "stdout",
     "output_type": "stream",
     "text": [
      "--- 803.3259239196777 seconds ---\n"
     ]
    }
   ],
   "source": [
    "## generate datafram\n",
    "#generate a dataframe with the elements\n",
    "start_time = time.time()\n",
    "h3_gdf_india_res6 = pd.DataFrame([],columns=['h3_id', 'area_fraction'])\n",
    "for generator in summ_stats_h3_india:\n",
    "    for feature in generator:\n",
    "        h3_gdf_india_res6.loc[len(h3_gdf_india_res6)]=[\n",
    "            feature['properties']['hexid'],\n",
    "            feature['properties']['m_median']]\n",
    "print(\"--- %s seconds ---\" % (time.time() - start_time))"
   ]
  },
  {
   "cell_type": "code",
   "execution_count": 23,
   "id": "1f51322c",
   "metadata": {},
   "outputs": [],
   "source": [
    "h3_gdf_india_res6['Volume'] = 750"
   ]
  },
  {
   "cell_type": "code",
   "execution_count": 29,
   "id": "d46db504",
   "metadata": {},
   "outputs": [],
   "source": [
    "#remove nans\n",
    "h3_gdf_india_res6 = h3_gdf_india_res6.dropna()"
   ]
  },
  {
   "cell_type": "code",
   "execution_count": 31,
   "id": "429f3896",
   "metadata": {},
   "outputs": [
    {
     "name": "stderr",
     "output_type": "stream",
     "text": [
      "<ipython-input-31-6f6cfd5ee2bc>:1: SettingWithCopyWarning: \n",
      "A value is trying to be set on a copy of a slice from a DataFrame.\n",
      "Try using .loc[row_indexer,col_indexer] = value instead\n",
      "\n",
      "See the caveats in the documentation: https://pandas.pydata.org/pandas-docs/stable/user_guide/indexing.html#returning-a-view-versus-a-copy\n",
      "  h3_gdf_india_res6['total_af'] = sum(list(h3_gdf_india_res6['area_fraction']))\n"
     ]
    },
    {
     "data": {
      "text/html": [
       "<div>\n",
       "<style scoped>\n",
       "    .dataframe tbody tr th:only-of-type {\n",
       "        vertical-align: middle;\n",
       "    }\n",
       "\n",
       "    .dataframe tbody tr th {\n",
       "        vertical-align: top;\n",
       "    }\n",
       "\n",
       "    .dataframe thead th {\n",
       "        text-align: right;\n",
       "    }\n",
       "</style>\n",
       "<table border=\"1\" class=\"dataframe\">\n",
       "  <thead>\n",
       "    <tr style=\"text-align: right;\">\n",
       "      <th></th>\n",
       "      <th>h3_id</th>\n",
       "      <th>area_fraction</th>\n",
       "      <th>Volume</th>\n",
       "      <th>total_af</th>\n",
       "    </tr>\n",
       "  </thead>\n",
       "  <tbody>\n",
       "    <tr>\n",
       "      <th>0</th>\n",
       "      <td>8660a3437ffffff</td>\n",
       "      <td>9.612672e-03</td>\n",
       "      <td>750</td>\n",
       "      <td>2043.238569</td>\n",
       "    </tr>\n",
       "    <tr>\n",
       "      <th>1</th>\n",
       "      <td>863d8835fffffff</td>\n",
       "      <td>2.306188e-07</td>\n",
       "      <td>750</td>\n",
       "      <td>2043.238569</td>\n",
       "    </tr>\n",
       "    <tr>\n",
       "      <th>2</th>\n",
       "      <td>863d84b47ffffff</td>\n",
       "      <td>3.100510e-04</td>\n",
       "      <td>750</td>\n",
       "      <td>2043.238569</td>\n",
       "    </tr>\n",
       "    <tr>\n",
       "      <th>3</th>\n",
       "      <td>863c528e7ffffff</td>\n",
       "      <td>0.000000e+00</td>\n",
       "      <td>750</td>\n",
       "      <td>2043.238569</td>\n",
       "    </tr>\n",
       "    <tr>\n",
       "      <th>4</th>\n",
       "      <td>8660aba4fffffff</td>\n",
       "      <td>0.000000e+00</td>\n",
       "      <td>750</td>\n",
       "      <td>2043.238569</td>\n",
       "    </tr>\n",
       "  </tbody>\n",
       "</table>\n",
       "</div>"
      ],
      "text/plain": [
       "             h3_id  area_fraction  Volume     total_af\n",
       "0  8660a3437ffffff   9.612672e-03     750  2043.238569\n",
       "1  863d8835fffffff   2.306188e-07     750  2043.238569\n",
       "2  863d84b47ffffff   3.100510e-04     750  2043.238569\n",
       "3  863c528e7ffffff   0.000000e+00     750  2043.238569\n",
       "4  8660aba4fffffff   0.000000e+00     750  2043.238569"
      ]
     },
     "execution_count": 31,
     "metadata": {},
     "output_type": "execute_result"
    }
   ],
   "source": [
    "h3_gdf_india_res6['total_af'] = sum(list(h3_gdf_india_res6['area_fraction']))\n",
    "h3_gdf_india_res6.head()"
   ]
  },
  {
   "cell_type": "code",
   "execution_count": 34,
   "id": "ea09cc93",
   "metadata": {},
   "outputs": [
    {
     "data": {
      "text/html": [
       "<div>\n",
       "<style scoped>\n",
       "    .dataframe tbody tr th:only-of-type {\n",
       "        vertical-align: middle;\n",
       "    }\n",
       "\n",
       "    .dataframe tbody tr th {\n",
       "        vertical-align: top;\n",
       "    }\n",
       "\n",
       "    .dataframe thead th {\n",
       "        text-align: right;\n",
       "    }\n",
       "</style>\n",
       "<table border=\"1\" class=\"dataframe\">\n",
       "  <thead>\n",
       "    <tr style=\"text-align: right;\">\n",
       "      <th></th>\n",
       "      <th>h3_id</th>\n",
       "      <th>area_fraction</th>\n",
       "      <th>Volume</th>\n",
       "      <th>total_af</th>\n",
       "      <th>assignation_factor</th>\n",
       "      <th>distributed_vol</th>\n",
       "    </tr>\n",
       "  </thead>\n",
       "  <tbody>\n",
       "    <tr>\n",
       "      <th>0</th>\n",
       "      <td>8660a3437ffffff</td>\n",
       "      <td>9.612672e-03</td>\n",
       "      <td>750</td>\n",
       "      <td>2043.238569</td>\n",
       "      <td>4.704625e-06</td>\n",
       "      <td>3.528469e-03</td>\n",
       "    </tr>\n",
       "    <tr>\n",
       "      <th>1</th>\n",
       "      <td>863d8835fffffff</td>\n",
       "      <td>2.306188e-07</td>\n",
       "      <td>750</td>\n",
       "      <td>2043.238569</td>\n",
       "      <td>1.128692e-10</td>\n",
       "      <td>8.465192e-08</td>\n",
       "    </tr>\n",
       "    <tr>\n",
       "      <th>2</th>\n",
       "      <td>863d84b47ffffff</td>\n",
       "      <td>3.100510e-04</td>\n",
       "      <td>750</td>\n",
       "      <td>2043.238569</td>\n",
       "      <td>1.517449e-07</td>\n",
       "      <td>1.138087e-04</td>\n",
       "    </tr>\n",
       "    <tr>\n",
       "      <th>3</th>\n",
       "      <td>863c528e7ffffff</td>\n",
       "      <td>0.000000e+00</td>\n",
       "      <td>750</td>\n",
       "      <td>2043.238569</td>\n",
       "      <td>0.000000e+00</td>\n",
       "      <td>0.000000e+00</td>\n",
       "    </tr>\n",
       "    <tr>\n",
       "      <th>4</th>\n",
       "      <td>8660aba4fffffff</td>\n",
       "      <td>0.000000e+00</td>\n",
       "      <td>750</td>\n",
       "      <td>2043.238569</td>\n",
       "      <td>0.000000e+00</td>\n",
       "      <td>0.000000e+00</td>\n",
       "    </tr>\n",
       "  </tbody>\n",
       "</table>\n",
       "</div>"
      ],
      "text/plain": [
       "             h3_id  area_fraction  Volume     total_af  assignation_factor  \\\n",
       "0  8660a3437ffffff   9.612672e-03     750  2043.238569        4.704625e-06   \n",
       "1  863d8835fffffff   2.306188e-07     750  2043.238569        1.128692e-10   \n",
       "2  863d84b47ffffff   3.100510e-04     750  2043.238569        1.517449e-07   \n",
       "3  863c528e7ffffff   0.000000e+00     750  2043.238569        0.000000e+00   \n",
       "4  8660aba4fffffff   0.000000e+00     750  2043.238569        0.000000e+00   \n",
       "\n",
       "   distributed_vol  \n",
       "0     3.528469e-03  \n",
       "1     8.465192e-08  \n",
       "2     1.138087e-04  \n",
       "3     0.000000e+00  \n",
       "4     0.000000e+00  "
      ]
     },
     "execution_count": 34,
     "metadata": {},
     "output_type": "execute_result"
    }
   ],
   "source": [
    "## calculate asignation fraction as area fraction / total_af\n",
    "for i, row in h3_gdf_india_res6.iterrows():\n",
    "    assignation_factor = row['area_fraction']/ row['total_af']\n",
    "    distributed_volume = row['Volume']*assignation_factor\n",
    "    h3_gdf_india_res6.loc[i, 'assignation_factor'] = assignation_factor\n",
    "    h3_gdf_india_res6.loc[i, 'distributed_vol'] = distributed_volume\n",
    "\n",
    "h3_gdf_india_res6.head()"
   ]
  },
  {
   "cell_type": "markdown",
   "id": "48ef6425",
   "metadata": {},
   "source": [
    "### Calculate water impact\n",
    "\n",
    "Water imapct would be calculated as shown before but retrieved in h3\n"
   ]
  },
  {
   "cell_type": "code",
   "execution_count": 36,
   "id": "8756a77f",
   "metadata": {},
   "outputs": [
    {
     "name": "stdout",
     "output_type": "stream",
     "text": [
      "--- 0.00011324882507324219 seconds ---\n"
     ]
    }
   ],
   "source": [
    "## zonal statistics with harvest area protion to calculate distribution \n",
    "#summary statistics world main basins\n",
    "start_time = time.time()\n",
    "\n",
    "summ_stats_h3_india_wr_cotton = [gen_zonal_stats(\n",
    "    generator,\n",
    "    water_risk_map ,\n",
    "    stats=\"median\",\n",
    "    prefix=\"m_\",\n",
    "    geojson_out=True,\n",
    "    all_touched=True\n",
    "    ) for generator in h3_india_res6]\n",
    "    \n",
    "    \n",
    "print(\"--- %s seconds ---\" % (time.time() - start_time))"
   ]
  },
  {
   "cell_type": "code",
   "execution_count": 37,
   "id": "19fd6278",
   "metadata": {},
   "outputs": [
    {
     "name": "stderr",
     "output_type": "stream",
     "text": [
      "/opt/conda/lib/python3.8/site-packages/numpy/core/_methods.py:178: RuntimeWarning: overflow encountered in reduce\n",
      "  ret = umr_sum(arr, axis, dtype, out, keepdims, where=where)\n"
     ]
    },
    {
     "name": "stdout",
     "output_type": "stream",
     "text": [
      "--- 957.7292029857635 seconds ---\n"
     ]
    }
   ],
   "source": [
    "## get geodataframe with water risk\n",
    "\n",
    "start_time = time.time()\n",
    "h3_gdf_india_res6_wr = pd.DataFrame([],columns=['h3_id', 'water_Risk'])\n",
    "for generator in summ_stats_h3_india_wr_cotton:\n",
    "    for feature in generator:\n",
    "        h3_gdf_india_res6_wr.loc[len(h3_gdf_india_res6_wr)]=[\n",
    "            feature['properties']['hexid'],\n",
    "            feature['properties']['m_median']]\n",
    "print(\"--- %s seconds ---\" % (time.time() - start_time))"
   ]
  },
  {
   "cell_type": "code",
   "execution_count": 38,
   "id": "1b749cf9",
   "metadata": {},
   "outputs": [
    {
     "data": {
      "text/html": [
       "<div>\n",
       "<style scoped>\n",
       "    .dataframe tbody tr th:only-of-type {\n",
       "        vertical-align: middle;\n",
       "    }\n",
       "\n",
       "    .dataframe tbody tr th {\n",
       "        vertical-align: top;\n",
       "    }\n",
       "\n",
       "    .dataframe thead th {\n",
       "        text-align: right;\n",
       "    }\n",
       "</style>\n",
       "<table border=\"1\" class=\"dataframe\">\n",
       "  <thead>\n",
       "    <tr style=\"text-align: right;\">\n",
       "      <th></th>\n",
       "      <th>h3_id</th>\n",
       "      <th>water_Risk</th>\n",
       "    </tr>\n",
       "  </thead>\n",
       "  <tbody>\n",
       "    <tr>\n",
       "      <th>0</th>\n",
       "      <td>86602285fffffff</td>\n",
       "      <td>inf</td>\n",
       "    </tr>\n",
       "    <tr>\n",
       "      <th>1</th>\n",
       "      <td>863db4607ffffff</td>\n",
       "      <td>0.110634</td>\n",
       "    </tr>\n",
       "    <tr>\n",
       "      <th>2</th>\n",
       "      <td>863ca064fffffff</td>\n",
       "      <td>0.000000</td>\n",
       "    </tr>\n",
       "    <tr>\n",
       "      <th>3</th>\n",
       "      <td>8642e9117ffffff</td>\n",
       "      <td>0.000000</td>\n",
       "    </tr>\n",
       "    <tr>\n",
       "      <th>4</th>\n",
       "      <td>863da306fffffff</td>\n",
       "      <td>0.000000</td>\n",
       "    </tr>\n",
       "  </tbody>\n",
       "</table>\n",
       "</div>"
      ],
      "text/plain": [
       "             h3_id  water_Risk\n",
       "0  86602285fffffff         inf\n",
       "1  863db4607ffffff    0.110634\n",
       "2  863ca064fffffff    0.000000\n",
       "3  8642e9117ffffff    0.000000\n",
       "4  863da306fffffff    0.000000"
      ]
     },
     "execution_count": 38,
     "metadata": {},
     "output_type": "execute_result"
    }
   ],
   "source": [
    "h3_gdf_india_res6_wr.head()"
   ]
  },
  {
   "cell_type": "markdown",
   "id": "d204f50d",
   "metadata": {},
   "source": [
    "### Calculate impact metric"
   ]
  },
  {
   "cell_type": "code",
   "execution_count": 40,
   "id": "af1fa5af",
   "metadata": {},
   "outputs": [
    {
     "data": {
      "text/html": [
       "<div>\n",
       "<style scoped>\n",
       "    .dataframe tbody tr th:only-of-type {\n",
       "        vertical-align: middle;\n",
       "    }\n",
       "\n",
       "    .dataframe tbody tr th {\n",
       "        vertical-align: top;\n",
       "    }\n",
       "\n",
       "    .dataframe thead th {\n",
       "        text-align: right;\n",
       "    }\n",
       "</style>\n",
       "<table border=\"1\" class=\"dataframe\">\n",
       "  <thead>\n",
       "    <tr style=\"text-align: right;\">\n",
       "      <th></th>\n",
       "      <th>h3_id</th>\n",
       "      <th>area_fraction</th>\n",
       "      <th>Volume</th>\n",
       "      <th>total_af</th>\n",
       "      <th>assignation_factor</th>\n",
       "      <th>distributed_vol</th>\n",
       "    </tr>\n",
       "  </thead>\n",
       "  <tbody>\n",
       "    <tr>\n",
       "      <th>0</th>\n",
       "      <td>8660a3437ffffff</td>\n",
       "      <td>9.612672e-03</td>\n",
       "      <td>750</td>\n",
       "      <td>2043.238569</td>\n",
       "      <td>4.704625e-06</td>\n",
       "      <td>3.528469e-03</td>\n",
       "    </tr>\n",
       "    <tr>\n",
       "      <th>1</th>\n",
       "      <td>863d8835fffffff</td>\n",
       "      <td>2.306188e-07</td>\n",
       "      <td>750</td>\n",
       "      <td>2043.238569</td>\n",
       "      <td>1.128692e-10</td>\n",
       "      <td>8.465192e-08</td>\n",
       "    </tr>\n",
       "    <tr>\n",
       "      <th>2</th>\n",
       "      <td>863d84b47ffffff</td>\n",
       "      <td>3.100510e-04</td>\n",
       "      <td>750</td>\n",
       "      <td>2043.238569</td>\n",
       "      <td>1.517449e-07</td>\n",
       "      <td>1.138087e-04</td>\n",
       "    </tr>\n",
       "    <tr>\n",
       "      <th>3</th>\n",
       "      <td>863c528e7ffffff</td>\n",
       "      <td>0.000000e+00</td>\n",
       "      <td>750</td>\n",
       "      <td>2043.238569</td>\n",
       "      <td>0.000000e+00</td>\n",
       "      <td>0.000000e+00</td>\n",
       "    </tr>\n",
       "    <tr>\n",
       "      <th>4</th>\n",
       "      <td>8660aba4fffffff</td>\n",
       "      <td>0.000000e+00</td>\n",
       "      <td>750</td>\n",
       "      <td>2043.238569</td>\n",
       "      <td>0.000000e+00</td>\n",
       "      <td>0.000000e+00</td>\n",
       "    </tr>\n",
       "  </tbody>\n",
       "</table>\n",
       "</div>"
      ],
      "text/plain": [
       "             h3_id  area_fraction  Volume     total_af  assignation_factor  \\\n",
       "0  8660a3437ffffff   9.612672e-03     750  2043.238569        4.704625e-06   \n",
       "1  863d8835fffffff   2.306188e-07     750  2043.238569        1.128692e-10   \n",
       "2  863d84b47ffffff   3.100510e-04     750  2043.238569        1.517449e-07   \n",
       "3  863c528e7ffffff   0.000000e+00     750  2043.238569        0.000000e+00   \n",
       "4  8660aba4fffffff   0.000000e+00     750  2043.238569        0.000000e+00   \n",
       "\n",
       "   distributed_vol  \n",
       "0     3.528469e-03  \n",
       "1     8.465192e-08  \n",
       "2     1.138087e-04  \n",
       "3     0.000000e+00  \n",
       "4     0.000000e+00  "
      ]
     },
     "execution_count": 40,
     "metadata": {},
     "output_type": "execute_result"
    }
   ],
   "source": [
    "h3_gdf_india_res6.head()"
   ]
  },
  {
   "cell_type": "code",
   "execution_count": 41,
   "id": "4952a308",
   "metadata": {},
   "outputs": [
    {
     "data": {
      "text/html": [
       "<div>\n",
       "<style scoped>\n",
       "    .dataframe tbody tr th:only-of-type {\n",
       "        vertical-align: middle;\n",
       "    }\n",
       "\n",
       "    .dataframe tbody tr th {\n",
       "        vertical-align: top;\n",
       "    }\n",
       "\n",
       "    .dataframe thead th {\n",
       "        text-align: right;\n",
       "    }\n",
       "</style>\n",
       "<table border=\"1\" class=\"dataframe\">\n",
       "  <thead>\n",
       "    <tr style=\"text-align: right;\">\n",
       "      <th></th>\n",
       "      <th>h3_id</th>\n",
       "      <th>water_Risk</th>\n",
       "    </tr>\n",
       "  </thead>\n",
       "  <tbody>\n",
       "    <tr>\n",
       "      <th>0</th>\n",
       "      <td>86602285fffffff</td>\n",
       "      <td>inf</td>\n",
       "    </tr>\n",
       "    <tr>\n",
       "      <th>1</th>\n",
       "      <td>863db4607ffffff</td>\n",
       "      <td>0.110634</td>\n",
       "    </tr>\n",
       "    <tr>\n",
       "      <th>2</th>\n",
       "      <td>863ca064fffffff</td>\n",
       "      <td>0.000000</td>\n",
       "    </tr>\n",
       "    <tr>\n",
       "      <th>3</th>\n",
       "      <td>8642e9117ffffff</td>\n",
       "      <td>0.000000</td>\n",
       "    </tr>\n",
       "    <tr>\n",
       "      <th>4</th>\n",
       "      <td>863da306fffffff</td>\n",
       "      <td>0.000000</td>\n",
       "    </tr>\n",
       "  </tbody>\n",
       "</table>\n",
       "</div>"
      ],
      "text/plain": [
       "             h3_id  water_Risk\n",
       "0  86602285fffffff         inf\n",
       "1  863db4607ffffff    0.110634\n",
       "2  863ca064fffffff    0.000000\n",
       "3  8642e9117ffffff    0.000000\n",
       "4  863da306fffffff    0.000000"
      ]
     },
     "execution_count": 41,
     "metadata": {},
     "output_type": "execute_result"
    }
   ],
   "source": [
    "h3_gdf_india_res6_wr.head()"
   ]
  },
  {
   "cell_type": "code",
   "execution_count": 53,
   "id": "214387b0",
   "metadata": {},
   "outputs": [
    {
     "data": {
      "text/plain": [
       "0.0"
      ]
     },
     "execution_count": 53,
     "metadata": {},
     "output_type": "execute_result"
    }
   ],
   "source": [
    "list(h3_gdf_india_res6_wr[h3_gdf_india_res6_wr['h3_id']=='8660a3437ffffff']['water_Risk'])[0]"
   ]
  },
  {
   "cell_type": "code",
   "execution_count": 54,
   "id": "e988bf81",
   "metadata": {},
   "outputs": [
    {
     "name": "stdout",
     "output_type": "stream",
     "text": [
      "--- 1477.95259308815 seconds ---\n"
     ]
    }
   ],
   "source": [
    "##join dataframes\n",
    "start_time = time.time()\n",
    "for i, row in h3_gdf_india_res6.iterrows():\n",
    "    \n",
    "    h3_id = row['h3_id']\n",
    "    water_risk = list(h3_gdf_india_res6_wr[h3_gdf_india_res6_wr['h3_id']==f'{h3_id}']['water_Risk'])[0]\n",
    "    h3_gdf_india_res6.loc[i, 'water_risk'] = water_risk\n",
    "print(\"--- %s seconds ---\" % (time.time() - start_time))"
   ]
  },
  {
   "cell_type": "code",
   "execution_count": 55,
   "id": "b104da7c",
   "metadata": {},
   "outputs": [
    {
     "data": {
      "text/html": [
       "<div>\n",
       "<style scoped>\n",
       "    .dataframe tbody tr th:only-of-type {\n",
       "        vertical-align: middle;\n",
       "    }\n",
       "\n",
       "    .dataframe tbody tr th {\n",
       "        vertical-align: top;\n",
       "    }\n",
       "\n",
       "    .dataframe thead th {\n",
       "        text-align: right;\n",
       "    }\n",
       "</style>\n",
       "<table border=\"1\" class=\"dataframe\">\n",
       "  <thead>\n",
       "    <tr style=\"text-align: right;\">\n",
       "      <th></th>\n",
       "      <th>h3_id</th>\n",
       "      <th>area_fraction</th>\n",
       "      <th>Volume</th>\n",
       "      <th>total_af</th>\n",
       "      <th>assignation_factor</th>\n",
       "      <th>distributed_vol</th>\n",
       "      <th>water_risk</th>\n",
       "    </tr>\n",
       "  </thead>\n",
       "  <tbody>\n",
       "    <tr>\n",
       "      <th>0</th>\n",
       "      <td>8660a3437ffffff</td>\n",
       "      <td>9.612672e-03</td>\n",
       "      <td>750</td>\n",
       "      <td>2043.238569</td>\n",
       "      <td>4.704625e-06</td>\n",
       "      <td>3.528469e-03</td>\n",
       "      <td>0.0</td>\n",
       "    </tr>\n",
       "    <tr>\n",
       "      <th>1</th>\n",
       "      <td>863d8835fffffff</td>\n",
       "      <td>2.306188e-07</td>\n",
       "      <td>750</td>\n",
       "      <td>2043.238569</td>\n",
       "      <td>1.128692e-10</td>\n",
       "      <td>8.465192e-08</td>\n",
       "      <td>0.0</td>\n",
       "    </tr>\n",
       "    <tr>\n",
       "      <th>2</th>\n",
       "      <td>863d84b47ffffff</td>\n",
       "      <td>3.100510e-04</td>\n",
       "      <td>750</td>\n",
       "      <td>2043.238569</td>\n",
       "      <td>1.517449e-07</td>\n",
       "      <td>1.138087e-04</td>\n",
       "      <td>0.0</td>\n",
       "    </tr>\n",
       "    <tr>\n",
       "      <th>3</th>\n",
       "      <td>863c528e7ffffff</td>\n",
       "      <td>0.000000e+00</td>\n",
       "      <td>750</td>\n",
       "      <td>2043.238569</td>\n",
       "      <td>0.000000e+00</td>\n",
       "      <td>0.000000e+00</td>\n",
       "      <td>0.0</td>\n",
       "    </tr>\n",
       "    <tr>\n",
       "      <th>4</th>\n",
       "      <td>8660aba4fffffff</td>\n",
       "      <td>0.000000e+00</td>\n",
       "      <td>750</td>\n",
       "      <td>2043.238569</td>\n",
       "      <td>0.000000e+00</td>\n",
       "      <td>0.000000e+00</td>\n",
       "      <td>0.0</td>\n",
       "    </tr>\n",
       "  </tbody>\n",
       "</table>\n",
       "</div>"
      ],
      "text/plain": [
       "             h3_id  area_fraction  Volume     total_af  assignation_factor  \\\n",
       "0  8660a3437ffffff   9.612672e-03     750  2043.238569        4.704625e-06   \n",
       "1  863d8835fffffff   2.306188e-07     750  2043.238569        1.128692e-10   \n",
       "2  863d84b47ffffff   3.100510e-04     750  2043.238569        1.517449e-07   \n",
       "3  863c528e7ffffff   0.000000e+00     750  2043.238569        0.000000e+00   \n",
       "4  8660aba4fffffff   0.000000e+00     750  2043.238569        0.000000e+00   \n",
       "\n",
       "   distributed_vol  water_risk  \n",
       "0     3.528469e-03         0.0  \n",
       "1     8.465192e-08         0.0  \n",
       "2     1.138087e-04         0.0  \n",
       "3     0.000000e+00         0.0  \n",
       "4     0.000000e+00         0.0  "
      ]
     },
     "execution_count": 55,
     "metadata": {},
     "output_type": "execute_result"
    }
   ],
   "source": [
    "h3_gdf_india_res6.head()"
   ]
  },
  {
   "cell_type": "code",
   "execution_count": null,
   "id": "09c67b24",
   "metadata": {},
   "outputs": [],
   "source": [
    "## calculate asignation fraction as area fraction / total_af\n",
    "for i, row in h3_gdf_india_res6.iterrows():\n",
    "    total_impact = row['distributed_vol'] * row['water_risk']\n",
    "\n",
    "h3_gdf_india_res6.head()"
   ]
  },
  {
   "cell_type": "markdown",
   "id": "786a174e",
   "metadata": {},
   "source": [
    "## Aqueduct BWS"
   ]
  },
  {
   "cell_type": "code",
   "execution_count": 49,
   "id": "progressive-prediction",
   "metadata": {},
   "outputs": [
    {
     "data": {
      "text/html": [
       "<div>\n",
       "<style scoped>\n",
       "    .dataframe tbody tr th:only-of-type {\n",
       "        vertical-align: middle;\n",
       "    }\n",
       "\n",
       "    .dataframe tbody tr th {\n",
       "        vertical-align: top;\n",
       "    }\n",
       "\n",
       "    .dataframe thead th {\n",
       "        text-align: right;\n",
       "    }\n",
       "</style>\n",
       "<table border=\"1\" class=\"dataframe\">\n",
       "  <thead>\n",
       "    <tr style=\"text-align: right;\">\n",
       "      <th></th>\n",
       "      <th>fid</th>\n",
       "      <th>DN</th>\n",
       "      <th>geometry</th>\n",
       "    </tr>\n",
       "  </thead>\n",
       "  <tbody>\n",
       "    <tr>\n",
       "      <th>0</th>\n",
       "      <td>1.0</td>\n",
       "      <td>1</td>\n",
       "      <td>POLYGON ((-39.58333 83.41667, -39.16667 83.416...</td>\n",
       "    </tr>\n",
       "    <tr>\n",
       "      <th>1</th>\n",
       "      <td>2.0</td>\n",
       "      <td>0</td>\n",
       "      <td>POLYGON ((-38.00000 83.41667, -37.83333 83.416...</td>\n",
       "    </tr>\n",
       "    <tr>\n",
       "      <th>2</th>\n",
       "      <td>3.0</td>\n",
       "      <td>1</td>\n",
       "      <td>POLYGON ((-40.75000 83.33333, -39.83333 83.333...</td>\n",
       "    </tr>\n",
       "    <tr>\n",
       "      <th>3</th>\n",
       "      <td>4.0</td>\n",
       "      <td>0</td>\n",
       "      <td>POLYGON ((-43.83333 83.16667, -43.75000 83.166...</td>\n",
       "    </tr>\n",
       "    <tr>\n",
       "      <th>4</th>\n",
       "      <td>5.0</td>\n",
       "      <td>1</td>\n",
       "      <td>POLYGON ((-39.00000 83.16667, -38.75000 83.166...</td>\n",
       "    </tr>\n",
       "  </tbody>\n",
       "</table>\n",
       "</div>"
      ],
      "text/plain": [
       "   fid  DN                                           geometry\n",
       "0  1.0   1  POLYGON ((-39.58333 83.41667, -39.16667 83.416...\n",
       "1  2.0   0  POLYGON ((-38.00000 83.41667, -37.83333 83.416...\n",
       "2  3.0   1  POLYGON ((-40.75000 83.33333, -39.83333 83.333...\n",
       "3  4.0   0  POLYGON ((-43.83333 83.16667, -43.75000 83.166...\n",
       "4  5.0   1  POLYGON ((-39.00000 83.16667, -38.75000 83.166..."
      ]
     },
     "execution_count": 49,
     "metadata": {},
     "output_type": "execute_result"
    }
   ],
   "source": [
    "bws = gpd.read_file(\"../raw_data/aqueduct3_bws_trunc.shp\")\n",
    "bws.head()"
   ]
  },
  {
   "cell_type": "code",
   "execution_count": 52,
   "id": "dynamic-december",
   "metadata": {},
   "outputs": [
    {
     "name": "stderr",
     "output_type": "stream",
     "text": [
      "/opt/conda/lib/python3.8/site-packages/geopandas/plotting.py:146: MatplotlibDeprecationWarning: Using a string of single character colors as a color sequence is deprecated. Use an explicit list instead.\n",
      "  collection = PatchCollection([PolygonPatch(poly) for poly in geoms], **kwargs)\n"
     ]
    },
    {
     "data": {
      "text/plain": [
       "Text(0.5, 1.0, 'Aqueduct BWS in India (dark red: higher bws)')"
      ]
     },
     "execution_count": 52,
     "metadata": {},
     "output_type": "execute_result"
    },
    {
     "data": {
      "image/png": "[encoded data removed]",
      "text/plain": [
       "<Figure size 1080x720 with 1 Axes>"
      ]
     },
     "metadata": {
      "needs_background": "light"
     },
     "output_type": "display_data"
    }
   ],
   "source": [
    "#import aqueduct bws \n",
    "\n",
    "fig, ax = plt.subplots(figsize=[15,10])\n",
    "ax.set_ylim((-5,40))\n",
    "ax.set_xlim((60,100))\n",
    "bws.plot(ax=ax, column='DN', cmap='YlOrRd', vmin=0, vmax=5)\n",
    "gdf_india.plot(ax=ax, color='', edgecolor='yellow')\n",
    "ax.set_title('Aqueduct BWS in India (dark red: higher bws)')"
   ]
  },
  {
   "cell_type": "code",
   "execution_count": null,
   "id": "contrary-pressing",
   "metadata": {},
   "outputs": [],
   "source": []
  }
 ],
 "metadata": {
  "kernelspec": {
   "display_name": "Python 3",
   "language": "python",
   "name": "python3"
  },
  "language_info": {
   "codemirror_mode": {
    "name": "ipython",
    "version": 3
   },
   "file_extension": ".py",
   "mimetype": "text/x-python",
   "name": "python",
   "nbconvert_exporter": "python",
   "pygments_lexer": "ipython3",
   "version": "3.8.10"
  }
 },
 "nbformat": 4,
 "nbformat_minor": 5
}
