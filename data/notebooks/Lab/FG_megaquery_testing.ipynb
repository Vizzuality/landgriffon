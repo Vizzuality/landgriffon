{
 "cells": [
  {
   "cell_type": "markdown",
   "id": "46db52ed",
   "metadata": {},
   "source": [
    "# Distributed probability map query testing\n",
    "\n",
    "This notebook contains a prototype for the impact map using the scaler and the pointer:\n",
    "\n",
    "Basically the idea would be to query the sourcing location data using the clien filters, so for each georegion we will need to do the following:\n",
    "\n",
    "    distributed impact = (Value *  H3 prod values (pointer))/ Scaler\n",
    "\n",
    "### TESTED OPTIONS   \n",
    " 1. Fully dynamic query (original query)\n",
    " 2. Fully dynamic query grouping indicator records with the same georegion and h3dataid first\n",
    " 3. Fully expanded materialized view of the h3data for each indicator record\n",
    " 4. Materialized view of h3data for unique georegion and h3dataid pairs\n",
    " 5. Materialized view of h3data for unique georegion and h3dataid pairs with an index\n",
    "\n",
    "All queries for one inidicator and year but no filters otherwise.\n",
    "\n",
    "### RESULTS\n",
    " 1. Query: ~**30s**. Less than ideal as will scale with number of sourcing locations\n",
    " 2. Query: ~**10s**. Still too slow for dynamic querying? Will scale sub-linearly with number of sourcing locations\n",
    " 3. Create view: ~**30s**. Query: ~**10s**. In this case I limited the materialized view to only one indicator and year since it otherwise ran me out of disk space and crashed PG+Docker. Mulitply by #indicators * #years(!).\n",
    " 4. Create view: ~**10s**. Query: ~**2s**. Probably as good as we can get.\n",
    " 5. Create view: ~**11s**. Query: ~**2s**. Same as above. PG decided not to use any index I created since the table is essentially the same.\n",
    "\n",
    "### OTHER OPTIONS:\n",
    " - Use #2 but also cache the results of the filtered query in a cache table (not mat.view)\n",
    " \n"
   ]
  },
  {
   "cell_type": "code",
   "execution_count": 1,
   "id": "28926b6d",
   "metadata": {},
   "outputs": [],
   "source": [
    "#import libraries\n",
    "from psycopg2.pool import ThreadedConnectionPool"
   ]
  },
  {
   "cell_type": "code",
   "execution_count": null,
   "metadata": {},
   "outputs": [],
   "source": []
  },
  {
   "cell_type": "code",
   "execution_count": 2,
   "id": "105acb09",
   "metadata": {},
   "outputs": [],
   "source": [
    "## env file for gcs upload\n",
    "env_path = \".env\"\n",
    "with open(env_path) as f:\n",
    "    env = {}\n",
    "    for line in f:\n",
    "        env_key, _val = line.split(\"=\", 1)\n",
    "        env_value = _val.split(\"\\n\")[0]\n",
    "        env[env_key] = env_value"
   ]
  },
  {
   "cell_type": "code",
   "execution_count": 3,
   "id": "f8ea5c39",
   "metadata": {},
   "outputs": [],
   "source": [
    "# conect to ddbb\n",
    "postgres_thread_pool = ThreadedConnectionPool(1, 50,\n",
    "                                              host=env['API_POSTGRES_HOST'],\n",
    "                                              port=env['API_POSTGRES_PORT'],\n",
    "                                              user=env['API_POSTGRES_USERNAME'],\n",
    "                                              password=env['API_POSTGRES_PASSWORD']\n",
    "                                              )\n",
    "#get list of sourcing records to iterate:\n",
    "conn = postgres_thread_pool.getconn()\n",
    "cursor = conn.cursor()"
   ]
  },
  {
   "cell_type": "code",
   "execution_count": 4,
   "id": "ca1f2d40",
   "metadata": {},
   "outputs": [],
   "source": [
    "def psql(query):\n",
    "    try:\n",
    "        cursor.execute(query)\n",
    "        return cursor.fetchall()\n",
    "    except Exception as e:\n",
    "        conn.rollback()\n",
    "        print(e)"
   ]
  },
  {
   "cell_type": "code",
   "execution_count": 5,
   "id": "1ed9a9d8",
   "metadata": {},
   "outputs": [
    {
     "name": "stdout",
     "output_type": "stream",
     "text": [
      "no results to fetch\n"
     ]
    }
   ],
   "source": [
    "## SELECT FIRST THE GEOREGION\n",
    "SQL_GET_H3_UNCOMPACT_GEO_REGION = \"\"\"\n",
    "CREATE OR REPLACE FUNCTION get_h3_uncompact_geo_region(geo_region_id uuid, h3_resolution int)\n",
    "RETURNS TABLE (h3index h3index) AS \n",
    "$$\n",
    "    SELECT h3_uncompact(geo_region.\"h3Compact\"::h3index[], h3_resolution) h3index\n",
    "    FROM geo_region WHERE geo_region.id = geo_region_id\n",
    "$$ \n",
    "LANGUAGE SQL;\n",
    "\"\"\"\n",
    "\n",
    "SQL_GET_H3_MATERIAL_TABLE_COLUMN = \"\"\"\n",
    "CREATE OR REPLACE FUNCTION get_h3_material_table_column(h3DataId uuid)\n",
    "RETURNS TABLE (h3_table_name varchar, h3_column_name varchar) AS\n",
    "$$\n",
    "    SELECT h3_data.\"h3tableName\", h3_data.\"h3columnName\"\n",
    "    FROM h3_data\n",
    "    WHERE h3_data.id = h3DataId \n",
    "    LIMIT 1;\n",
    "$$\n",
    "LANGUAGE SQL;\n",
    "\"\"\"\n",
    "\n",
    "SQL_GET_H3_DATA_OVER_GEO_REGION = SQL_GET_H3_MATERIAL_TABLE_COLUMN+SQL_GET_H3_UNCOMPACT_GEO_REGION+\"\"\"\n",
    "CREATE OR REPLACE FUNCTION get_h3_data_over_georegion(\n",
    "    geo_region_id uuid, \n",
    "    h3DataId uuid\n",
    ")\n",
    "RETURNS TABLE (h3index h3index, value float) AS\n",
    "$$\n",
    "    DECLARE\n",
    "        material_h3_table_name varchar;\n",
    "        material_h3_column_name varchar;\n",
    "        h3_resolution integer := 6;\n",
    "        value float;\n",
    "\n",
    "    BEGIN\n",
    "        -- Get h3data table name and column name for given material\n",
    "        SELECT * INTO material_h3_table_name, material_h3_column_name\n",
    "        FROM get_h3_material_table_column(h3DataId);\n",
    "\n",
    "        -- Sum table column over region\n",
    "        RETURN QUERY EXECUTE format(\n",
    "            'SELECT \n",
    "                h3grid.h3index,\n",
    "                h3grid.%I::float\n",
    "                FROM\n",
    "                    get_h3_uncompact_geo_region($1, $2) geo_region\n",
    "                    INNER JOIN %I h3grid ON h3grid.h3index = geo_region.h3index\n",
    "            WHERE h3grid.%I > 0\n",
    "            ', material_h3_column_name, material_h3_table_name, material_h3_column_name)\n",
    "            USING geo_region_id, h3_resolution;\n",
    "    END;\n",
    "$$\n",
    "LANGUAGE plpgsql;\n",
    "\"\"\"\n",
    "\n",
    "# CREATE FUNCTIONS\n",
    "psql(\n",
    "    SQL_GET_H3_DATA_OVER_GEO_REGION+\\\n",
    "    SQL_GET_H3_UNCOMPACT_GEO_REGION+\\\n",
    "\"\"\"COMMIT;\"\"\")\n"
   ]
  },
  {
   "cell_type": "code",
   "execution_count": 6,
   "id": "1a05ec35",
   "metadata": {},
   "outputs": [],
   "source": [
    "#filters that can be provided by the client\n",
    "indicator_id = 'e2c00251-fe31-4330-8c38-604535d795dc'\n",
    "filters = ''\n",
    "year = 2015"
   ]
  },
  {
   "cell_type": "markdown",
   "id": "99ec3cd9",
   "metadata": {},
   "source": [
    "# 1. Fully dynamic query"
   ]
  },
  {
   "cell_type": "code",
   "execution_count": 7,
   "id": "471d23ce",
   "metadata": {},
   "outputs": [
    {
     "data": {
      "text/plain": [
       "[('HashAggregate  (cost=74827.58..74829.58 rows=200 width=16) (actual time=30010.030..33328.922 rows=1034650 loops=1)',),\n",
       " ('  Group Key: get_h3_data_over_georegion.h3index',),\n",
       " ('  Batches: 69  Memory Usage: 4265kB  Disk Usage: 329656kB',),\n",
       " ('  ->  Nested Loop  (cost=850.26..51417.58 rows=2341000 width=32) (actual time=11.679..26551.331 rows=6592617 loops=1)',),\n",
       " ('        ->  Hash Join  (cost=850.01..4597.33 rows=2341 width=48) (actual time=7.047..52.692 rows=2320 loops=1)',),\n",
       " ('              Hash Cond: (sr.\"sourcingLocationId\" = sl.id)',),\n",
       " ('              ->  Hash Join  (cost=692.40..4433.57 rows=2341 width=48) (actual time=5.355..48.591 rows=2320 loops=1)',),\n",
       " ('                    Hash Cond: (ir.\"sourcingRecordId\" = sr.id)',),\n",
       " ('                    ->  Seq Scan on indicator_record ir  (cost=0.00..3673.56 rows=25751 width=48) (actual time=0.034..32.060 rows=25520 loops=1)',),\n",
       " ('                          Filter: ((scaler > \\'0\\'::double precision) AND (\"indicatorId\" = \\'e2c00251-fe31-4330-8c38-604535d795dc\\'::uuid))',),\n",
       " ('                          Rows Removed by Filter: 85184',),\n",
       " ('                    ->  Hash  (cost=660.95..660.95 rows=2516 width=32) (actual time=5.268..5.269 rows=2516 loops=1)',),\n",
       " ('                          Buckets: 4096  Batches: 1  Memory Usage: 190kB',),\n",
       " ('                          ->  Seq Scan on sourcing_records sr  (cost=0.00..660.95 rows=2516 width=32) (actual time=0.009..4.410 rows=2516 loops=1)',),\n",
       " ('                                Filter: (year = 2015)',),\n",
       " ('                                Rows Removed by Filter: 25160',),\n",
       " ('              ->  Hash  (cost=126.16..126.16 rows=2516 width=32) (actual time=1.633..1.634 rows=2516 loops=1)',),\n",
       " ('                    Buckets: 4096  Batches: 1  Memory Usage: 190kB',),\n",
       " ('                    ->  Seq Scan on sourcing_location sl  (cost=0.00..126.16 rows=2516 width=32) (actual time=0.007..0.843 rows=2516 loops=1)',),\n",
       " ('        ->  Function Scan on get_h3_data_over_georegion  (cost=0.25..10.25 rows=1000 width=16) (actual time=10.645..10.947 rows=2842 loops=2320)',),\n",
       " ('Planning Time: 1.864 ms',),\n",
       " ('Execution Time: 33445.842 ms',)]"
      ]
     },
     "execution_count": 7,
     "metadata": {},
     "output_type": "execute_result"
    }
   ],
   "source": [
    "DYNAMIC_QUERY = f\"\"\"\n",
    "    SELECT\n",
    "        h3data.h3index,\n",
    "        sum(h3data.value)\n",
    "    FROM sourcing_location sl\n",
    "    INNER JOIN sourcing_records sr ON sr.\"sourcingLocationId\" = sl.id \n",
    "    INNER JOIN indicator_record ir ON ir.\"sourcingRecordId\" = sr.id,\n",
    "    LATERAL (\n",
    "        SELECT\n",
    "            h3index,\n",
    "            ir.value/ir.scaler * value as value\n",
    "        FROM get_h3_data_over_georegion(sl.\"geoRegionId\", ir.\"materialH3DataId\")\n",
    "    ) h3data\n",
    "    WHERE sr.year = {year}\n",
    "        AND ir.\"indicatorId\" = '{indicator_id}'\n",
    "        AND ir.scaler > 0\n",
    "        {filters}\n",
    "GROUP by h3data.h3index\"\"\"\n",
    "psql(\"EXPLAIN ANALYZE \" + DYNAMIC_QUERY)"
   ]
  },
  {
   "cell_type": "markdown",
   "id": "38f1bc3e",
   "metadata": {},
   "source": [
    "# 2. Dynamic query combining records with the same geoRegion and h3DataId first"
   ]
  },
  {
   "cell_type": "code",
   "execution_count": 8,
   "id": "02ae6a17",
   "metadata": {},
   "outputs": [
    {
     "data": {
      "text/plain": [
       "[('HashAggregate  (cost=69045.31..69047.31 rows=200 width=16) (actual time=8586.190..9357.036 rows=1034650 loops=1)',),\n",
       " ('  Group Key: get_h3_data_over_georegion.h3index',),\n",
       " ('  Batches: 69  Memory Usage: 4265kB  Disk Usage: 62248kB',),\n",
       " ('  ->  Nested Loop  (cost=4620.99..51487.81 rows=2341000 width=24) (actual time=32.597..7958.810 rows=1441804 loops=1)',),\n",
       " ('        ->  HashAggregate  (cost=4620.74..4644.15 rows=2341 width=40) (actual time=31.508..32.957 rows=1437 loops=1)',),\n",
       " ('              Group Key: sl.\"geoRegionId\", ir.\"materialH3DataId\"',),\n",
       " ('              Batches: 1  Memory Usage: 369kB',),\n",
       " ('              ->  Hash Join  (cost=850.01..4597.33 rows=2341 width=48) (actual time=5.324..30.170 rows=2320 loops=1)',),\n",
       " ('                    Hash Cond: (sr.\"sourcingLocationId\" = sl.id)',),\n",
       " ('                    ->  Hash Join  (cost=692.40..4433.57 rows=2341 width=48) (actual time=4.084..28.040 rows=2320 loops=1)',),\n",
       " ('                          Hash Cond: (ir.\"sourcingRecordId\" = sr.id)',),\n",
       " ('                          ->  Seq Scan on indicator_record ir  (cost=0.00..3673.56 rows=25751 width=48) (actual time=0.008..19.230 rows=25520 loops=1)',),\n",
       " ('                                Filter: ((scaler > \\'0\\'::double precision) AND (\"indicatorId\" = \\'e2c00251-fe31-4330-8c38-604535d795dc\\'::uuid))',),\n",
       " ('                                Rows Removed by Filter: 85184',),\n",
       " ('                          ->  Hash  (cost=660.95..660.95 rows=2516 width=32) (actual time=4.063..4.064 rows=2516 loops=1)',),\n",
       " ('                                Buckets: 4096  Batches: 1  Memory Usage: 190kB',),\n",
       " ('                                ->  Seq Scan on sourcing_records sr  (cost=0.00..660.95 rows=2516 width=32) (actual time=0.006..3.547 rows=2516 loops=1)',),\n",
       " ('                                      Filter: (year = 2015)',),\n",
       " ('                                      Rows Removed by Filter: 25160',),\n",
       " ('                    ->  Hash  (cost=126.16..126.16 rows=2516 width=32) (actual time=1.228..1.228 rows=2516 loops=1)',),\n",
       " ('                          Buckets: 4096  Batches: 1  Memory Usage: 190kB',),\n",
       " ('                          ->  Seq Scan on sourcing_location sl  (cost=0.00..126.16 rows=2516 width=32) (actual time=0.028..0.772 rows=2516 loops=1)',),\n",
       " ('        ->  Function Scan on get_h3_data_over_georegion  (cost=0.25..10.25 rows=1000 width=16) (actual time=5.272..5.373 rows=1003 loops=1437)',),\n",
       " ('Planning Time: 0.404 ms',),\n",
       " ('Execution Time: 9413.911 ms',)]"
      ]
     },
     "execution_count": 8,
     "metadata": {},
     "output_type": "execute_result"
    }
   ],
   "source": [
    "DYNAMIC_QUERY_GROUPED_GEOREGION_H3DATA = f\"\"\"\n",
    "SELECT\n",
    "    h3data.h3index,\n",
    "    sum(h3data.value)\n",
    "FROM (\n",
    "    SELECT\n",
    "        sl.\"geoRegionId\", \n",
    "        ir.\"materialH3DataId\" as \"h3DataId\", \n",
    "        sum(ir.value/ir.scaler) as scaled_value\n",
    "    FROM sourcing_location sl\n",
    "    INNER JOIN sourcing_records sr ON sr.\"sourcingLocationId\" = sl.id \n",
    "    INNER JOIN indicator_record ir ON ir.\"sourcingRecordId\" = sr.id\n",
    "    WHERE sr.year = {year}\n",
    "        AND ir.\"indicatorId\" = '{indicator_id}'\n",
    "        AND ir.scaler > 0\n",
    "        {filters}\n",
    "    GROUP BY sl.\"geoRegionId\", \"h3DataId\"\n",
    ") reduced,\n",
    "LATERAL (\n",
    "    SELECT\n",
    "        h3index,\n",
    "        reduced.scaled_value * value as value\n",
    "    FROM get_h3_data_over_georegion(reduced.\"geoRegionId\", reduced.\"h3DataId\")\n",
    ") h3data\n",
    "GROUP by h3data.h3index\"\"\"\n",
    "psql(\"EXPLAIN ANALYZE \" + DYNAMIC_QUERY_GROUPED_GEOREGION_H3DATA)"
   ]
  },
  {
   "cell_type": "markdown",
   "id": "a4e51857",
   "metadata": {},
   "source": [
    "# 3.1 Create fully expanded materialized view of the h3data for each indicator record"
   ]
  },
  {
   "cell_type": "code",
   "execution_count": 9,
   "id": "786b4b53",
   "metadata": {},
   "outputs": [
    {
     "name": "stdout",
     "output_type": "stream",
     "text": [
      "no results to fetch\n"
     ]
    }
   ],
   "source": [
    "### NOTE: limiting to one year and indicator since it crashed my DB\n",
    "\n",
    "CREATE_FULL_MATERIALIZED_VIEW = f\"\"\"\n",
    "DROP MATERIALIZED VIEW IF EXISTS full_h3_data_over_geo_region;\n",
    "\n",
    "CREATE MATERIALIZED VIEW full_h3_data_over_geo_region AS\n",
    "SELECT\n",
    "    ir.id as \"indicatorRecordId\",\n",
    "    h3data.h3index as h3index,\n",
    "    h3data.value as h3value\n",
    "FROM sourcing_location sl\n",
    "INNER JOIN sourcing_records sr ON sr.\"sourcingLocationId\" = sl.id \n",
    "INNER JOIN indicator_record ir ON ir.\"sourcingRecordId\" = sr.id,\n",
    "LATERAL (\n",
    "    SELECT\n",
    "        h3index,\n",
    "        ir.value/ir.scaler * value as value\n",
    "    FROM get_h3_data_over_georegion(sl.\"geoRegionId\", ir.\"materialH3DataId\")\n",
    ") h3data\n",
    "WHERE sr.year = {year}                          -- REMOVE FOR FULL VIEW\n",
    "    AND ir.\"indicatorId\" = '{indicator_id}'     -- REMOVE FOR FULL VIEW\n",
    "    AND ir.scaler > 0;\n",
    "\n",
    "COMMIT;\n",
    "\"\"\"\n",
    "psql(CREATE_FULL_MATERIALIZED_VIEW)"
   ]
  },
  {
   "cell_type": "code",
   "execution_count": 10,
   "id": "35444177",
   "metadata": {},
   "outputs": [
    {
     "name": "stdout",
     "output_type": "stream",
     "text": [
      "no results to fetch\n"
     ]
    }
   ],
   "source": [
    "psql(\"\"\"\n",
    "DROP INDEX IF EXISTS idx_full_h3_data_over_geo_region;\n",
    "CREATE INDEX idx_full_h3_data_over_geo_region ON full_h3_data_over_geo_region (\"indicatorRecordId\", \"h3index\");\n",
    "COMMIT;\n",
    "\"\"\")"
   ]
  },
  {
   "cell_type": "code",
   "execution_count": 11,
   "id": "a1f353d6",
   "metadata": {},
   "outputs": [
    {
     "data": {
      "text/plain": [
       "[('HashAggregate  (cost=141791.04..141793.04 rows=200 width=16) (actual time=7973.957..10489.259 rows=1034651 loops=1)',),\n",
       " ('  Group Key: h3data.h3index',),\n",
       " ('  Batches: 69  Memory Usage: 4265kB  Disk Usage: 232592kB',),\n",
       " ('  ->  Hash Join  (cost=4556.17..141034.14 rows=151381 width=16) (actual time=48.318..5058.983 rows=6592814 loops=1)',),\n",
       " ('        Hash Cond: (sr.\"sourcingLocationId\" = sl.id)',),\n",
       " ('        ->  Hash Join  (cost=4438.70..140518.63 rows=151381 width=32) (actual time=31.275..3744.770 rows=6592814 loops=1)',),\n",
       " ('              Hash Cond: (ir.\"sourcingRecordId\" = sr.id)',),\n",
       " ('              ->  Hash Right Join  (cost=3746.30..135454.76 rows=1665067 width=32) (actual time=26.326..2427.000 rows=6617974 loops=1)',),\n",
       " ('                    Hash Cond: (h3data.\"indicatorRecordId\" = ir.id)',),\n",
       " ('                    ->  Seq Scan on full_h3_data_over_geo_region h3data  (cost=0.00..114402.17 rows=6592617 width=32) (actual time=0.035..780.131 rows=6592617 loops=1)',),\n",
       " ('                    ->  Hash  (cost=3396.80..3396.80 rows=27960 width=32) (actual time=26.257..26.259 rows=27676 loops=1)',),\n",
       " ('                          Buckets: 32768  Batches: 1  Memory Usage: 1986kB',),\n",
       " ('                          ->  Seq Scan on indicator_record ir  (cost=0.00..3396.80 rows=27960 width=32) (actual time=0.020..19.068 rows=27676 loops=1)',),\n",
       " ('                                Filter: (\"indicatorId\" = \\'e2c00251-fe31-4330-8c38-604535d795dc\\'::uuid)',),\n",
       " ('                                Rows Removed by Filter: 83028',),\n",
       " ('              ->  Hash  (cost=660.95..660.95 rows=2516 width=32) (actual time=4.938..4.939 rows=2516 loops=1)',),\n",
       " ('                    Buckets: 4096  Batches: 1  Memory Usage: 190kB',),\n",
       " ('                    ->  Seq Scan on sourcing_records sr  (cost=0.00..660.95 rows=2516 width=32) (actual time=0.015..4.242 rows=2516 loops=1)',),\n",
       " ('                          Filter: (year = 2015)',),\n",
       " ('                          Rows Removed by Filter: 25160',),\n",
       " ('        ->  Hash  (cost=86.02..86.02 rows=2516 width=16) (actual time=17.035..17.036 rows=2516 loops=1)',),\n",
       " ('              Buckets: 4096  Batches: 1  Memory Usage: 150kB',),\n",
       " ('              ->  Index Only Scan using \"PK_69b5898173510d95ff6acea7d86\" on sourcing_location sl  (cost=0.28..86.02 rows=2516 width=16) (actual time=0.018..0.276 rows=2516 loops=1)',),\n",
       " ('                    Heap Fetches: 0',),\n",
       " ('Planning Time: 0.777 ms',),\n",
       " ('JIT:',),\n",
       " ('  Functions: 36',),\n",
       " ('  Options: Inlining false, Optimization false, Expressions true, Deforming true',),\n",
       " ('  Timing: Generation 3.214 ms, Inlining 0.000 ms, Optimization 1.097 ms, Emission 18.230 ms, Total 22.541 ms',),\n",
       " ('Execution Time: 10628.680 ms',)]"
      ]
     },
     "execution_count": 11,
     "metadata": {},
     "output_type": "execute_result"
    }
   ],
   "source": [
    "# 2.2 Query fully expanded materialized view of the h3data for each indicator record\n",
    "QUERY_FULL_MATERIALIZED_VIEW = f\"\"\"\n",
    "    SELECT\n",
    "        h3data.h3index,\n",
    "        sum(h3data.h3value)\n",
    "    FROM sourcing_location sl\n",
    "    INNER JOIN sourcing_records sr ON sr.\"sourcingLocationId\" = sl.id \n",
    "    INNER JOIN indicator_record ir ON ir.\"sourcingRecordId\" = sr.id\n",
    "    LEFT JOIN full_h3_data_over_geo_region h3data ON h3data.\"indicatorRecordId\" = ir.id\n",
    "    WHERE \n",
    "        sr.year = {year} AND\n",
    "        ir.\"indicatorId\" = '{indicator_id}'\n",
    "        {filters}\n",
    "    GROUP by h3data.h3index\n",
    "\"\"\"\n",
    "psql(\"EXPLAIN ANALYZE \"+QUERY_FULL_MATERIALIZED_VIEW)"
   ]
  },
  {
   "cell_type": "markdown",
   "id": "3859ff01",
   "metadata": {},
   "source": [
    "# 4.1 Create materialized view of h3data for each unique geoRegion and h3DataId"
   ]
  },
  {
   "cell_type": "code",
   "execution_count": 12,
   "id": "5bb01da6",
   "metadata": {},
   "outputs": [
    {
     "name": "stdout",
     "output_type": "stream",
     "text": [
      "no results to fetch\n"
     ]
    }
   ],
   "source": [
    "\n",
    "CREATE_MATERIALIZED_VIEW_GEOREGION_H3DATA = f\"\"\"\n",
    "DROP MATERIALIZED VIEW IF EXISTS georegion_h3data;\n",
    "\n",
    "CREATE MATERIALIZED VIEW georegion_h3data AS\n",
    "SELECT\n",
    "    reduced.\"geoRegionId\" as \"geoRegionId\", \n",
    "    reduced.\"h3DataId\" as \"h3DataId\",\n",
    "    h3data.\"h3index\" as \"h3index\",\n",
    "    h3data.value as value\n",
    "FROM (\n",
    "    SELECT DISTINCT\n",
    "        sl.\"geoRegionId\" as \"geoRegionId\", \n",
    "        ir.\"materialH3DataId\" as \"h3DataId\"\n",
    "    FROM sourcing_location sl\n",
    "    LEFT JOIN sourcing_records sr ON sr.\"sourcingLocationId\" = sl.\"id\"\n",
    "    LEFT JOIN indicator_record ir ON ir.\"sourcingRecordId\" = sr.\"id\"\n",
    ") reduced,\n",
    "LATERAL (\n",
    "    SELECT\n",
    "        h3index,\n",
    "        value\n",
    "    FROM get_h3_data_over_georegion(reduced.\"geoRegionId\", reduced.\"h3DataId\")\n",
    ") h3data;\n",
    "\n",
    "COMMIT;\n",
    "\"\"\"\n",
    "psql(CREATE_MATERIALIZED_VIEW_GEOREGION_H3DATA)"
   ]
  },
  {
   "cell_type": "code",
   "execution_count": 13,
   "id": "2b07cae2",
   "metadata": {},
   "outputs": [
    {
     "data": {
      "text/plain": [
       "[('HashAggregate  (cost=40892.58..40894.58 rows=200 width=16) (actual time=1451.376..2175.502 rows=1034651 loops=1)',),\n",
       " ('  Group Key: h3data.h3index',),\n",
       " ('  Batches: 69  Memory Usage: 4265kB  Disk Usage: 57552kB',),\n",
       " ('  ->  Hash Right Join  (cost=4702.68..40258.06 rows=84602 width=24) (actual time=34.093..763.479 rows=1441805 loops=1)',),\n",
       " ('        Hash Cond: ((h3data.\"geoRegionId\" = reduced.\"geoRegionId\") AND (h3data.\"h3DataId\" = reduced.\"h3DataId\"))',),\n",
       " ('        ->  Seq Scan on georegion_h3data h3data  (cost=0.00..27965.70 rows=1445570 width=48) (actual time=0.024..245.088 rows=1445519 loops=1)',),\n",
       " ('        ->  Hash  (cost=4667.56..4667.56 rows=2341 width=40) (actual time=34.062..34.068 rows=1437 loops=1)',),\n",
       " ('              Buckets: 4096  Batches: 1  Memory Usage: 134kB',),\n",
       " ('              ->  Subquery Scan on reduced  (cost=4620.74..4667.56 rows=2341 width=40) (actual time=33.257..33.789 rows=1437 loops=1)',),\n",
       " ('                    ->  HashAggregate  (cost=4620.74..4644.15 rows=2341 width=40) (actual time=33.256..33.580 rows=1437 loops=1)',),\n",
       " ('                          Group Key: sl.\"geoRegionId\", ir.\"materialH3DataId\"',),\n",
       " ('                          Batches: 1  Memory Usage: 369kB',),\n",
       " ('                          ->  Hash Join  (cost=850.01..4597.33 rows=2341 width=48) (actual time=6.352..31.958 rows=2320 loops=1)',),\n",
       " ('                                Hash Cond: (sr.\"sourcingLocationId\" = sl.id)',),\n",
       " ('                                ->  Hash Join  (cost=692.40..4433.57 rows=2341 width=48) (actual time=4.788..29.474 rows=2320 loops=1)',),\n",
       " ('                                      Hash Cond: (ir.\"sourcingRecordId\" = sr.id)',),\n",
       " ('                                      ->  Seq Scan on indicator_record ir  (cost=0.00..3673.56 rows=25751 width=48) (actual time=0.008..19.638 rows=25520 loops=1)',),\n",
       " ('                                            Filter: ((scaler > \\'0\\'::double precision) AND (\"indicatorId\" = \\'e2c00251-fe31-4330-8c38-604535d795dc\\'::uuid))',),\n",
       " ('                                            Rows Removed by Filter: 85184',),\n",
       " ('                                      ->  Hash  (cost=660.95..660.95 rows=2516 width=32) (actual time=4.768..4.769 rows=2516 loops=1)',),\n",
       " ('                                            Buckets: 4096  Batches: 1  Memory Usage: 190kB',),\n",
       " ('                                            ->  Seq Scan on sourcing_records sr  (cost=0.00..660.95 rows=2516 width=32) (actual time=0.006..4.067 rows=2516 loops=1)',),\n",
       " ('                                                  Filter: (year = 2015)',),\n",
       " ('                                                  Rows Removed by Filter: 25160',),\n",
       " ('                                ->  Hash  (cost=126.16..126.16 rows=2516 width=32) (actual time=1.558..1.559 rows=2516 loops=1)',),\n",
       " ('                                      Buckets: 4096  Batches: 1  Memory Usage: 190kB',),\n",
       " ('                                      ->  Seq Scan on sourcing_location sl  (cost=0.00..126.16 rows=2516 width=32) (actual time=0.010..0.866 rows=2516 loops=1)',),\n",
       " ('Planning Time: 0.644 ms',),\n",
       " ('Execution Time: 2230.483 ms',)]"
      ]
     },
     "execution_count": 13,
     "metadata": {},
     "output_type": "execute_result"
    }
   ],
   "source": [
    "# 4.2 query materialized view of h3data for each georegion and h3dataid\n",
    "QUERY_MATERIALIZED_VIEW_JOIN_GEOREGION_H3DATA = f\"\"\"\n",
    "SELECT\n",
    "    h3data.h3index,\n",
    "    sum(h3data.value * reduced.scaled_value)\n",
    "FROM (\n",
    "    SELECT\n",
    "        sl.\"geoRegionId\", \n",
    "        ir.\"materialH3DataId\" as \"h3DataId\", \n",
    "        sum(ir.value/ir.scaler) as scaled_value\n",
    "    FROM sourcing_location sl\n",
    "    INNER JOIN sourcing_records sr ON sr.\"sourcingLocationId\" = sl.id \n",
    "    INNER JOIN indicator_record ir ON ir.\"sourcingRecordId\" = sr.id\n",
    "    WHERE sr.year = {year}\n",
    "        AND ir.\"indicatorId\" = '{indicator_id}'\n",
    "        AND ir.scaler > 0\n",
    "        {filters}\n",
    "    GROUP BY sl.\"geoRegionId\", \"h3DataId\"\n",
    ") reduced\n",
    "LEFT JOIN georegion_h3data h3data \n",
    "    ON h3data.\"geoRegionId\" = reduced.\"geoRegionId\" \n",
    "    AND h3data.\"h3DataId\" = reduced.\"h3DataId\"\n",
    "GROUP by h3data.h3index\"\"\"\n",
    "psql(\"EXPLAIN ANALYZE \"+QUERY_MATERIALIZED_VIEW_JOIN_GEOREGION_H3DATA)"
   ]
  },
  {
   "cell_type": "markdown",
   "id": "1db4a919",
   "metadata": {},
   "source": [
    "# 5.1 Same as 4 but with added index"
   ]
  },
  {
   "cell_type": "code",
   "execution_count": 14,
   "id": "b6f55c9d",
   "metadata": {},
   "outputs": [
    {
     "name": "stdout",
     "output_type": "stream",
     "text": [
      "no results to fetch\n"
     ]
    }
   ],
   "source": [
    "CREATE_MATERIALIZED_VIEW_GEOREGION_H3DATA_WITH_INDEX = \"\"\"\n",
    "DROP MATERIALIZED VIEW IF EXISTS georegion_h3data_indexed;\n",
    "\n",
    "CREATE MATERIALIZED VIEW georegion_h3data_indexed AS\n",
    "SELECT\n",
    "    reduced.\"geoRegionId\" as \"geoRegionId\", \n",
    "    reduced.\"h3DataId\" as \"h3DataId\",\n",
    "    h3data.\"h3index\" as \"h3index\",\n",
    "    h3data.value as value\n",
    "FROM (\n",
    "    SELECT DISTINCT\n",
    "        sl.\"geoRegionId\" as \"geoRegionId\", \n",
    "        ir.\"materialH3DataId\" as \"h3DataId\"\n",
    "    FROM sourcing_location sl\n",
    "    LEFT JOIN sourcing_records sr ON sr.\"sourcingLocationId\" = sl.\"id\"\n",
    "    LEFT JOIN indicator_record ir ON ir.\"sourcingRecordId\" = sr.\"id\"\n",
    ") reduced,\n",
    "LATERAL (\n",
    "    SELECT\n",
    "        h3index,\n",
    "        value\n",
    "    FROM get_h3_data_over_georegion(reduced.\"geoRegionId\", reduced.\"h3DataId\")\n",
    ") h3data;\n",
    "\n",
    "DROP INDEX IF EXISTS idx_georegion_h3data_indexed;\n",
    "CREATE INDEX idx_georegion_h3data_indexed ON georegion_h3data_indexed (\"geoRegionId\", \"h3DataId\", \"h3index\") INCLUDE (\"value\");\n",
    "\n",
    "COMMIT;\n",
    "\"\"\"\n",
    "psql(CREATE_MATERIALIZED_VIEW_GEOREGION_H3DATA_WITH_INDEX)"
   ]
  },
  {
   "cell_type": "code",
   "execution_count": 15,
   "id": "4e6fa599",
   "metadata": {},
   "outputs": [
    {
     "data": {
      "text/plain": [
       "[('HashAggregate  (cost=40891.78..40893.78 rows=200 width=16) (actual time=1489.562..2197.623 rows=1034651 loops=1)',),\n",
       " ('  Group Key: h3data.h3index',),\n",
       " ('  Batches: 69  Memory Usage: 4265kB  Disk Usage: 57552kB',),\n",
       " ('  ->  Hash Right Join  (cost=4702.68..40257.28 rows=84599 width=24) (actual time=34.767..793.682 rows=1441805 loops=1)',),\n",
       " ('        Hash Cond: ((h3data.\"geoRegionId\" = reduced.\"geoRegionId\") AND (h3data.\"h3DataId\" = reduced.\"h3DataId\"))',),\n",
       " ('        ->  Seq Scan on georegion_h3data_indexed h3data  (cost=0.00..27965.19 rows=1445519 width=48) (actual time=0.029..263.701 rows=1445519 loops=1)',),\n",
       " ('        ->  Hash  (cost=4667.56..4667.56 rows=2341 width=40) (actual time=34.730..34.736 rows=1437 loops=1)',),\n",
       " ('              Buckets: 4096  Batches: 1  Memory Usage: 134kB',),\n",
       " ('              ->  Subquery Scan on reduced  (cost=4620.74..4667.56 rows=2341 width=40) (actual time=33.920..34.422 rows=1437 loops=1)',),\n",
       " ('                    ->  HashAggregate  (cost=4620.74..4644.15 rows=2341 width=40) (actual time=33.919..34.246 rows=1437 loops=1)',),\n",
       " ('                          Group Key: sl.\"geoRegionId\", ir.\"materialH3DataId\"',),\n",
       " ('                          Batches: 1  Memory Usage: 369kB',),\n",
       " ('                          ->  Hash Join  (cost=850.01..4597.33 rows=2341 width=48) (actual time=5.311..32.592 rows=2320 loops=1)',),\n",
       " ('                                Hash Cond: (sr.\"sourcingLocationId\" = sl.id)',),\n",
       " ('                                ->  Hash Join  (cost=692.40..4433.57 rows=2341 width=48) (actual time=3.427..29.559 rows=2320 loops=1)',),\n",
       " ('                                      Hash Cond: (ir.\"sourcingRecordId\" = sr.id)',),\n",
       " ('                                      ->  Seq Scan on indicator_record ir  (cost=0.00..3673.56 rows=25751 width=48) (actual time=0.011..20.897 rows=25520 loops=1)',),\n",
       " ('                                            Filter: ((scaler > \\'0\\'::double precision) AND (\"indicatorId\" = \\'e2c00251-fe31-4330-8c38-604535d795dc\\'::uuid))',),\n",
       " ('                                            Rows Removed by Filter: 85184',),\n",
       " ('                                      ->  Hash  (cost=660.95..660.95 rows=2516 width=32) (actual time=3.399..3.400 rows=2516 loops=1)',),\n",
       " ('                                            Buckets: 4096  Batches: 1  Memory Usage: 190kB',),\n",
       " ('                                            ->  Seq Scan on sourcing_records sr  (cost=0.00..660.95 rows=2516 width=32) (actual time=0.049..2.938 rows=2516 loops=1)',),\n",
       " ('                                                  Filter: (year = 2015)',),\n",
       " ('                                                  Rows Removed by Filter: 25160',),\n",
       " ('                                ->  Hash  (cost=126.16..126.16 rows=2516 width=32) (actual time=1.875..1.876 rows=2516 loops=1)',),\n",
       " ('                                      Buckets: 4096  Batches: 1  Memory Usage: 190kB',),\n",
       " ('                                      ->  Seq Scan on sourcing_location sl  (cost=0.00..126.16 rows=2516 width=32) (actual time=0.019..1.268 rows=2516 loops=1)',),\n",
       " ('Planning Time: 0.515 ms',),\n",
       " ('Execution Time: 2250.736 ms',)]"
      ]
     },
     "execution_count": 15,
     "metadata": {},
     "output_type": "execute_result"
    }
   ],
   "source": [
    "# 5.2 Same as 4 but with added index\n",
    "QUERY_MATERIALIZED_VIEW_JOIN_GEOREGION_H3DATA_WITH_INDEX = f\"\"\"\n",
    "SELECT\n",
    "    h3data.h3index,\n",
    "    sum(h3data.value * reduced.scaled_value)\n",
    "FROM (\n",
    "    SELECT\n",
    "        sl.\"geoRegionId\", \n",
    "        ir.\"materialH3DataId\" as \"h3DataId\", \n",
    "        sum(ir.value/ir.scaler) as scaled_value\n",
    "    FROM sourcing_location sl\n",
    "    INNER JOIN sourcing_records sr ON sr.\"sourcingLocationId\" = sl.id \n",
    "    INNER JOIN indicator_record ir ON ir.\"sourcingRecordId\" = sr.id\n",
    "    WHERE sr.year = {year}\n",
    "        AND ir.\"indicatorId\" = '{indicator_id}'\n",
    "        AND ir.scaler > 0\n",
    "        {filters}\n",
    "    GROUP BY sl.\"geoRegionId\", \"h3DataId\"\n",
    ") reduced\n",
    "LEFT JOIN georegion_h3data_indexed h3data \n",
    "    ON h3data.\"geoRegionId\" = reduced.\"geoRegionId\" \n",
    "    AND h3data.\"h3DataId\" = reduced.\"h3DataId\"\n",
    "GROUP by h3data.h3index\"\"\"\n",
    "\n",
    "psql(\"EXPLAIN ANALYZE \"+QUERY_MATERIALIZED_VIEW_JOIN_GEOREGION_H3DATA_WITH_INDEX)"
   ]
  },
  {
   "cell_type": "code",
   "execution_count": null,
   "id": "ca064da8",
   "metadata": {},
   "outputs": [],
   "source": []
  }
 ],
 "metadata": {
  "interpreter": {
   "hash": "fa6d50660219e189aae246483b3f4fae430d7a652a1b600fb04ce984f1f1881d"
  },
  "kernelspec": {
   "display_name": "Python 3.9.8 64-bit",
   "language": "python",
   "name": "python3"
  },
  "language_info": {
   "codemirror_mode": {
    "name": "ipython",
    "version": 3
   },
   "file_extension": ".py",
   "mimetype": "text/x-python",
   "name": "python",
   "nbconvert_exporter": "python",
   "pygments_lexer": "ipython3",
   "version": "3.9.8"
  }
 },
 "nbformat": 4,
 "nbformat_minor": 5
}
