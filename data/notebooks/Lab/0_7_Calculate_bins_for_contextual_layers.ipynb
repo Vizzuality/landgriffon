{
 "cells": [
  {
   "cell_type": "code",
   "execution_count": 72,
   "id": "a6d5c4fe-0e7f-4cc0-8c04-d052d90123b8",
   "metadata": {},
   "outputs": [],
   "source": [
    "import json\n",
    "import os\n",
    "\n",
    "import matplotlib.pyplot as plt\n",
    "import numpy as np\n",
    "import pandas as pd\n",
    "from mapclassify import NaturalBreaks\n",
    "from psycopg import connect\n",
    "\n",
    "env_path = \".env\"\n",
    "with open(env_path) as f:\n",
    "    env = {}\n",
    "    for line in f.readlines():\n",
    "        if line.startswith(\"#\"):\n",
    "            continue\n",
    "        env_key, _val = line.split(\"=\", 1)\n",
    "        env_value = _val.split(\"\\n\")[0]\n",
    "        env[env_key] = env_value\n",
    "\n",
    "connection_str = (\n",
    "    f'postgresql://{env[\"API_POSTGRES_USERNAME\"]}:{env[\"API_POSTGRES_PASSWORD\"]}@'\n",
    "    f'{env[\"API_POSTGRES_HOST\"]}:{env[\"API_POSTGRES_PORT\"]}/{env[\"API_POSTGRES_DATABASE\"]}'\n",
    ")"
   ]
  },
  {
   "cell_type": "code",
   "execution_count": 67,
   "id": "717b2420-e358-4155-aed3-2b1e57a6e679",
   "metadata": {},
   "outputs": [],
   "source": [
    "def get_jenk_breaks(table: str, column: str, agg_func: str):\n",
    "    if agg_func == \"sum\":\n",
    "        agg_line = f'sum(\"{column}\") v'\n",
    "    elif agg_func == \"mean\":\n",
    "        agg_line = f'avg(\"{column}\") v'\n",
    "    elif agg_func == \"mode\":\n",
    "        agg_line = f'mode() within group (order by \"{column}\") as v'\n",
    "    else:\n",
    "        raise ValueError(f\"Agg function {agg_func} is not recognized\")\n",
    "\n",
    "    with connect(connection_str) as conn:\n",
    "        sql = f\"\"\"\n",
    "        select \n",
    "            h3_to_parent(t.h3index, 4) h3idx,\n",
    "            {agg_line}\n",
    "        from {table} t\n",
    "        group by h3idx;\n",
    "        \"\"\"\n",
    "        df = pd.read_sql(sql, conn)\n",
    "\n",
    "    breaks = NaturalBreaks(df[\"v\"].dropna(), k=6)\n",
    "    fig, ax = plt.subplots()\n",
    "    ax.hist(df[\"v\"], bins=100, log=True)\n",
    "    for bin_ in breaks.bins:\n",
    "        plt.axvline(bin_, c=\"r\")\n",
    "    print(breaks)\n",
    "    return ax"
   ]
  },
  {
   "cell_type": "markdown",
   "id": "036014c4-49c1-4517-a369-46c1924a35b2",
   "metadata": {},
   "source": [
    "## Biodiversity"
   ]
  },
  {
   "cell_type": "code",
   "execution_count": 68,
   "id": "817b0b7f-8862-4fbf-af00-fa297845e6a3",
   "metadata": {},
   "outputs": [
    {
     "name": "stderr",
     "output_type": "stream",
     "text": [
      "/home/biel/miniconda3/envs/landgriffon/lib/python3.10/site-packages/pandas/io/sql.py:761: UserWarning: pandas only support SQLAlchemy connectable(engine/connection) ordatabase string URI or sqlite3 DBAPI2 connectionother DBAPI2 objects are not tested, please consider using SQLAlchemy\n",
      "  warnings.warn(\n"
     ]
    },
    {
     "name": "stdout",
     "output_type": "stream",
     "text": [
      "NaturalBreaks           \n",
      "\n",
      "    Interval       Count\n",
      "------------------------\n",
      "[  0.02,   3.98] | 60422\n",
      "(  3.98,  12.80] | 11666\n",
      "( 12.80,  31.66] |  2610\n",
      "( 31.66,  73.36] |   410\n",
      "( 73.36, 141.71] |    75\n",
      "(141.71, 310.35] |     9\n"
     ]
    },
    {
     "data": {
      "image/png": "[encoded data removed]",
      "text/plain": [
       "<Figure size 432x288 with 1 Axes>"
      ]
     },
     "metadata": {
      "needs_background": "light"
     },
     "output_type": "display_data"
    }
   ],
   "source": [
    "get_jenk_breaks(\"h3_grid_bio_global\", \"lciaPslRPermanentCrops\", \"mean\");"
   ]
  },
  {
   "cell_type": "markdown",
   "id": "31b804b1-bd05-4858-9659-c18eefc51d25",
   "metadata": {},
   "source": [
    "## Deforestation"
   ]
  },
  {
   "cell_type": "code",
   "execution_count": 63,
   "id": "73f68e2c-a53a-41fe-8300-ea5efbfbf75b",
   "metadata": {},
   "outputs": [
    {
     "name": "stderr",
     "output_type": "stream",
     "text": [
      "/home/biel/miniconda3/envs/landgriffon/lib/python3.10/site-packages/pandas/io/sql.py:761: UserWarning: pandas only support SQLAlchemy connectable(engine/connection) ordatabase string URI or sqlite3 DBAPI2 connectionother DBAPI2 objects are not tested, please consider using SQLAlchemy\n",
      "  warnings.warn(\n",
      "/home/biel/miniconda3/envs/landgriffon/lib/python3.10/site-packages/mapclassify/classifiers.py:1718: UserWarning: Warning: Not enough unique values in array to form k classes\n",
      "  Warn(ms, UserWarning)\n",
      "/home/biel/miniconda3/envs/landgriffon/lib/python3.10/site-packages/mapclassify/classifiers.py:1719: UserWarning: Warning: setting k to 2\n",
      "  Warn(\"Warning: setting k to %d\" % uvk, UserWarning)\n"
     ]
    },
    {
     "name": "stdout",
     "output_type": "stream",
     "text": [
      "NaturalBreaks        \n",
      "\n",
      "  Interval      Count\n",
      "---------------------\n",
      "[0.00, 0.00] | 240157\n",
      "(0.00, 1.00] |  27084\n"
     ]
    },
    {
     "data": {
      "image/png": "[encoded data removed]",
      "text/plain": [
       "<Figure size 432x288 with 1 Axes>"
      ]
     },
     "metadata": {
      "needs_background": "light"
     },
     "output_type": "display_data"
    }
   ],
   "source": [
    "get_jenk_breaks(\"h3_grid_deforestation_global\", \"hansenLoss2019\", \"mode\");"
   ]
  },
  {
   "cell_type": "markdown",
   "id": "f34e3410-4a31-4de8-94e6-4725e8bd163a",
   "metadata": {},
   "source": [
    "## Carbon"
   ]
  },
  {
   "cell_type": "code",
   "execution_count": 65,
   "id": "e5f63ddb-dce6-4670-8f09-8a1628102f24",
   "metadata": {},
   "outputs": [
    {
     "name": "stderr",
     "output_type": "stream",
     "text": [
      "/home/biel/miniconda3/envs/landgriffon/lib/python3.10/site-packages/pandas/io/sql.py:761: UserWarning: pandas only support SQLAlchemy connectable(engine/connection) ordatabase string URI or sqlite3 DBAPI2 connectionother DBAPI2 objects are not tested, please consider using SQLAlchemy\n",
      "  warnings.warn(\n"
     ]
    },
    {
     "name": "stdout",
     "output_type": "stream",
     "text": [
      "NaturalBreaks               \n",
      "\n",
      "      Interval         Count\n",
      "----------------------------\n",
      "[    0.00,   159.20] | 46956\n",
      "(  159.20,   823.71] |  4225\n",
      "(  823.71,  2454.54] |   448\n",
      "( 2454.54,  6013.14] |   143\n",
      "( 6013.14, 12167.56] |    53\n",
      "(12167.56, 25058.65] |    12\n"
     ]
    },
    {
     "data": {
      "image/png": "[encoded data removed]",
      "text/plain": [
       "<Figure size 432x288 with 1 Axes>"
      ]
     },
     "metadata": {
      "needs_background": "light"
     },
     "output_type": "display_data"
    }
   ],
   "source": [
    "get_jenk_breaks(\"h3_grid_carbon_global\", \"earthstat2000GlobalHectareEmissions\", \"sum\");"
   ]
  },
  {
   "cell_type": "markdown",
   "id": "d9c5aab8-3175-4093-9746-1ab47c583627",
   "metadata": {},
   "source": [
    "## Water"
   ]
  },
  {
   "cell_type": "code",
   "execution_count": 71,
   "id": "9d2cca0e-dfcb-4e34-b3bc-b4e5e86f87d7",
   "metadata": {},
   "outputs": [
    {
     "name": "stderr",
     "output_type": "stream",
     "text": [
      "/home/biel/miniconda3/envs/landgriffon/lib/python3.10/site-packages/pandas/io/sql.py:761: UserWarning: pandas only support SQLAlchemy connectable(engine/connection) ordatabase string URI or sqlite3 DBAPI2 connectionother DBAPI2 objects are not tested, please consider using SQLAlchemy\n",
      "  warnings.warn(\n"
     ]
    },
    {
     "name": "stdout",
     "output_type": "stream",
     "text": [
      "NaturalBreaks                               \n",
      "\n",
      "              Interval                 Count\n",
      "--------------------------------------------\n",
      "[            1.37,   17492922000.00] | 33465\n",
      "(  17492922000.00,   78225230000.00] |   159\n",
      "(  78225230000.00,  196827190000.00] |    33\n",
      "( 196827190000.00,  430112240000.00] |    17\n",
      "( 430112240000.00,  719765300000.00] |     6\n",
      "( 719765300000.00, 1034112600000.00] |     2\n"
     ]
    },
    {
     "data": {
      "image/png": "[encoded data removed]",
      "text/plain": [
       "<Figure size 432x288 with 1 Axes>"
      ]
     },
     "metadata": {
      "needs_background": "light"
     },
     "output_type": "display_data"
    }
   ],
   "source": [
    "get_jenk_breaks(\"h3_grid_wf_global\", \"wfBltotMmyrT\", \"sum\");"
   ]
  },
  {
   "cell_type": "code",
   "execution_count": null,
   "id": "b5b0fe5b-0375-47e9-b40a-6145a2fb5bce",
   "metadata": {},
   "outputs": [],
   "source": []
  }
 ],
 "metadata": {
  "kernelspec": {
   "display_name": "Python 3 (ipykernel)",
   "language": "python",
   "name": "python3"
  },
  "language_info": {
   "codemirror_mode": {
    "name": "ipython",
    "version": 3
   },
   "file_extension": ".py",
   "mimetype": "text/x-python",
   "name": "python",
   "nbconvert_exporter": "python",
   "pygments_lexer": "ipython3",
   "version": "3.10.4"
  }
 },
 "nbformat": 4,
 "nbformat_minor": 5
}
